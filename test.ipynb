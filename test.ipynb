{
 "cells": [
  {
   "cell_type": "code",
   "execution_count": 1,
   "metadata": {
    "tags": []
   },
   "outputs": [],
   "source": [
    "#Import-------------------------------------------------------------------------------\n",
    "from io import StringIO, BytesIO\n",
    "import os\n",
    "import re\n",
    "from time import sleep\n",
    "import random\n",
    "from urllib import request\n",
    "import requests\n",
    "import chromedriver_autoinstaller\n",
    "from webdriver_manager.chrome import ChromeDriverManager\n",
    "from selenium.common.exceptions import NoSuchElementException\n",
    "from selenium import webdriver\n",
    "from selenium.webdriver.chrome.options import Options as ChromeOptions\n",
    "from selenium.webdriver.firefox.options import Options as FirefoxOptions\n",
    "from selenium.webdriver.chrome.service import Service\n",
    "import datetime\n",
    "import pandas as pd\n",
    "import platform\n",
    "from selenium.webdriver.common.keys import Keys\n",
    "\n",
    "from bs4 import BeautifulSoup\n",
    "\n",
    "from selenium.webdriver.support.wait import WebDriverWait\n",
    "from selenium.webdriver.support import expected_conditions as EC\n",
    "from selenium.webdriver.common.by import By\n",
    "import urllib\n",
    "from urllib.parse import quote\n",
    "\n",
    "options = ChromeOptions()\n",
    "options.add_argument('--headless')\n",
    "options.add_argument(\"--disable-gpu\")\n",
    "options.add_argument(\"--no-sandbox\") \n",
    "options.binary_location = '/usr/bin/chromium-browser'\n",
    "driver = webdriver.Chrome(options=options)"
   ]
  },
  {
   "cell_type": "code",
   "execution_count": 2,
   "metadata": {},
   "outputs": [
    {
     "name": "stdout",
     "output_type": "stream",
     "text": [
      "CHROME >= 115.0.5763.0, using mac-arm64 as architecture identifier\n"
     ]
    }
   ],
   "source": [
    "from src import const,utils,sqlite\n",
    "hashtag = '#絵かゆ'\n",
    "date = 14\n",
    "\n",
    "driver = utils.get_driver(False)\n",
    "url = utils.get_url(hashtag)\n",
    "driver.get(url)\n"
   ]
  },
  {
   "cell_type": "code",
   "execution_count": 3,
   "metadata": {},
   "outputs": [],
   "source": [
    "import datetime\n",
    "import re\n",
    "\n",
    "# 入力文字列\n",
    "#input_string = \"11分前\"  # または \"9月9日(土) 22:28\"\n",
    "def date_parse(input_string:str):\n",
    "    # 現在の日時を取得\n",
    "    current_time = datetime.datetime.now()\n",
    "\n",
    "    if (\"秒前\" in input_string) and (\"昨日\" not in input_string):\n",
    "        # \"分前\" を抽出して分数に変換\n",
    "        second_ago = int(input_string.split(\"秒前\")[0])\n",
    "        \n",
    "        # 指定された分数だけ過去の日時を計算\n",
    "        new_time = current_time - datetime.timedelta(seconds=second_ago)\n",
    "\n",
    "    elif (\"分前\" in input_string) and (\"昨日\" not in input_string):\n",
    "        # \"分前\" を抽出して分数に変換\n",
    "        minutes_ago = int(input_string.split(\"分前\")[0])\n",
    "        \n",
    "        # 指定された分数だけ過去の日時を計算\n",
    "        new_time = current_time - datetime.timedelta(minutes=minutes_ago)\n",
    "    elif \"昨日\" in input_string:\n",
    "        output_string = input_string.replace('昨日 ','')\n",
    "        #　昨日の日時を設定\n",
    "        time_parts = output_string.split(\":\")\n",
    "        new_time = current_time.replace(hour=int(time_parts[0]), minute=int(time_parts[1]), second=0)\n",
    "        #new_time = new_time + datetime.timedelta(days=-1)\n",
    "\n",
    "    elif (\":\" in input_string) and ('月' not in input_string):\n",
    "        # \"16:15\" のような場合、今日の日付に指定時刻を設定\n",
    "        time_parts = input_string.split(\":\")\n",
    "        new_time = current_time.replace(hour=int(time_parts[0]), minute=int(time_parts[1]), second=0)\n",
    "    else:\n",
    "        # \"9月9日(土) 22:28\" のような場合、指定されたフォーマットで日時を解析 9月9日(土) 22:28\n",
    "        output_string = re.sub(r'\\([^)]*\\)', '', input_string)\n",
    "        new_time = datetime.datetime.strptime(output_string, \"%m月%d日 %H:%M\")\n",
    "        new_time = new_time.replace(year=current_time.year)\n",
    "    return new_time"
   ]
  },
  {
   "cell_type": "code",
   "execution_count": 5,
   "metadata": {},
   "outputs": [
    {
     "name": "stderr",
     "output_type": "stream",
     "text": [
      "100%|██████████| 40/40 [00:00<00:00, 8108.46it/s]\n"
     ]
    },
    {
     "name": "stdout",
     "output_type": "stream",
     "text": [
      "tweet count -> 25\n"
     ]
    },
    {
     "name": "stderr",
     "output_type": "stream",
     "text": [
      "100%|██████████| 40/40 [00:00<00:00, 9762.71it/s]\n"
     ]
    },
    {
     "name": "stdout",
     "output_type": "stream",
     "text": [
      "tweet count -> 25\n"
     ]
    },
    {
     "name": "stderr",
     "output_type": "stream",
     "text": [
      "100%|██████████| 50/50 [00:00<00:00, 9626.59it/s]\n"
     ]
    },
    {
     "name": "stdout",
     "output_type": "stream",
     "text": [
      "tweet count -> 34\n"
     ]
    },
    {
     "name": "stderr",
     "output_type": "stream",
     "text": [
      "100%|██████████| 60/60 [00:00<00:00, 9904.30it/s]\n"
     ]
    },
    {
     "name": "stdout",
     "output_type": "stream",
     "text": [
      "tweet count -> 40\n"
     ]
    },
    {
     "name": "stderr",
     "output_type": "stream",
     "text": [
      "100%|██████████| 70/70 [00:00<00:00, 9102.79it/s]\n"
     ]
    },
    {
     "name": "stdout",
     "output_type": "stream",
     "text": [
      "tweet count -> 47\n"
     ]
    },
    {
     "name": "stderr",
     "output_type": "stream",
     "text": [
      "100%|██████████| 80/80 [00:00<00:00, 8981.62it/s]\n"
     ]
    },
    {
     "name": "stdout",
     "output_type": "stream",
     "text": [
      "tweet count -> 54\n"
     ]
    },
    {
     "name": "stderr",
     "output_type": "stream",
     "text": [
      "100%|██████████| 90/90 [00:00<00:00, 9052.67it/s]\n"
     ]
    },
    {
     "name": "stdout",
     "output_type": "stream",
     "text": [
      "tweet count -> 63\n"
     ]
    },
    {
     "name": "stderr",
     "output_type": "stream",
     "text": [
      "100%|██████████| 100/100 [00:00<00:00, 9459.84it/s]\n"
     ]
    },
    {
     "name": "stdout",
     "output_type": "stream",
     "text": [
      "tweet count -> 72\n"
     ]
    },
    {
     "name": "stderr",
     "output_type": "stream",
     "text": [
      "100%|██████████| 110/110 [00:00<00:00, 8418.92it/s]\n"
     ]
    },
    {
     "name": "stdout",
     "output_type": "stream",
     "text": [
      "tweet count -> 79\n"
     ]
    },
    {
     "name": "stderr",
     "output_type": "stream",
     "text": [
      "100%|██████████| 120/120 [00:00<00:00, 9833.86it/s]\n"
     ]
    },
    {
     "name": "stdout",
     "output_type": "stream",
     "text": [
      "tweet count -> 85\n"
     ]
    },
    {
     "name": "stderr",
     "output_type": "stream",
     "text": [
      "100%|██████████| 130/130 [00:00<00:00, 9419.70it/s]\n"
     ]
    },
    {
     "name": "stdout",
     "output_type": "stream",
     "text": [
      "tweet count -> 92\n"
     ]
    },
    {
     "name": "stderr",
     "output_type": "stream",
     "text": [
      "100%|██████████| 140/140 [00:00<00:00, 9409.24it/s]\n"
     ]
    },
    {
     "name": "stdout",
     "output_type": "stream",
     "text": [
      "tweet count -> 100\n"
     ]
    },
    {
     "name": "stderr",
     "output_type": "stream",
     "text": [
      "100%|██████████| 150/150 [00:00<00:00, 9278.20it/s]\n"
     ]
    },
    {
     "name": "stdout",
     "output_type": "stream",
     "text": [
      "tweet count -> 109\n"
     ]
    },
    {
     "name": "stderr",
     "output_type": "stream",
     "text": [
      "100%|██████████| 160/160 [00:00<00:00, 9207.12it/s]\n"
     ]
    },
    {
     "name": "stdout",
     "output_type": "stream",
     "text": [
      "tweet count -> 115\n"
     ]
    },
    {
     "name": "stderr",
     "output_type": "stream",
     "text": [
      "100%|██████████| 170/170 [00:00<00:00, 9283.66it/s]\n"
     ]
    },
    {
     "name": "stdout",
     "output_type": "stream",
     "text": [
      "tweet count -> 123\n"
     ]
    },
    {
     "name": "stderr",
     "output_type": "stream",
     "text": [
      "100%|██████████| 180/180 [00:00<00:00, 9381.36it/s]\n"
     ]
    },
    {
     "name": "stdout",
     "output_type": "stream",
     "text": [
      "tweet count -> 130\n"
     ]
    },
    {
     "name": "stderr",
     "output_type": "stream",
     "text": [
      "100%|██████████| 190/190 [00:00<00:00, 9634.85it/s]\n"
     ]
    },
    {
     "name": "stdout",
     "output_type": "stream",
     "text": [
      "tweet count -> 138\n"
     ]
    },
    {
     "name": "stderr",
     "output_type": "stream",
     "text": [
      "100%|██████████| 200/200 [00:00<00:00, 9683.37it/s]\n"
     ]
    },
    {
     "name": "stdout",
     "output_type": "stream",
     "text": [
      "tweet count -> 144\n"
     ]
    },
    {
     "name": "stderr",
     "output_type": "stream",
     "text": [
      "100%|██████████| 210/210 [00:00<00:00, 9477.02it/s]\n"
     ]
    },
    {
     "name": "stdout",
     "output_type": "stream",
     "text": [
      "tweet count -> 152\n"
     ]
    },
    {
     "name": "stderr",
     "output_type": "stream",
     "text": [
      "100%|██████████| 220/220 [00:00<00:00, 9709.65it/s]\n"
     ]
    },
    {
     "name": "stdout",
     "output_type": "stream",
     "text": [
      "tweet count -> 158\n"
     ]
    },
    {
     "name": "stderr",
     "output_type": "stream",
     "text": [
      "100%|██████████| 230/230 [00:00<00:00, 9250.69it/s]\n"
     ]
    },
    {
     "name": "stdout",
     "output_type": "stream",
     "text": [
      "tweet count -> 165\n"
     ]
    },
    {
     "name": "stderr",
     "output_type": "stream",
     "text": [
      "100%|██████████| 240/240 [00:00<00:00, 9164.12it/s]\n"
     ]
    },
    {
     "name": "stdout",
     "output_type": "stream",
     "text": [
      "tweet count -> 173\n"
     ]
    },
    {
     "name": "stderr",
     "output_type": "stream",
     "text": [
      "100%|██████████| 260/260 [00:00<00:00, 9333.12it/s]\n"
     ]
    },
    {
     "name": "stdout",
     "output_type": "stream",
     "text": [
      "tweet count -> 187\n"
     ]
    },
    {
     "name": "stderr",
     "output_type": "stream",
     "text": [
      "100%|██████████| 280/280 [00:00<00:00, 9534.52it/s]\n"
     ]
    },
    {
     "name": "stdout",
     "output_type": "stream",
     "text": [
      "tweet count -> 202\n"
     ]
    },
    {
     "name": "stderr",
     "output_type": "stream",
     "text": [
      "100%|██████████| 290/290 [00:00<00:00, 9475.55it/s]\n"
     ]
    },
    {
     "name": "stdout",
     "output_type": "stream",
     "text": [
      "tweet count -> 211\n"
     ]
    },
    {
     "name": "stderr",
     "output_type": "stream",
     "text": [
      "100%|██████████| 290/290 [00:00<00:00, 9122.43it/s]\n"
     ]
    },
    {
     "name": "stdout",
     "output_type": "stream",
     "text": [
      "tweet count -> 211\n"
     ]
    },
    {
     "name": "stderr",
     "output_type": "stream",
     "text": [
      "100%|██████████| 310/310 [00:00<00:00, 9650.45it/s]\n"
     ]
    },
    {
     "name": "stdout",
     "output_type": "stream",
     "text": [
      "tweet count -> 226\n"
     ]
    },
    {
     "name": "stderr",
     "output_type": "stream",
     "text": [
      "100%|██████████| 320/320 [00:00<00:00, 9506.51it/s]\n"
     ]
    },
    {
     "name": "stdout",
     "output_type": "stream",
     "text": [
      "tweet count -> 234\n"
     ]
    },
    {
     "name": "stderr",
     "output_type": "stream",
     "text": [
      "100%|██████████| 330/330 [00:00<00:00, 9505.73it/s]\n"
     ]
    },
    {
     "name": "stdout",
     "output_type": "stream",
     "text": [
      "tweet count -> 239\n"
     ]
    },
    {
     "name": "stderr",
     "output_type": "stream",
     "text": [
      "100%|██████████| 340/340 [00:00<00:00, 9589.62it/s]\n"
     ]
    },
    {
     "name": "stdout",
     "output_type": "stream",
     "text": [
      "tweet count -> 248\n"
     ]
    },
    {
     "name": "stderr",
     "output_type": "stream",
     "text": [
      "100%|██████████| 350/350 [00:00<00:00, 8954.59it/s]"
     ]
    },
    {
     "name": "stdout",
     "output_type": "stream",
     "text": [
      "tweet count -> 252\n",
      "datetime 2023-10-05 22:21:00\n",
      "date over => 15/14\n",
      "['pic.twitter.com/qm2Ulta5UG', ['https://rts-pctr.c.yimg.jp/BgIFgYJGVIVv8u0nVJvw8B2FauAYMF4jOP5zFJAV4i6hjVpND1OjWZ7RVcmujne-1MeLS8o2Cw3sK-96faaLlVxFQm3DqfkzDdw2BZcHAwubl67WAYV8bt-L87FVGyqTntdsd2pNuT9I3lwGYVjLDgHxAe-aE8edVKVCbJQ7uCvjzKmjgrs26_DtMjErSZdP'], datetime.datetime(2023, 10, 21, 21, 15, 0, 580649), '@I_love_micochi', 'またたび@手描き切り抜き', 13]\n",
      "['pic.twitter.com/JgM1dZh5FX', ['https://rts-pctr.c.yimg.jp/BgIFgYJGVIVv8u0nVJvw8B2FauAYMF4jOP5zFJAV4i6hjVpND1OjWZ7RVcmujne-Y8Z3LVDcAYN0jZz-uJLAzEHdxIyG2u6FQks4DMDBd_-4j2SVDir7UZnF1hFfEdYP5mf2rH634LGbE03lbXAj0jfbSj6sYmDgeJXv8zTgy2smxHogs0iwrhG72AM77_5U'], datetime.datetime(2023, 10, 21, 20, 35, 0, 580760), '@Cabeico', 'ガベ子 🖍 嘎唄.Art', 88]\n",
      "['pic.twitter.com/wc52o5BlBK', ['https://rts-pctr.c.yimg.jp/BgIFgYJGVIVv8u0nVJvw8B2FauAYMF4jOP5zFJAV4i6hjVpND1OjWZ7RVcmujne-YSJ0f9PtnGAUaWDDDbZhiXqq8XDLpH466W4hcj4CuAcYW-sv2rt6iG84FJBVelX1R_A0K20tSMBmvBVI87v7LN7BR8Rj0bGlqgzEyiJREIv5XJAheIiO5qlf2YbRH7fd'], datetime.datetime(2023, 10, 21, 19, 56, 0, 580863), '@Cnidaria_26', 'けい茶', 216]\n",
      "['pic.twitter.com/Dg3hKKcIAP', ['https://rts-pctr.c.yimg.jp/BgIFgYJGVIVv8u0nVJvw8B2FauAYMF4jOP5zFJAV4i6hjVpND1OjWZ7RVcmujne-qn18IAScXm7WcJy9wcVP9cEE8HZ3jYnFHR6lYckpaIZFQgcvvaYR0gB7IDIRFPnM2FTOdP-eALZnJkKhfnk4mtJj0RziuU_5wzq4B_AIsuP7-CiXE3Hz4IXVvsImpdiL'], datetime.datetime(2023, 10, 21, 19, 1, 0, 580964), '@neetangel365', 'にくてん@ホロクル6th H-08', 70]\n",
      "['pic.twitter.com/NN4UMzf2vL', ['https://rts-pctr.c.yimg.jp/BgIFgYJGVIVv8u0nVJvw8B2FauAYMF4jOP5zFJAV4i6hjVpND1OjWZ7RVcmujne-VXtgvMJM-3mNNRgD6qmzYeOvV2XFH25c1cJkAGR9Q_M5OAi9OiFXIO5nhdSx3EDOU5LSgxV2tAFFf3_rem6P4s6um5-TNOjLnfs8Iy2uWnkcfOe4umn4wLkH03CHCevd'], datetime.datetime(2023, 10, 21, 18, 48, 0, 581251), '@hotaka_kei', 'ほたかけい🌱', 14]\n",
      "['pic.twitter.com/CtSLQ6i8Al', ['https://rts-pctr.c.yimg.jp/BgIFgYJGVIVv8u0nVJvw8B2FauAYMF4jOP5zFJAV4i6hjVpND1OjWZ7RVcmujne-eLV58eZrv72qKfcrGsDsHxpwnnSSgIDFpCKcWF0ccDwXkcPuduVNU8T27pBK0JcxIbNWWlczWOblpHLSUsCKQKFx_n8rNLMUp_0A_ukxVXEgRKy8kDsK6DEjV_WwTeyJ'], datetime.datetime(2023, 10, 21, 18, 23, 0, 581353), '@umi_Inori', '紫猫💜/うみちゃ🍀', 11]\n",
      "['pic.twitter.com/IyA4VnJyZw', ['https://rts-pctr.c.yimg.jp/BgIFgYJGVIVv8u0nVJvw8B2FauAYMF4jOP5zFJAV4i6hjVpND1OjWZ7RVcmujne-FuHlY0bKVfGXhcCCa-FP3l5xF-oWQX56fvedNjvzNwIki5Ie3KXdfgeOx2lhKdqb9Rc1JHdEHFqxneNkRYGQbBIjNonEr3QC0lNGjgQwUc83pvxSCAuftNq2iSfcYG2x'], datetime.datetime(2023, 10, 21, 17, 45, 0, 581468), '@pendora1022', 'ペンドラ', 719]\n",
      "['pic.twitter.com/yqLePsT0Nt', ['https://rts-pctr.c.yimg.jp/BgIFgYJGVIVv8u0nVJvw8B2FauAYMF4jOP5zFJAV4i6hjVpND1OjWZ7RVcmujne-lNS8GN_IARCk5NMylEZrAdIOlF0gP0Pn0yPHr8OpF5wzCw9fhX87p7XwgYzyncypaOkBeZ8RN6xYY6lLQC0iA2seG94ZgKbH06d0liy3iFr7lsW2O0ruF0xMkfEXJDv4'], datetime.datetime(2023, 10, 21, 8, 44, 0, 582074), '@G6rZs_Ichigo', 'いちご🍓🍙♌️', 186]\n",
      "['pic.twitter.com/JLV66EwSio', ['https://rts-pctr.c.yimg.jp/BgIFgYJGVIVv8u0nVJvw8B2FauAYMF4jOP5zFJAV4i6hjVpND1OjWZ7RVcmujne-0Acd7Wj-mIs6fF63ieC3fMdmGP_ODaLPE2P0A2Jgq4VODQ1UWU8yV-1_tb8rkxozF_K_OHqWBDsfjGNLi97le1ue_H6VZvW7RHwLsPK6yCX4za9uPOpo5VsnFEK5_bEH', 'https://rts-pctr.c.yimg.jp/BgIFgYJGVIVv8u0nVJvw8B2FauAYMF4jOP5zFJAV4i6hjVpND1OjWZ7RVcmujne-jD7hRk_cVfHWCbP4eoAXj7DiRmkWYa8vS6BiUpPj2hV7KbHWPqMwTVat6-iOcRdnaQZDDe1JfTZsBffObKv9k4PdjamGTeC-ohVuHRedubPVSMo1Hdlw-86LYvPqFSOU', 'https://rts-pctr.c.yimg.jp/BgIFgYJGVIVv8u0nVJvw8B2FauAYMF4jOP5zFJAV4i6hjVpND1OjWZ7RVcmujne-4i2RB8v5kZgw9pEIuPJx8vHFerKzCTP223aogTzc6dnKktngNIuvON7fEF_Mo8OyPxhItg5wur-ePLNOrkm33oFcJUtaWG3RKVWQSz5k7AG_jIHVSaXjs9srshZsybyH'], datetime.datetime(2023, 10, 21, 7, 43, 0, 582198), '@MaenMAX1980', 'Maen', 22]\n",
      "['pic.twitter.com/cEG9TgmUgw', ['https://rts-pctr.c.yimg.jp/BgIFgYJGVIVv8u0nVJvw8B2FauAYMF4jOP5zFJAV4i6hjVpND1OjWZ7RVcmujne-RsJg9EGplttiiAV7JEnlRf-XFFGjkkQ6pYGU-UAd8eqSMTwD_HeSmVxVyPvJ99e1SxqeAqQ2Fcw5rlCYfV_KDvx_e8RtgoBwdxTrsRAz1UyEMGst_Zh_gW8VbiFCGUFf'], datetime.datetime(2023, 10, 21, 1, 56, 0, 582429), '@nagare_fuc', '流れ', 4770]\n",
      "['pic.twitter.com/kvBsyWbniE', ['https://rts-pctr.c.yimg.jp/BgIFgYJGVIVv8u0nVJvw8B2FauAYMF4jOP5zFJAV4i6hjVpND1OjWZ7RVcmujne-xWhl26uptqqeBMza31b7LIIUcxta2O6bSe2uT9Zfw4OJmKc5sGa2dfH2uLF7s5gLS32J1p2zpga2COQUXWljhFQeRuGr0Rfln7TlMzkOahVEUAr4dSdgsk3ntBAeX9z6'], datetime.datetime(2023, 10, 21, 1, 20, 0, 582524), '@baloolax', 'Baloolax', 209]\n",
      "['pic.twitter.com/IhlRT7UqKI', ['https://rts-pctr.c.yimg.jp/BgIFgYJGVIVv8u0nVJvw8B2FauAYMF4jOP5zFJAV4i6hjVpND1OjWZ7RVcmujne-dx91FIuOV15GSc5kO_qiK4G6uq-itIfyfmSOt4kWb0_B2KVx6TJKs4IJGhOLiiCD3cdbVXP8_14XeFWaCyvyhNess3ArLAd4D0BOiRFUuqH_kz3i94Wx3hvekFd6AJJY'], datetime.datetime(2023, 10, 21, 0, 34, 0, 582618), '@scarlet753315', 'scarlet', 487]\n",
      "['pic.twitter.com/ocNY1fJ37o', ['https://rts-pctr.c.yimg.jp/BgIFgYJGVIVv8u0nVJvw8B2FauAYMF4jOP5zFJAV4i6hjVpND1OjWZ7RVcmujne-r7WHhgDJUTesnLKdqWm4x0qbNAAL5eMvEwawRva5fgxRY0KbhOBTznmYhnfQBmClxjbNJxFdz5l9f69cbRUkWobE_7tNBAAxz-xKTp667Z7BneX6qkRntMqhjmXp6Tyd'], datetime.datetime(2023, 10, 19, 22, 26), '@porunium', 'ポルネコ🍙♌', 7200]\n",
      "['pic.twitter.com/Io0mtWd3mg', ['https://rts-pctr.c.yimg.jp/BgIFgYJGVIVv8u0nVJvw8B2FauAYMF4jOP5zFJAV4i6hjVpND1OjWZ7RVcmujne-PhRC2HuYCpEP_msNPWSC_b98khR1VXKHXx0lvT3WJiOFntStvF8oLXMIK2rsYoMRZW7eOAxXG3VF5f_TsEmjy_tVLE8fxOP6e_0Z7lEuFeYUVmOBcxnfE1uYrb1BkqRY'], datetime.datetime(2023, 10, 19, 20, 59), '@Alicemana_v', '有栖マナ⛩', 362]\n",
      "['pic.twitter.com/ta4qZ9HUuc', ['https://rts-pctr.c.yimg.jp/BgIFgYJGVIVv8u0nVJvw8B2FauAYMF4jOP5zFJAV4i6hjVpND1OjWZ7RVcmujne-X2hDtSeUUrTmcVAr4MsiERs1Ui7yd4iGlF-x78rBnFsDFip2XkhRiWUZW5iK2c1kdoqSBoXadBI_srzGBgMdJezsBjhLlA4o3QP7Vzfk-uNxfE_882bQ0R1reyJpVAXD'], datetime.datetime(2023, 10, 19, 19, 56), '@neetangel365', 'にくてん@ホロクル6th H-08', 192]\n",
      "['pic.twitter.com/f0BiqUbBKY', ['https://rts-pctr.c.yimg.jp/BgIFgYJGVIVv8u0nVJvw8B2FauAYMF4jOP5zFJAV4i6hjVpND1OjWZ7RVcmujne-wxwJwdhK2WcFgHomGl0tRvo3NZfVNMS7pY97UdEUPkq-wbAgL-CDzpW1SkYKAiBan0_kQ3IdTEe49rEm80gPqRWgNIU9VZEeRNotHyZ9GVCduMo5ReHxJsc-Y6q4FckL'], datetime.datetime(2023, 10, 19, 19, 37), '@GTX16500', '水素ステーション @紅楼夢お疲れ様', 31]\n",
      "['pic.twitter.com/wRNnOGgphR', ['https://rts-pctr.c.yimg.jp/BgIFgYJGVIVv8u0nVJvw8B2FauAYMF4jOP5zFJAV4i6hjVpND1OjWZ7RVcmujne--5mX_4qtlXJEwH1W1DYbxcrupie1bANzL0hjL6pT5uJOj68DY5jBzfFgg2cgI_aeSmVz4k7_yN_vy2e8RHNKwh0gU-r0MTw2AYzht0R0_ky6lsb--UBsa-yJ4Tqi2q-r'], datetime.datetime(2023, 10, 19, 17, 48), '@nora_kamome0505', '詠雲 やと🐶☁️', 67]\n",
      "['pic.twitter.com/x3bfyF0pre', ['https://rts-pctr.c.yimg.jp/BgIFgYJGVIVv8u0nVJvw8B2FauAYMF4jOP5zFJAV4i6hjVpND1OjWZ7RVcmujne--exW1xMPS-pMKw5m3gAhIYX3N48v-hrdfu7QIw30CEYkCyT2-RLvkjCePwBqzEFnkamEGH81P2VZFrW7m3u4L6-Rn0McWtWwlAPprjVc89f-0RbtVr9Lsxm5JOna5bLE'], datetime.datetime(2023, 10, 19, 17, 30), '@Tsumiki_draw', 'ツミキ', 327]\n",
      "['pic.twitter.com/D7xnP9B1GQ', ['https://rts-pctr.c.yimg.jp/BgIFgYJGVIVv8u0nVJvw8B2FauAYMF4jOP5zFJAV4i6hjVpND1OjWZ7RVcmujne-jD0-n_gH1Y4m311L_8LVXwMs3td8lAh95DjCpPTP77jTuBZHB0bs4SPtXjdOrS1-sc_SdUNt7Ev8havTG7r_t8Znr7cqLJGhG41y6pcG6lNS-3p7lXQXkeJc4amYjd_1'], datetime.datetime(2023, 10, 19, 15, 47), '@99999pr', '猫山宮古 凹', 370]\n",
      "['pic.twitter.com/6NG5y6pcjV', ['https://rts-pctr.c.yimg.jp/BgIFgYJGVIVv8u0nVJvw8B2FauAYMF4jOP5zFJAV4i6hjVpND1OjWZ7RVcmujne-kSdkFF2n3az9MEzCCaGkS-1y2uWWIxymZCPHZhg_5GMNkORCxLLCVczulw1PSE-Hb1s9sujGCOPBl76PyYeXwQQ3XLYN26eMc6x8KAzE7KUGfu4VWCaDgvOajxu_8NUY', 'https://rts-pctr.c.yimg.jp/BgIFgYJGVIVv8u0nVJvw8B2FauAYMF4jOP5zFJAV4i6hjVpND1OjWZ7RVcmujne-cE7u6Z8Hu7bTaz0cU0HfnNiNLRD8JDzP7anAr1_UhNHRk9thzIHpE1drAr5ymaue6VIVBAhNWTCbMpYh-b-rYdLNUfDaVVBvHpSBIxHMNvtc5qc6ISw1L7m128tNjVBs', 'https://rts-pctr.c.yimg.jp/BgIFgYJGVIVv8u0nVJvw8B2FauAYMF4jOP5zFJAV4i6hjVpND1OjWZ7RVcmujne-DFPvuZEP6jhhtCpHE_4xtW42BB2MSjs2CepWo2k3dHomjRIand1Ae5vD9TWlmuqn3NVHOVuIGJUUSwzN8wYg4EetSlJidCw34c4y4U_MxYLtUF9NLKcrXKE-BwcnMB5a'], datetime.datetime(2023, 10, 19, 1, 15), '@tadimadaze', 'タヂマ（原聡志）', 855]\n",
      "['pic.twitter.com/GSfRT4NPMB', ['https://rts-pctr.c.yimg.jp/BgIFgYJGVIVv8u0nVJvw8B2FauAYMF4jOP5zFJAV4i6hjVpND1OjWZ7RVcmujne-SuU4fTd250YPQUulwCh4cpis1AqPcZFsnuWRq_VBJ1qcQkv-cmssPTvKAqRc2_QYo5hY8EnG_lIRTNPoODCIiSpsZVKSTckDbuahSUUYLzvlQ7p6bgEn62CQyZD4el24'], datetime.datetime(2023, 10, 19, 1, 3), '@ryunosuke0422', 'りゅうき', 972]\n",
      "['pic.twitter.com/gXuA7nixfp', ['https://rts-pctr.c.yimg.jp/BgIFgYJGVIVv8u0nVJvw8B2FauAYMF4jOP5zFJAV4i6hjVpND1OjWZ7RVcmujne-rIVJIvFNXjXSWNF-O60FnoJVyJOebf36UuZvM-KYPiRKwxKx10SGOAOJhgxHlhOVukGNRAKVFCd0l7944XG8eW6WpUC21OyXR-MT7CwjIIM8HynoyEDw7sTevvWHp-ej'], datetime.datetime(2023, 10, 19, 0, 44), '@cut_kami', '切り抜きかみ〜🤖', 137]\n",
      "['pic.twitter.com/rTeboRSZ8r', ['https://rts-pctr.c.yimg.jp/BgIFgYJGVIVv8u0nVJvw8B2FauAYMF4jOP5zFJAV4i6hjVpND1OjWZ7RVcmujne-V1uVjo3Vnt5rGI0VXtq6-cfx8iKN8kjzhuZCNLwi5Vw0CEC3lkNq5rLLLwAWnmAHm8GSqgTKk8masxAy-6oWyWMITGo3P46Bzq1w3JycDzf-UpOMsadng90yNp5NM2Cl'], datetime.datetime(2023, 10, 18, 22, 42), '@CO4S0rPZNb5elP5', 'アールグレイの茶葉', 801]\n",
      "['pic.twitter.com/SDr1sQj0M0', ['https://rts-pctr.c.yimg.jp/BgIFgYJGVIVv8u0nVJvw8B2FauAYMF4jOP5zFJAV4i6hjVpND1OjWZ7RVcmujne-Jex1vfcckxKrslc0GSbx-CkLDBgUe73HT7G_aXBCpix9_lvpnKB6b5CjGczZ-7DMREBaI8-8QyYJkZ5KkRnx4coHsrB55vuoaSvd_jOIZcGDJtQIe9BaZSduTeLOe3nj'], datetime.datetime(2023, 10, 18, 22, 25), '@mochigomemcmc', 'mochigome🍙', 521]\n",
      "['pic.twitter.com/TEMqENt5N6', ['https://rts-pctr.c.yimg.jp/BgIFgYJGVIVv8u0nVJvw8B2FauAYMF4jOP5zFJAV4i6hjVpND1OjWZ7RVcmujne-s707OVVtlij890-i-VVzSMTjRFxU9tvCsc7GOFYo-2YvBEWkmdoTjm2MPdRs-Hl6k3cy1zQCoFG_nrYyM23zBjvyH2esbglCTW8CPpxK2m3fbTIH7qEq-eXjeWMcisVS'], datetime.datetime(2023, 10, 18, 21, 28), '@neetangel365', 'にくてん@ホロクル6th H-08', 239]\n",
      "['pic.twitter.com/xXBriMp07q', ['https://rts-pctr.c.yimg.jp/BgIFgYJGVIVv8u0nVJvw8B2FauAYMF4jOP5zFJAV4i6hjVpND1OjWZ7RVcmujne-fJ2Ro0tTKg4UqPgP0-nFvHafiHwUckM577k866aKQbyfNHTW0t85eA37ZBMudEt3wpyMbmSWfkvEX3EaRZWFaOcn-S31AOwL03HEIp5OQeMLUdkVC4m-lhI6TohQa8qd'], datetime.datetime(2023, 10, 18, 19, 50), '@ryunosuke0422', 'りゅうき', 571]\n",
      "['pic.twitter.com/mnAICplHfK', ['https://rts-pctr.c.yimg.jp/BgIFgYJGVIVv8u0nVJvw8B2FauAYMF4jOP5zFJAV4i6hjVpND1OjWZ7RVcmujne-OrN3PD4Z5VjEtRGoZFqV8gLXcA7ns8raFClWRpJebwfOFzs7iD7bnh5TrlpGnEihsgoko1EemZP7KS6krv-z3H-5I9e6nqQLQjodoayrNfPqHoA24rg7UGh8KZ68V-89'], datetime.datetime(2023, 10, 18, 19, 29), '@katu64072050', 'katu', 456]\n",
      "['pic.twitter.com/4nKI3bQGvX', ['https://rts-pctr.c.yimg.jp/BgIFgYJGVIVv8u0nVJvw8B2FauAYMF4jOP5zFJAV4i6hjVpND1OjWZ7RVcmujne-gkR0G2EFdDkgb_cjN0C-Hptvrh-UFLB1A5QvTfLf50RLKDuUlbThwABn5ThkJeFzEMVhNLcw1HWtUSNVd9z2VXwCrvCnrl6mXGV85aFr7OCxyNJLyEMEVmq5FxPOnxtY'], datetime.datetime(2023, 10, 18, 19, 26), '@tadimadaze', 'タヂマ（原聡志）', 2262]\n",
      "['pic.twitter.com/FLkdgNM7CY', ['https://rts-pctr.c.yimg.jp/BgIFgYJGVIVv8u0nVJvw8B2FauAYMF4jOP5zFJAV4i6hjVpND1OjWZ7RVcmujne-aZZyLlx3ElZr0SdM5eGi0BpOd-VHR3htYuoXaY4b-3PoVYf0Wam4nclXg9k6Yu0f_uvicEbZh7-DlkGQV0YBp2eaJL8pnbVIijVhxXCNXdAL5t4vD4uwUipe6vOoicMy'], datetime.datetime(2023, 10, 18, 19, 20), '@tadimadaze', 'タヂマ（原聡志）', 11017]\n",
      "['pic.twitter.com/Kad4cawC3a', ['https://rts-pctr.c.yimg.jp/BgIFgYJGVIVv8u0nVJvw8B2FauAYMF4jOP5zFJAV4i6hjVpND1OjWZ7RVcmujne-TQRz_RnkHLpAqarhYGswlrXzQ27xsLYwUbnKzMtLus3h1yDTKMzZaQsdijRTSyVM1w9W-eC6LS01KT8SVqVRK5F-a7P8ARPJx0nelMJrjaW46M6fvcjMJ5G7L3gyFw0O'], datetime.datetime(2023, 10, 18, 19, 13), '@hime_mino', 'ヒメミヤ', 28]\n",
      "['pic.twitter.com/mxfrDsod5a', ['https://rts-pctr.c.yimg.jp/BgIFgYJGVIVv8u0nVJvw8B2FauAYMF4jOP5zFJAV4i6hjVpND1OjWZ7RVcmujne-cqiiK3UfFNaMe_f5DhQqQkLo8Zuuz7T0wlG4t13u7gT6VVJC2DkeB8hewbZfCwFXW_BNLuSywtaWApeGm-wdmO0sVbc3A2fuXBjYspvZHr165lV98CJTZDkUCGlIyRe3'], datetime.datetime(2023, 10, 18, 19, 0), '@aiuabo', 'あいうあぼ', 185]\n",
      "['pic.twitter.com/967vhnyuZX', ['https://rts-pctr.c.yimg.jp/BgIFgYJGVIVv8u0nVJvw8B2FauAYMF4jOP5zFJAV4i6hjVpND1OjWZ7RVcmujne-yk7kD8SVhOi9TAbnvIURUhMd-p-aqLu0RU9NEAmbcbHL5JMTA9mMGQnhC_wqapau-vP29Ol-jzoI3cfMRhwhetloQmkQmTMkbi4feKL-p6GTyylJArfwDqWBX6e2-cRV'], datetime.datetime(2023, 10, 18, 18, 32), '@tkc_thikeshi', 'Tkc‐てぃけし🐠', 2236]\n",
      "['pic.twitter.com/y2mMFTy9o8', ['https://rts-pctr.c.yimg.jp/BgIFgYJGVIVv8u0nVJvw8B2FauAYMF4jOP5zFJAV4i6hjVpND1OjWZ7RVcmujne-u0yReE_OqN2rIaIcxAqPZrZ_j0-6fgXsD54tgXNfphhN6zyZFzePUO9Jd8vWIC_Z0uhgUgG72olIJeUju6lVjX_hqaJVmqqWhVI4j009lN5ylddTEEAMxeicK_mZXxDt'], datetime.datetime(2023, 10, 18, 17, 57), '@itimi', 'いちみ⚓🍙＠10/14 ぼざおんりー 2F O-10', 277]\n",
      "['pic.twitter.com/Ho9o9xGpyU', ['https://rts-pctr.c.yimg.jp/BgIFgYJGVIVv8u0nVJvw8B2FauAYMF4jOP5zFJAV4i6hjVpND1OjWZ7RVcmujne-sXijJ9BjuH8vmj2gOR7uR9P78KV3jyKdNXTdzdhLvbUgYjlsoKcUHv_440wNrfGWt4MXqt8OOEj4TH1xUqGEThlPE2yb8mZja1GUgEqUCrrCu_3oyT36cBX4HaM1N6M2'], datetime.datetime(2023, 10, 18, 15, 4), '@ryunosuke0422', 'りゅうき', 515]\n",
      "['pic.twitter.com/T2IXsNNTdo', ['https://rts-pctr.c.yimg.jp/BgIFgYJGVIVv8u0nVJvw8B2FauAYMF4jOP5zFJAV4i6hjVpND1OjWZ7RVcmujne-XpqGD0LZbB22Mzs-JVwacm7pR-iuobbaybQw6vUbjJ5keDa0OmUFIWhfxTJYFH8qQFY11bKp0ZZr3pxIG1JByg7l1pPPq2w3ItRybod5O07SwlImmzYl5rG1rP2ZrAJn'], datetime.datetime(2023, 10, 18, 10, 13), '@802h_peluna', '犬山ぺるな', 324]\n",
      "['pic.twitter.com/QOXCZZ5yqN', ['https://rts-pctr.c.yimg.jp/BgIFgYJGVIVv8u0nVJvw8B2FauAYMF4jOP5zFJAV4i6hjVpND1OjWZ7RVcmujne-i5mGuA93nPQdVKqtOcHm5a81OaZanUh9ptl6OUU1iPnbwerxjCcjW9JQoWTzdUxd8VmtDpyebmQHaqB_vWnvgcQ280V2PHr1ZHtsddSTlb8KxNy_OBd3FrwaONP4VQxh'], datetime.datetime(2023, 10, 18, 0, 1), '@MOMO_noa912', '龍胆桃🍑🌈ラテアート系VTuber', 75]\n",
      "['pic.twitter.com/Kv97vF5IN2', ['https://rts-pctr.c.yimg.jp/BgIFgYJGVIVv8u0nVJvw8B2FauAYMF4jOP5zFJAV4i6hjVpND1OjWZ7RVcmujne-mvxsDG2OhYmprXw6WlTGkQNgbMW3uzI0Tq73apr58tIjGf5W3ixoYpHN0SSkWM4_VCtduYnT9n2YncpJZejFQxEmDhpGfcnAPsaqoSwFGTunBtwrjQ-X9GHlNblbdFdf'], datetime.datetime(2023, 10, 17, 23, 49), '@Alicemana_v', '有栖マナ⛩', 305]\n",
      "['pic.twitter.com/7bX3cAd2QC', ['https://rts-pctr.c.yimg.jp/BgIFgYJGVIVv8u0nVJvw8B2FauAYMF4jOP5zFJAV4i6hjVpND1OjWZ7RVcmujne-eWh89rJDzjjZRghHBvO5bR2145k4PeXecdPo2M4xm2cvg0HBUvLJxQrQNMLAo36_5sv-iiVCu84kCnlrgMHT2lXvyqZxBgT4v1fa1VIIF0tYS4qz_3EFjCbjSR9E0Mws'], datetime.datetime(2023, 10, 17, 22, 47), '@Niwatoko9035', 'ニワトコ', 282]\n",
      "['pic.twitter.com/P067qqkIeM', ['https://rts-pctr.c.yimg.jp/BgIFgYJGVIVv8u0nVJvw8B2FauAYMF4jOP5zFJAV4i6hjVpND1OjWZ7RVcmujne-BhpJwoSq49WSgj68kZBXIG2xeisoFLaMFZ3FRQoEtYnRL2Gx4cPJKlRhYSHeRBFsr_uzpLCuYkIyEIpYFAf-Tth_fTE3bjV8nxvZ_l27K49JXbXBvTtQEPo8fedkSHs6'], datetime.datetime(2023, 10, 17, 20, 18), '@GTX16500', '水素ステーション @紅楼夢お疲れ様', 92]\n",
      "['pic.twitter.com/LKa5n4SWrd', ['https://rts-pctr.c.yimg.jp/BgIFgYJGVIVv8u0nVJvw8B2FauAYMF4jOP5zFJAV4i6hjVpND1OjWZ7RVcmujne-qJ9N6vZKEVvfScfExDYwbQIaN3lwy2PnA6Ts3kun6PEiW0YO0kLKSsq0Y4NyEifedyhaBnUV7na354WI0nrWzrDv72_zEyP0uM4L7cC0ytJvx7sNWpmfZSx99kZ1lRGe'], datetime.datetime(2023, 10, 17, 20, 4), '@neetangel365', 'にくてん@ホロクル6th H-08', 315]\n",
      "['pic.twitter.com/ZuwfdYitlp', ['https://rts-pctr.c.yimg.jp/BgIFgYJGVIVv8u0nVJvw8B2FauAYMF4jOP5zFJAV4i6hjVpND1OjWZ7RVcmujne-NlpxGvEYoggsflakVxyKY82KWME1V33r26qmiiqe9LbZTvnSxHcVNVjwzwSdohdDafH-ROwPvnZdZxdqEvjcyKZKD5cuTYf888GFkiu4iATEMlCE2ESlCwF8MUOgvrXX'], datetime.datetime(2023, 10, 17, 18, 32), '@ayanokata', '子鼠 あや', 644]\n",
      "['pic.twitter.com/0DFPaliH18', ['https://rts-pctr.c.yimg.jp/BgIFgYJGVIVv8u0nVJvw8B2FauAYMF4jOP5zFJAV4i6hjVpND1OjWZ7RVcmujne-S2xiRamGRs6-Wz_C1i6uUDm9iFSzSlJ5fY2bLBWb50kXWeCTobxUxHiGcFTxxtWZK0FFsBeqXIWxVDo4bJooRjaEYrCsfYGZqjk9d6GjP3mv5TR-z_XkKr04hRMu9U9k'], datetime.datetime(2023, 10, 17, 17, 46), '@take1264733', 'テイク', 211]\n",
      "['pic.twitter.com/jV31CzSwyc', ['https://rts-pctr.c.yimg.jp/BgIFgYJGVIVv8u0nVJvw8B2FauAYMF4jOP5zFJAV4i6hjVpND1OjWZ7RVcmujne-4V9Cu823lgU5p128gYiznDcopAymK72iUUTUPy8c3dt3HXXc0H3sOQ27YLKkhLhARA5fb8WffFS758L_xcC6qpnQ5EiowcYwWUsj6qmHPTNf-xLFwrdYYvhg6vywh7bc'], datetime.datetime(2023, 10, 17, 17, 30), '@Tsumiki_draw', 'ツミキ', 133]\n",
      "['pic.twitter.com/r9s7jDwNGw', ['https://rts-pctr.c.yimg.jp/BgIFgYJGVIVv8u0nVJvw8B2FauAYMF4jOP5zFJAV4i6hjVpND1OjWZ7RVcmujne-WS2zSYTdf29pRDcr-1m-UbUuU9TYmZrp0CVlkrbFBhFJKhEiU9gOiDjsRbAsR9UMnFXm7wdvIyspligZlZ3apFZDW45v7VVVSZAtnQ6rFoQ0vu0DQn9Wx8nzFL0h7fL3'], datetime.datetime(2023, 10, 17, 17, 9), '@qCJC5HqT07zjrJ4', 'うみねこ', 25]\n",
      "['pic.twitter.com/mRcgCaXnUC', ['https://rts-pctr.c.yimg.jp/BgIFgYJGVIVv8u0nVJvw8B2FauAYMF4jOP5zFJAV4i6hjVpND1OjWZ7RVcmujne-4VflCKarFB4zviB_oiXNlqTNzGow0bBE_MKc-r-2q1P8AbBDaCCowPSm3QpYF_mIhpuMZc4A1rKYk4Qh_TVvaQHo_igWJ26_DFCVm7ktERC-rJ24-zWS0MgygJGz9Ch_'], datetime.datetime(2023, 10, 17, 17, 1), '@hahu_kumono', '蜘蛛野 はふ', 624]\n",
      "['pic.twitter.com/VNfKKDSJpR', ['https://rts-pctr.c.yimg.jp/BgIFgYJGVIVv8u0nVJvw8B2FauAYMF4jOP5zFJAV4i6hjVpND1OjWZ7RVcmujne-XcAOKuxcRjFqikPsGANoJp73tUKj74Zm8uTHycjUBJchR2CBQNQ2TvDTF3XH8-qsrRtxRLzYZfl9U-m4yviupUvK4ZkfaOuTgth7W5GRm7KB_6Y67kLBux3VzdQaOlAi'], datetime.datetime(2023, 10, 17, 16, 39), '@gekiokomiran01', '✟漆黒の堕天使みらん✟', 116]\n",
      "['pic.twitter.com/9dyT1EkSY1', ['https://rts-pctr.c.yimg.jp/BgIFgYJGVIVv8u0nVJvw8B2FauAYMF4jOP5zFJAV4i6hjVpND1OjWZ7RVcmujne-iSCM0dEi5_tFErcaolbtLxXM4_y7MPg2QsEJ1wC-sDgDipRk972PqgcsohD5R5PcHmMqJUcPB-mtEIekA6lQ-IfHgJH4mnpCJU8DI8acQCb2AjYhGP4xHKdE5eU2hUN_'], datetime.datetime(2023, 10, 17, 13, 28), '@shiradayo129630', 'おしら🐾', 26]\n",
      "['pic.twitter.com/qyPi4reFMQ', ['https://rts-pctr.c.yimg.jp/BgIFgYJGVIVv8u0nVJvw8B2FauAYMF4jOP5zFJAV4i6hjVpND1OjWZ7RVcmujne-9gYN2E25v4qYfCITOtaBDf3GbfE938bq5M4xeo4sr-hb7Xm4wKhyT4m-_ERMZ8-yspcniFcV2uD1IZiQHhTnJqvHN8xYvph9QDhF57kaXKOgWlQCBt76l-9zmaFIWNwK'], datetime.datetime(2023, 10, 17, 8, 26), '@Kei_comms', '🗝KEI🗝| Commissions Open (2/5)🐙💀🪶🥐🍙', 135]\n",
      "['pic.twitter.com/DOaDOwStwv', ['https://rts-pctr.c.yimg.jp/BgIFgYJGVIVv8u0nVJvw8B2FauAYMF4jOP5zFJAV4i6hjVpND1OjWZ7RVcmujne-_1-rqy94wH71L0vvXtmFjG07WcYCbK6sZCdB6dn5BkCiD7m_nZMB_KvZfAFxf9UqedNxKUISJ3ZRz5UQC-Z9DYkX7AlLoGeNW38HYY3JBxPC_hMY1Nm6n478Hk9lp8UP'], datetime.datetime(2023, 10, 17, 4, 20), '@sdcg00', '裕司‧威爾斯(ウェルシュ)', 1418]\n",
      "['pic.twitter.com/PCzOXZXDUC', ['https://rts-pctr.c.yimg.jp/BgIFgYJGVIVv8u0nVJvw8B2FauAYMF4jOP5zFJAV4i6hjVpND1OjWZ7RVcmujne-DlXkdSqBGaPT3ZbahFqf39hJqvdmShzgYLZY5YMn_wsM9X7LmRkf5ACbEFb6tLbjYH9dVtiNo7J3IRCHlGe4W_2mEG7LB1gjSODJI1TQ4Z71cClJWvFtWIj4YOvsFllk'], datetime.datetime(2023, 10, 17, 0, 6), '@takaramonomatsu', 'まつしたたから', 276]\n",
      "['pic.twitter.com/ABZIMNWVUM', ['https://rts-pctr.c.yimg.jp/BgIFgYJGVIVv8u0nVJvw8B2FauAYMF4jOP5zFJAV4i6hjVpND1OjWZ7RVcmujne-K-5e5mVgJlUSTsBpMf_fxNKczkYm4my_2ckc-qJBFVx9j3uF_cHwuO9SoDGLbNQEE3w4gF6cm0Qi-P8nmzt9tmIoKfecxe-TuTovQFO7v51dsgK30ml6wJTVj3rj0AoI'], datetime.datetime(2023, 10, 16, 22, 28), '@speaker_craft', 'すぴか🥐', 120]\n",
      "['pic.twitter.com/UprsZNnqhr', ['https://rts-pctr.c.yimg.jp/BgIFgYJGVIVv8u0nVJvw8B2FauAYMF4jOP5zFJAV4i6hjVpND1OjWZ7RVcmujne-oh8Ll1oZlY-8tWOKWH5nOUvY1iBocrjx6Ir5edy-nV1pVkmTwZAQX4BhfhRrOKSODCcrG_cGELO6g8jG5uZkE4ZNH1KIzxvnKDuAeE_D4eplpIRjQOI9HKknwRyEYe_e'], datetime.datetime(2023, 10, 16, 22, 26), '@okitegami_222', '置手紙', 11387]\n",
      "['pic.twitter.com/291dS1cbqe', ['https://rts-pctr.c.yimg.jp/BgIFgYJGVIVv8u0nVJvw8B2FauAYMF4jOP5zFJAV4i6hjVpND1OjWZ7RVcmujne-24MrH8UgVBkkUrwu6UDiN2aOYLRFo38SAonS4qnyOb5TcAUGhDvNCtp0ApL_DV0mTDL1N_HeSFFAiWzirMDhfX-6uJqtfwP4Ktc_kqWe7s9C_qXcgo-_aguWuuodHWEl'], datetime.datetime(2023, 10, 16, 22, 25), '@sanae_Vtuber', '沙苗-Sanae-', 20]\n",
      "['pic.twitter.com/QxxmmUvuUO', ['https://rts-pctr.c.yimg.jp/BgIFgYJGVIVv8u0nVJvw8B2FauAYMF4jOP5zFJAV4i6hjVpND1OjWZ7RVcmujne-KPeHNBUugBYh8-drI6RYYcmohGdCyS9nFwwIIEBG8Uyvd49xlBHs0JleRxCEWxPLmKdfe4HNwpcPI6_BmBE1tzWJl6Ycgq0oKOLt70-x1AwxSQwc_K7P0ecwnFBISC48'], datetime.datetime(2023, 10, 16, 21, 23), '@mochimochi_kemo', '狛犬わらび🐾🍙', 166]\n",
      "['pic.twitter.com/ylKHcvK4E6', ['https://rts-pctr.c.yimg.jp/BgIFgYJGVIVv8u0nVJvw8B2FauAYMF4jOP5zFJAV4i6hjVpND1OjWZ7RVcmujne-6joeDCIdeEZb8miLg5aQtGtJJf-GM-LcyfxqYrv_Gmn5Cu8wbJA-eAVmKzxiclbslOCH1Mw2v5x1G4kqlsLrv0v1R2VcoDBvIa8d9idhKOht_RkG8MmyYKCiA8V3xYEr'], datetime.datetime(2023, 10, 16, 21, 12), '@Arume_chan', 'あるめ@100日チャレンジ中', 12]\n",
      "['pic.twitter.com/pxSRV4rR3U', ['https://rts-pctr.c.yimg.jp/BgIFgYJGVIVv8u0nVJvw8B2FauAYMF4jOP5zFJAV4i6hjVpND1OjWZ7RVcmujne-MScNJiABiGXy0Kp5G24zxcc6jEI7ltq4JgpMmOClMBc-7gNCTtT0ScNF2c3kRjdU0_c-wxOLV7nrVAWUFVejG6vS6pSbm76Dhz8wqtf8At5-SVTYWbO_9tE-IsI_sYnL'], datetime.datetime(2023, 10, 16, 20, 22), '@neetangel365', 'にくてん@ホロクル6th H-08', 365]\n",
      "['pic.twitter.com/W93Hs8tqfX', ['https://rts-pctr.c.yimg.jp/BgIFgYJGVIVv8u0nVJvw8B2FauAYMF4jOP5zFJAV4i6hjVpND1OjWZ7RVcmujne-iFV5sMkWUyH9Je832MQ6rGmLN7Jnt4D-21pQ2588DCm_K98JRrfm3zbU3pPlXEzUsXaHrmW3Dz6Q5Bwpk6VpWy4mYaZHXHKzdxqHmgQSKln85VxrLkcNFKGbuIGO1FBP'], datetime.datetime(2023, 10, 16, 20, 0), '@tamago_booooroo', 'たまごぼーろ🥚', 182]\n",
      "['pic.twitter.com/CtVuoyrcLE', ['https://rts-pctr.c.yimg.jp/BgIFgYJGVIVv8u0nVJvw8B2FauAYMF4jOP5zFJAV4i6hjVpND1OjWZ7RVcmujne-i39hes5cgJrimmX39nx-Lx94jk8JjXy5KxDxfhOe1IU9tlc8XOOB3NmwtaCfaqXhpku1E7z_-bG58uYrF78F0y2Lqrf8JwWcF6RR6dGvSL-WWR8wH2b9DxwNrrNV4a04'], datetime.datetime(2023, 10, 16, 19, 41), '@ryunosuke0422', 'りゅうき', 466]\n",
      "['pic.twitter.com/ebObLEKLZq', ['https://rts-pctr.c.yimg.jp/BgIFgYJGVIVv8u0nVJvw8B2FauAYMF4jOP5zFJAV4i6hjVpND1OjWZ7RVcmujne-4gF0tUWbCCsILbdW_WmLxGFb52919oPkIeNwB76I6Yp6PoEUGI-1Zhzg3xBxJJ7r_63xujl-_MXEwvTSBmUvtHXG4PibmFz5XUvoEjo3qKQKBW_l_qm1Ml_sZp0zxhqV'], datetime.datetime(2023, 10, 16, 19, 39), '@GTX16500', '水素ステーション @紅楼夢お疲れ様', 46]\n",
      "['pic.twitter.com/aEoBZsOR6m', ['https://rts-pctr.c.yimg.jp/BgIFgYJGVIVv8u0nVJvw8B2FauAYMF4jOP5zFJAV4i6hjVpND1OjWZ7RVcmujne-rS0Me0kVlaho1ceNLhK_javbGwhZ_0IVCHjHbDkL1s7NdcSQIhE2MREyz_sT77ppxTYP8XZ4X_2bjZ3o6iXvtg_nHYHxvNu-FEqjb33wzuRQ3hsDCQk2XTs6Q7sABfwB', 'https://rts-pctr.c.yimg.jp/BgIFgYJGVIVv8u0nVJvw8B2FauAYMF4jOP5zFJAV4i6hjVpND1OjWZ7RVcmujne-qhK3Blv5GrpOyNfTx5VqaJwVhWREvfI8sZF_Um6Ys4Dtvrdobprd417bQHBSubAlOLnjHmqJKZyG4VM_hjYxySNt7P9yyfGNpakAAP5o7Uv5NRE5FxfJVX4kx7TiJPa2'], datetime.datetime(2023, 10, 16, 19, 31), '@hikawa21', '氷川 翔', 5165]\n",
      "['pic.twitter.com/tN3RtjAoD3', ['https://rts-pctr.c.yimg.jp/BgIFgYJGVIVv8u0nVJvw8B2FauAYMF4jOP5zFJAV4i6hjVpND1OjWZ7RVcmujne-rS0Me0kVlaho1ceNLhK_javbGwhZ_0IVCHjHbDkL1s7NdcSQIhE2MREyz_sT77ppxTYP8XZ4X_2bjZ3o6iXvtg_nHYHxvNu-FEqjb33wzuRQ3hsDCQk2XTs6Q7sABfwB', 'https://rts-pctr.c.yimg.jp/BgIFgYJGVIVv8u0nVJvw8B2FauAYMF4jOP5zFJAV4i6hjVpND1OjWZ7RVcmujne-qhK3Blv5GrpOyNfTx5VqaJwVhWREvfI8sZF_Um6Ys4Dtvrdobprd417bQHBSubAlOLnjHmqJKZyG4VM_hjYxySNt7P9yyfGNpakAAP5o7Uv5NRE5FxfJVX4kx7TiJPa2'], datetime.datetime(2023, 10, 16, 19, 24), '@hikawa21', '氷川 翔', 159]\n",
      "['pic.twitter.com/hx51xxrEdt', ['https://rts-pctr.c.yimg.jp/BgIFgYJGVIVv8u0nVJvw8B2FauAYMF4jOP5zFJAV4i6hjVpND1OjWZ7RVcmujne-JNVgCGms2NSo5o6DP3eNY0n3voG_7iu8ID5nvsWTC-4bFL4wcyUT3y5XMq_7Mpqapw-vrctQ0xtuGPB-47lbEeuEVrSix5dd4Wal28uLoQRxaNpIaOsAree6x-lSuXiA', 'https://rts-pctr.c.yimg.jp/BgIFgYJGVIVv8u0nVJvw8B2FauAYMF4jOP5zFJAV4i6hjVpND1OjWZ7RVcmujne-JPyxPoXBdnwPuB-kE0bCCFOY5ctthBAfIHzVgWRafKpKJCCsNHq8uxh6sp0B3ddwdGpTEMchPYtseMGw17WxAKn1osa3AA5nrUoAviHqU2kPpV9rIMwtreT4xPU37Go7'], datetime.datetime(2023, 10, 16, 19, 19), '@CangiMao19564', 'おかか🍙 🥐🌽', 56]\n",
      "['pic.twitter.com/7F29l9E7s3', ['https://rts-pctr.c.yimg.jp/BgIFgYJGVIVv8u0nVJvw8B2FauAYMF4jOP5zFJAV4i6hjVpND1OjWZ7RVcmujne-mp53ZCgoZaY2uv7W2lR_Ao08OUVneaq5sE78i8B35QpHwZPvcbnq9y3KBgFhRoFkO8KryVcEmu9H95-IXZ70ErqjTDz9Q-vWd_0LHzgM5UHB83BW-2CTzap301wtKGqH'], datetime.datetime(2023, 10, 16, 15, 0), '@_Hinata_sora_', 'ひなた そら@Skeb募集中', 283]\n",
      "['pic.twitter.com/sungdVUov6', ['https://rts-pctr.c.yimg.jp/BgIFgYJGVIVv8u0nVJvw8B2FauAYMF4jOP5zFJAV4i6hjVpND1OjWZ7RVcmujne-V5jr9hroL2q6M3zOsX2iJoafzDzdg0fSkqhbgCow3i7Q-Sca_yqWaFLxy2i3zi1d4ph2ySMS8hf-piaQ-xGfAElb38J6sKWExAdiUWCc3BR-ravUfHTHtG1R0FVKckVn', 'https://rts-pctr.c.yimg.jp/BgIFgYJGVIVv8u0nVJvw8B2FauAYMF4jOP5zFJAV4i6hjVpND1OjWZ7RVcmujne-J5CfSwFjnKTJcvFyubo3dRUjLZ9APe-tvBcrdJe1e_ekk9upmbx0Bd4qK545Cda1ZTUk1_XpJZva1Up1BMq_aYLkvU3YNFO74osY4nrt_5Y20GbOH60cbjc2ds5mVpoh', 'https://rts-pctr.c.yimg.jp/BgIFgYJGVIVv8u0nVJvw8B2FauAYMF4jOP5zFJAV4i6hjVpND1OjWZ7RVcmujne-ancYXV1Br-QtDDPysX9g7M2WXmivbx61gEVkgMpSnZQfhfqlA_exsskitwrue7MJCEZwHnFWUvlSDP9v-q8ldIfOj464Ub8CyHY4LFvfF5Ksbdq1ywFayi-QxzjSEhoa'], datetime.datetime(2023, 10, 16, 9, 58), '@arisio1', 'ありしお@10/21ホロクルK10', 208]\n",
      "['pic.twitter.com/jLWimzQJLc', ['https://rts-pctr.c.yimg.jp/BgIFgYJGVIVv8u0nVJvw8B2FauAYMF4jOP5zFJAV4i6hjVpND1OjWZ7RVcmujne-a8S7HqczzVVg0UU3b--gkQT1Q5wQYRXkCGKLdD1a0LPVmdmpaCwish9u5-feWADIy1cH3aXzyu16W2HPYbezkZekQ7JQt3unz7rjn9mEu5Apha8oXBEuAMm1HcF8eqt_'], datetime.datetime(2023, 10, 16, 7, 31), '@STRAW_10s', 'STRAW', 498]\n",
      "['pic.twitter.com/b8PpXZS0FL', ['https://rts-pctr.c.yimg.jp/BgIFgYJGVIVv8u0nVJvw8B2FauAYMF4jOP5zFJAV4i6hjVpND1OjWZ7RVcmujne-Ms6eZcJHGdNSkQdLeDetP9GCHfx03XZeBRfMCx-oYTraBly911aoYMZ1kRVen0TF7nYLMZZJRNq9_Ik_o22zfpwPyxkbLiqb0wHAyoJuoyTxy2FGiZ5yUfEmBDnGjpiU'], datetime.datetime(2023, 10, 16, 6, 36), '@Cremartisph', 'くれま', 27]\n",
      "['pic.twitter.com/lZ78PZ0qxX', ['https://rts-pctr.c.yimg.jp/BgIFgYJGVIVv8u0nVJvw8B2FauAYMF4jOP5zFJAV4i6hjVpND1OjWZ7RVcmujne-v0RncPykpQgY2Y-pgf2_-0F1449LxfkgFOigBHWU8UCT03pE2u6jGXXGpq1pwhRHEfFOLqlgLw54D1qN7EluxhsCziNxqWJpe03HtrY-5gbN55LgGqxELScD9XoD38HG'], datetime.datetime(2023, 10, 16, 6, 32), '@mochimochi_kemo', '狛犬わらび🐾🍙', 277]\n",
      "['pic.twitter.com/SGOprPB1Fd', ['https://rts-pctr.c.yimg.jp/BgIFgYJGVIVv8u0nVJvw8B2FauAYMF4jOP5zFJAV4i6hjVpND1OjWZ7RVcmujne-3L7TH4YIlOsAiOOfiA-nYXyRUVMJUlq8GtQeRgeWcC2BeIN_zTtrkukVd_3yJV3HChm1nJ8Y6-8ZmE5OdWtbl13o-bIA3ym5bfkTJ_8DDU0dP8FAL_U7jj0wOO-kCfAK'], datetime.datetime(2023, 10, 16, 3, 24), '@Clulless', 'Clu', 253]\n",
      "['pic.twitter.com/EcZaBiecJj', ['https://rts-pctr.c.yimg.jp/BgIFgYJGVIVv8u0nVJvw8B2FauAYMF4jOP5zFJAV4i6hjVpND1OjWZ7RVcmujne-5p8c0GkXRtzeOKyglKc9M7LGJ21rGFEVe_srI7hSrwc8xjwV_KZVucHN7tZczRrLSlPig1xNy-9zpc4jx2XQSqY7XUr0C_NUfqS4SQe8aCbEZ5vKYq2w7eCUay6hC9un', 'https://rts-pctr.c.yimg.jp/BgIFgYJGVIVv8u0nVJvw8B2FauAYMF4jOP5zFJAV4i6hjVpND1OjWZ7RVcmujne-2TIt_-_aTqUzsuFI3swcyNVT_75IUIy0TbzK9fk_Cj7V6r3b79EqC7-NfL2ca_CHDmszCo1XX0tHo_wfFbBN1ZXamG3ejpbXGo6kNDJ5mH376afASATz9JLf7j5Zgoy0'], datetime.datetime(2023, 10, 16, 0, 17), '@curry_and_rice4', '石原竜也🌸', 701]\n",
      "['pic.twitter.com/RKNc15PehW', ['https://rts-pctr.c.yimg.jp/BgIFgYJGVIVv8u0nVJvw8B2FauAYMF4jOP5zFJAV4i6hjVpND1OjWZ7RVcmujne-TSksf3dU0o63Nl1LzqBZ3clX504Ga89FJScyLDK6Amgibnqj4SZt6zrXxcC6yq_OaionICzUVfgRKlhUv8IUun1JhNWvZwr0fezMkGit2lU5MPviVAwNxQgvpmp7dPzW'], datetime.datetime(2023, 10, 16, 0, 15), '@curry_and_rice4', '石原竜也🌸', 9912]\n",
      "['pic.twitter.com/vbvEq8ROBL', ['https://rts-pctr.c.yimg.jp/BgIFgYJGVIVv8u0nVJvw8B2FauAYMF4jOP5zFJAV4i6hjVpND1OjWZ7RVcmujne-KHZ6dy_xuuVvuBakx7_EzSobzDBS4PA8BvIWpxcBNA6EP-3WAR4Ljb6QiCUFzA_z-o9NmlsQaTAo2LIZ4EWFCLUOJAhO8Kx7zaX8ewXzXf8_WfqBChcYz1OJ9v4ul4wX'], datetime.datetime(2023, 10, 15, 23, 47), '@AnimalsCh01', 'ねよつぶしのア🥐', 13]\n",
      "['pic.twitter.com/CTyvdWorhC', ['https://rts-pctr.c.yimg.jp/BgIFgYJGVIVv8u0nVJvw8B2FauAYMF4jOP5zFJAV4i6hjVpND1OjWZ7RVcmujne-4u-oTfEHyv8rk18Clx7MSIBRhYbDcxY7C5lAiFVlpMdb2T3lFm7bOtnbFDZBeTaZtHgEIhwcDiH_R64dVzJxOendQCzCDk57SdqSJ1KCkQU1GSSBh1-X6wNnjuYalBod'], datetime.datetime(2023, 10, 15, 22, 18), '@mizuha7739', '蒼樹水葉', 181]\n",
      "['pic.twitter.com/T02sCVIE14', ['https://rts-pctr.c.yimg.jp/BgIFgYJGVIVv8u0nVJvw8B2FauAYMF4jOP5zFJAV4i6hjVpND1OjWZ7RVcmujne-I0SEBDeenGomtHjrYoqds8_rtnWN9bt4Ky_RXeXfFPDJDrLOU3Ec0S3TCfHX-xkhLoH8zt1alFWrNHI3ykdgVaakqY8KlPo2cSvwFWJd4b5u-Gzfe9opnD_9ewPupTB0'], datetime.datetime(2023, 10, 15, 22, 11), '@IChi__1026', 'イチ', 14]\n",
      "['pic.twitter.com/laApLSbVns', ['https://rts-pctr.c.yimg.jp/BgIFgYJGVIVv8u0nVJvw8B2FauAYMF4jOP5zFJAV4i6hjVpND1OjWZ7RVcmujne-r6u-O07c5FE-JPzZvptcbN3pw38tS9NuKBFwrj65BImwJuspVk2a469YOPRi_dbaCkQ-2WMTogghzVqQ9VOIcbzPQ6q6lTE9PjVhkn6y4Txy3WmM1a2gpJWBRWoWD1PE'], datetime.datetime(2023, 10, 15, 20, 55), '@ncy14741', '絹越ぬこ湯🍙', 192]\n",
      "['pic.twitter.com/uIG0qQDHlk', ['https://rts-pctr.c.yimg.jp/BgIFgYJGVIVv8u0nVJvw8B2FauAYMF4jOP5zFJAV4i6hjVpND1OjWZ7RVcmujne-YxbQzrTRZaqbXu0DU2tAgYFWj7cNzJ1uQ0wjtPGNQGkA0bYASaOlCPoTXVXyVtRH8hqRbXiCHuu4NlVTNpQ4ZwbnCE3NMZ_e7FtsQlqfU4URZoEj9jKvLg59OPpIJkRs'], datetime.datetime(2023, 10, 15, 20, 22), '@nakama_kun', '名嘉間(なかま)', 372]\n",
      "['pic.twitter.com/mcJ212zc7Q', ['https://rts-pctr.c.yimg.jp/BgIFgYJGVIVv8u0nVJvw8B2FauAYMF4jOP5zFJAV4i6hjVpND1OjWZ7RVcmujne--1CUDyE7pe2Knce79AKv1sR0g78miSjS5w8iwH4bmpqiDYw9HNiupbTHuMpOBgtap8K_yRBc7A9sxjZlARH2QH7IHgGxM8aD4-BsIdiDM50YhkWHM4JdiGAY9ZzOyXr5'], datetime.datetime(2023, 10, 15, 20, 11), '@Akuto_desu', 'あくと', 5296]\n",
      "['pic.twitter.com/ZX8LHFAtD7', ['https://rts-pctr.c.yimg.jp/BgIFgYJGVIVv8u0nVJvw8B2FauAYMF4jOP5zFJAV4i6hjVpND1OjWZ7RVcmujne-XBlsEecP0s9UGjwooiP9I7GoB8wnDYB1oIjQpNXHYxn0leRxwK8gkW5j0dlwEESHWTahBEVTSS5ShXpnIajxBGYi22KaQGV0Q6XAZ4Vm_83j60vvaHmF47EiJsnsU4cv'], datetime.datetime(2023, 10, 15, 20, 0), '@neetangel365', 'にくてん@ホロクル6th H-08', 290]\n",
      "['pic.twitter.com/248QRQ5Lpf', ['https://rts-pctr.c.yimg.jp/BgIFgYJGVIVv8u0nVJvw8B2FauAYMF4jOP5zFJAV4i6hjVpND1OjWZ7RVcmujne-IQnpYuPzaydyLOf7BGFuNIFiHEyICiVaiTgvAX8GDvtnPs8G4OA3rK-v6GwU4JjRBr4rufW9ABnT2Q66fgSUuhMW1KyGz-uVKaOyQ-uv3eAWjd3ZsIonLdjdoTkXWoGa', 'https://rts-pctr.c.yimg.jp/BgIFgYJGVIVv8u0nVJvw8B2FauAYMF4jOP5zFJAV4i6hjVpND1OjWZ7RVcmujne-3vO3X958qjOLCp1nemQIJwj8YQf-hxKzbzUYB6RTWEQJQnt5jLE1681GaLHdn1MzK_g6bd9MobFYhGsgsYzB7N3R162QbYrGhFgXsWUYFNreL3tDCwks1tbH_6KSQkII', 'https://rts-pctr.c.yimg.jp/BgIFgYJGVIVv8u0nVJvw8B2FauAYMF4jOP5zFJAV4i6hjVpND1OjWZ7RVcmujne-YSiIrLHzaoKCZNW_2JuNe9GxDP_gjVD4GiC3CQlNmlDnaLSdrU090I6FnhwaVye9FI2Jes6y5KQagHrso56Doz6Hx6ZoGpnkNSQApienCU7LZDFpH09MxMY5ceF2Mw36', 'https://rts-pctr.c.yimg.jp/BgIFgYJGVIVv8u0nVJvw8B2FauAYMF4jOP5zFJAV4i6hjVpND1OjWZ7RVcmujne-uZx8VSwixQ5ExyEUHFtW84WKfnZvBLupoNB4DVv2NFHRh4f0DyHjD4qKtPbe9Smx6qWhyuDenZg7320RlNKdCAr-ax7A7TT9yrXpojUjr1WNIpwQAkJP91ewZ1sWtZoN'], datetime.datetime(2023, 10, 15, 18, 30), '@Toyana_Narn', '外谷那@Skeb募集中', 1636]\n",
      "['pic.twitter.com/wZF3u3atgY', ['https://rts-pctr.c.yimg.jp/BgIFgYJGVIVv8u0nVJvw8B2FauAYMF4jOP5zFJAV4i6hjVpND1OjWZ7RVcmujne-m50IFBuesJ1Jebs66dF1bxhIlTLTsO0IT6xfbIh80q58Xw-do_7N89VNhIbT2jrGDYJxFCLjnops7zPwDej3QC9yHG6DjM-08fzAzc_79h_WHByTNJWvwoVS7sCmj7Y4'], datetime.datetime(2023, 10, 15, 17, 44), '@Kulibel_', 'くりべる🍙', 244]\n",
      "['pic.twitter.com/CPlDtFTlcD', ['https://rts-pctr.c.yimg.jp/BgIFgYJGVIVv8u0nVJvw8B2FauAYMF4jOP5zFJAV4i6hjVpND1OjWZ7RVcmujne-4pw77BoKAyxY1FtWoNUppMgt6FlmPeR__53zw-CzZqv3_BnqPr2B4_DYVb1xJqoh4Rhn26bB91ud1TaVNiuM4chO13IjyIkqpq0qJpU-YOag4JXdYGeruiGBjPt1GZby'], datetime.datetime(2023, 10, 15, 17, 30), '@Tsumiki_draw', 'ツミキ', 107]\n",
      "['pic.twitter.com/RFGyYej47H', ['https://rts-pctr.c.yimg.jp/BgIFgYJGVIVv8u0nVJvw8B2FauAYMF4jOP5zFJAV4i6hjVpND1OjWZ7RVcmujne-h8BIfUAleqnibCe__XXDaoujizx4dacoktU7nDOp7WnzYNXdMnUgf-zMFsD7jPQb0RcL0zLiHEqCl52Vtz9NbqSXpOycL6elhctWFFxlFpEjuXHl7MqsSI4CzOGEk_fH'], datetime.datetime(2023, 10, 15, 17, 6), '@ikayaki_4', 'IKAYAKI🦑🔥\\u3000呑み過ぎシリーズ📦💨✍🦑', 30113]\n",
      "['pic.twitter.com/WDcQDl2pIA', ['https://rts-pctr.c.yimg.jp/BgIFgYJGVIVv8u0nVJvw8B2FauAYMF4jOP5zFJAV4i6hjVpND1OjWZ7RVcmujne-qFyeTz6RUSH3bPNlnHxITk6CEijMlsNaTOFaIpN4DsZS9mWuoo5TTUuxVuOQjLzwF6x2-TRNt21MGn0EJSFnZ6rgW9RcpW9P2vu_guaDNLw2jwZF1DvX3m0rjE3PJObV'], datetime.datetime(2023, 10, 15, 16, 59), '@KRNI_rock', '紅ろっく', 25]\n",
      "['pic.twitter.com/Ww2TKT1G7w', ['https://rts-pctr.c.yimg.jp/BgIFgYJGVIVv8u0nVJvw8B2FauAYMF4jOP5zFJAV4i6hjVpND1OjWZ7RVcmujne-fBjI4MYf-CQt4rEOqvbFccZN3_Xo6viukQs3D8uplw6VJapeUXFj9ExuNS11GByFBH2T8p4_dnfiPmfEhxu_Y9EzSXVwWUHjN5ZOFfFvhVG7QiI_9VZwd5Trsds4AhQl'], datetime.datetime(2023, 10, 15, 14, 43), '@rasutoin', 'ハトハット', 22]\n",
      "['pic.twitter.com/XAh8MLJvw1', ['https://rts-pctr.c.yimg.jp/BgIFgYJGVIVv8u0nVJvw8B2FauAYMF4jOP5zFJAV4i6hjVpND1OjWZ7RVcmujne-j1irzW_POlz0991nIjnA9l6ohfq_BUskg0TZgAKC58Yxlco8XcT4OF9m4yp5VSC6CDLG48T5VhbMAAihDAjYu_qRikj7BRwayeK4ezBlMrz2ubpBdeyYjMZX7iUC6C50'], datetime.datetime(2023, 10, 15, 13, 30), '@yokoshimatakema', '邪武丸', 538]\n",
      "['pic.twitter.com/9x4jYiTn4N', ['https://rts-pctr.c.yimg.jp/BgIFgYJGVIVv8u0nVJvw8B2FauAYMF4jOP5zFJAV4i6hjVpND1OjWZ7RVcmujne-uilRgFql6jRRKqPjC_OeLyzQRON2AjCzd1xdQJcpESuB6u9VUkyxNNspbuIlTtUifwWa2X_nJICVmpuk7fFnH18Ewp1d2kNS5RqAtPKNLDkwwHHgR1gwfD4iJkpGM8vA'], datetime.datetime(2023, 10, 15, 12, 30), '@G6rZs_Ichigo', 'いちご🍓🍙♌️', 194]\n",
      "['pic.twitter.com/FP7WuSGkML', ['https://rts-pctr.c.yimg.jp/BgIFgYJGVIVv8u0nVJvw8B2FauAYMF4jOP5zFJAV4i6hjVpND1OjWZ7RVcmujne-KlzqdVJys77JaLlSMGJ6PfDbmxyQ7hsxW_OFJvwQFniZJGVeDMhCMvBvAKTH5l_Eu0FdlJgKV7I6zWaLcq2UZ1iIpaEOt_DYDydbbWuWIlIJ9BEEWs_bdiJuhzOxZn0B'], datetime.datetime(2023, 10, 15, 7, 37), '@LqigwHR7EYdrNs2', 'のばら絵アカ', 3300]\n",
      "['pic.twitter.com/i0jaw3SbQi', ['https://rts-pctr.c.yimg.jp/BgIFgYJGVIVv8u0nVJvw8B2FauAYMF4jOP5zFJAV4i6hjVpND1OjWZ7RVcmujne-z-On-sn0ZDN9H4wBGaFFF7Wz5LgjwghkXfWlsYyT7Tui2ifWiZncpQ4hs_-sI6aWKEs68pV9dZVrvWG0m-iIzuI-lGc2QKN_OE5UQrbcwQj6mKir15rxAe1UCxjfmpwf'], datetime.datetime(2023, 10, 15, 0, 3), '@tntl_nemui', 'TANTAL', 725]\n",
      "['pic.twitter.com/2srQbaVG5e', ['https://rts-pctr.c.yimg.jp/BgIFgYJGVIVv8u0nVJvw8B2FauAYMF4jOP5zFJAV4i6hjVpND1OjWZ7RVcmujne-20o0PYp1CJvwxJuE7J2vxasvBAVbUZOHIrrgEVS_N5HkvH6DujE2w1eDA92M6FbkivpX20VwyQc7n2rJCGZaRU_PUbxZ963xKhRsDAFHfPZ-e8K6SH31U2mCyF0nH6mh'], datetime.datetime(2023, 10, 14, 23, 59), '@2438Watermelon', '西宮すいか', 53]\n",
      "['pic.twitter.com/GbO7aoIWrP', ['https://rts-pctr.c.yimg.jp/BgIFgYJGVIVv8u0nVJvw8B2FauAYMF4jOP5zFJAV4i6hjVpND1OjWZ7RVcmujne-Y9XnCs3UK7Kg754anw6yaGdoWmUdJghk9h6t3ybqfuas3-5zEFsRud7iOKd-MMv_l17wGYGneEtx2PqUiWvO1eyw85e9klAKrBO4a__UlcKyUmEFStnvrGU_kDgY3wbA'], datetime.datetime(2023, 10, 14, 23, 34), '@reito_muneniku', 'とりむねにくん/Vtuber/AIイラスト出力するよ', 51]\n",
      "['pic.twitter.com/RB5p9nG3YQ', ['https://rts-pctr.c.yimg.jp/BgIFgYJGVIVv8u0nVJvw8B2FauAYMF4jOP5zFJAV4i6hjVpND1OjWZ7RVcmujne-9RQhJoripegH-Lfj0hrtgENgzRazUIRh-BV5DFJzB2O8jbsutABzcG-SjVKY6FYPJ84DfFQL-7y6jqpFvY0i5qhUA5ImVZWVlxVy5WRlhsqEw7jR-e0jZXaA3qXTmOG0'], datetime.datetime(2023, 10, 14, 21, 38), '@CangiMao19564', 'おかか🍙 🥐🌽', 51]\n",
      "['pic.twitter.com/CjDeTyzRZm', ['https://rts-pctr.c.yimg.jp/BgIFgYJGVIVv8u0nVJvw8B2FauAYMF4jOP5zFJAV4i6hjVpND1OjWZ7RVcmujne-Y7KsWck8rMNkp6KeD6-cln-T9hJGbsvDW0WcobiERGOFk2WgZGRn4U99GUyw2f4GBDj2LFM6Hqai5YGXXt21zt-FRCIZBY1q3TOyK4ia5yC1cr5XewJjKS2ir0TqfeGY'], datetime.datetime(2023, 10, 14, 21, 29), '@doron_cheerful', '忍朗', 662]\n",
      "['pic.twitter.com/Zzlqs3XLqT', ['https://rts-pctr.c.yimg.jp/BgIFgYJGVIVv8u0nVJvw8B2FauAYMF4jOP5zFJAV4i6hjVpND1OjWZ7RVcmujne-NSCnFT_2aIDVCUlxEOR9Y2XHcHqoIMhUnb2bUNhxx4TxzmZKThLi5d8YK4RIs4u1NrwC8NxSlLbq56fPTJBHNJcW7TzY-YRDRyq4DyZU7varzPIDCbBLA2dsWN_oMDu1'], datetime.datetime(2023, 10, 14, 21, 24), '@AishiTsukishiro', '月白あいし', 39]\n",
      "['pic.twitter.com/jGcr00n80R', ['https://rts-pctr.c.yimg.jp/BgIFgYJGVIVv8u0nVJvw8B2FauAYMF4jOP5zFJAV4i6hjVpND1OjWZ7RVcmujne-iMugMt0rQneUolpiDUbVOYuNVdqa6qRjMsh7em05DjkLc62P7K3DkvYDzolY5LoDHcKvBazR8cJoxi4Fl9zn6B-R84bbjtYJfrqpMpwEtncjQn1VE1z4qxwzmWf1LmCg'], datetime.datetime(2023, 10, 14, 21, 1), '@_Hqtake11', 'はたけ', 117]\n",
      "['pic.twitter.com/R5pFLY9KaE', ['https://rts-pctr.c.yimg.jp/BgIFgYJGVIVv8u0nVJvw8B2FauAYMF4jOP5zFJAV4i6hjVpND1OjWZ7RVcmujne-MkqyQb1u1SugPUk7oxvm14musZv_cB0WBBJiVaa1FGtGKK02XAMLGzMn1csawuNKs9WcKYPk5pAcUKJW0JqOb-W6aClp9AylF-AZ0qtmVzfLjedp636_xNUHMOvAZnnp'], datetime.datetime(2023, 10, 14, 20, 27), '@gato___92', 'Gato^.\".^ 🐾', 117]\n",
      "['pic.twitter.com/grxz8xFD0h', ['https://rts-pctr.c.yimg.jp/BgIFgYJGVIVv8u0nVJvw8B2FauAYMF4jOP5zFJAV4i6hjVpND1OjWZ7RVcmujne-9R2PgIGYQWQXWgXdDLpoN5Iu7ScqLI5kz0UgmOtw7WA86_w5U4hgKvEhqeTno-C-mgUmgHraAETrZBbjLwav8i_0Zpimm6gApcIuE4uLjG8gwPcStbWcKgv0maLz8Zgx'], datetime.datetime(2023, 10, 14, 20, 4), '@ran_ran010', 'Ran', 499]\n",
      "['pic.twitter.com/KqrCjBdbFB', ['https://rts-pctr.c.yimg.jp/BgIFgYJGVIVv8u0nVJvw8B2FauAYMF4jOP5zFJAV4i6hjVpND1OjWZ7RVcmujne-qKMMPNsPnw6rkWc5FAGLjHVu_cP_E1a-8sqMhdWEADEH8D7Di0GLRIyfIyWljxDDd0xfHXzKphc0DjAn2ULQIpBf0rrzcLLinSi4ZIE3kl8X143qwP-CPkWzvr1gMVxS'], datetime.datetime(2023, 10, 14, 20, 0), '@0nfuy', 'ろあ', 50]\n",
      "['pic.twitter.com/4J6IETFntN', ['https://rts-pctr.c.yimg.jp/BgIFgYJGVIVv8u0nVJvw8B2FauAYMF4jOP5zFJAV4i6hjVpND1OjWZ7RVcmujne-L0YXdKX-B0wlBdmCXt5duA9SUOnbqu39O8KtjO5-SuSd-iB_fZjNp70JvZG5bYmVBMSOCfWrJmdq6jwI6QUwh7RvErAkRx-fcDyB81ypIf3xiUAq2rNGLys7AnB-lQ7e'], datetime.datetime(2023, 10, 14, 20, 0), '@neetangel365', 'にくてん@ホロクル6th H-08', 279]\n",
      "['pic.twitter.com/vunUqE3TZp', ['https://rts-pctr.c.yimg.jp/BgIFgYJGVIVv8u0nVJvw8B2FauAYMF4jOP5zFJAV4i6hjVpND1OjWZ7RVcmujne-mGNKJnEq6e0q5APqJyBR6vB9ciQzHbyYzfQVqLPOFKWSP7PSODFCCq861zwbrzwPKLqPLBPY50dzGZN1UoUgtSSHMTmSp8KWaPM-iXSY-6qYnSduOpG95hGPGKozZIKV'], datetime.datetime(2023, 10, 14, 19, 43), '@get_shimomichan', 'しもみ', 430]\n",
      "['pic.twitter.com/jFsbGAW5YR', ['https://rts-pctr.c.yimg.jp/BgIFgYJGVIVv8u0nVJvw8B2FauAYMF4jOP5zFJAV4i6hjVpND1OjWZ7RVcmujne-G61KkmCZ2NBnTfI6Qs3G34f13lxAM36m2agjINt7K1zMmQZTUGLPvOLGzRXOZ51jia5U5dVQoTYZbhtJlPa_kUE1FysiVBKy5waw0XV8kzDEbQFY0ff-rh3JtPb1sCZy'], datetime.datetime(2023, 10, 14, 19, 33), '@hiro_uniuni', 'HIRO♚🐺依頼募集中', 959]\n",
      "['pic.twitter.com/eympVDx6r6', ['https://rts-pctr.c.yimg.jp/BgIFgYJGVIVv8u0nVJvw8B2FauAYMF4jOP5zFJAV4i6hjVpND1OjWZ7RVcmujne-9qHd94qg1Da4c3LFL_0aaFwILiZQXyBxgL_XWdPxg7QLEoOseYlFKJt1gc2l8GHB8Br8dO9R8hD1XrchIdxwn41qI0fipcQayNB_BfXQcBsVN22oXhACv72zqu27pveu'], datetime.datetime(2023, 10, 14, 19, 16), '@ponta1299', 'おひや@絵描き', 567]\n",
      "['pic.twitter.com/9SwCul25o5', ['https://rts-pctr.c.yimg.jp/BgIFgYJGVIVv8u0nVJvw8B2FauAYMF4jOP5zFJAV4i6hjVpND1OjWZ7RVcmujne-Sl6LBqvTYDjIBbDOyeTajZ59nqR5LXbJHsmIYbX77mfRO46VCow4wCIUVJhZ4t5YCYW3Nu6szha9wPpKkqoRn_zsjYpLm3WFIdXMOOChEtdGZYpAlsST9YLZ8JbhKXD5'], datetime.datetime(2023, 10, 14, 19, 8), '@aiueobaio5', 'もろたで工藤', 18008]\n",
      "['pic.twitter.com/RdhBGZPINk', ['https://rts-pctr.c.yimg.jp/BgIFgYJGVIVv8u0nVJvw8B2FauAYMF4jOP5zFJAV4i6hjVpND1OjWZ7RVcmujne-eriq6mrLmX9d4dmZ4vgJOfNPrOwRERn7iXvt4hQFO8-62-E8Pkg8qJ6z0i3BdmvHwz4WTrCUTUNpYt_4weiGll89q2wh_LoOi1Ks9TOA_ERiYvUHJr-W1xBwbzC1yLps'], datetime.datetime(2023, 10, 14, 18, 38), '@hajime_220617', 'ハジメ@10/21ホロクルA-12', 33]\n",
      "['pic.twitter.com/1SYnSN5OUO', ['https://rts-pctr.c.yimg.jp/BgIFgYJGVIVv8u0nVJvw8B2FauAYMF4jOP5zFJAV4i6hjVpND1OjWZ7RVcmujne-D3Ef3_3uAJcdSwFRIgPCuX0hKPWZ6YWZ9soSzuJpcIwdZFmERiVZGY9qa2N0USgBKhdY9EU0Rce4XWd0UGi6kR-Jkk2p4ei-OxcX4sXwZFd-3OOcgVaBJf__4Kbd1tIg'], datetime.datetime(2023, 10, 14, 16, 58), '@Ru_spring_', 'ふら\\U0001fabc', 793]\n",
      "['pic.twitter.com/LaJoh0vn0G', ['https://rts-pctr.c.yimg.jp/BgIFgYJGVIVv8u0nVJvw8B2FauAYMF4jOP5zFJAV4i6hjVpND1OjWZ7RVcmujne-wSew_1OeEsjUqoNLo0aWFh8sDwaHk8Zh6XGbzNJ7QOdW0jGu6eGFcE6VZrGJJ0FmXGs-f4uEJwnE2B7rhdtZDQXk6TuSWxuthoe7EoE_JDXQyRgwMiAij3jvFiuCs_5u'], datetime.datetime(2023, 10, 14, 15, 41), '@ikayaki_4', 'IKAYAKI🦑🔥\\u3000呑み過ぎシリーズ📦💨✍🦑', 3313]\n",
      "['pic.twitter.com/WE5CQ29nyO', ['https://rts-pctr.c.yimg.jp/BgIFgYJGVIVv8u0nVJvw8B2FauAYMF4jOP5zFJAV4i6hjVpND1OjWZ7RVcmujne-gtfgZAQDyGjnsaSkE9QFbhot47cNnQHIHeQvirRZ5SNSlWVa9PlhFsvgO_We4sdXCYz52i4EkmV0wBT7OKBteD4zyzty4hsa_j_8t6rg7QEhL90a3nt-bPVo3we-Z1oB'], datetime.datetime(2023, 10, 14, 15, 5), '@E33e35qMfFU10d6', 'katatatakikenn', 30]\n",
      "['pic.twitter.com/zKvZSWCcxw', ['https://rts-pctr.c.yimg.jp/BgIFgYJGVIVv8u0nVJvw8B2FauAYMF4jOP5zFJAV4i6hjVpND1OjWZ7RVcmujne-dqGiRbBm6kGkAHnPOJSr-zOIjOFWwQhODn-zFfke3LimoGMnTcC8s7PxGd0OAYPzpiHCoPuTk7qOotEetgRvs8rcyPF3VfQD1b9QSc0a_A7M6lZniTpe4YU81n2cFWoO'], datetime.datetime(2023, 10, 14, 12, 36), '@room_rmm', '白山', 15]\n",
      "['pic.twitter.com/TzDKvauIxZ', ['https://rts-pctr.c.yimg.jp/BgIFgYJGVIVv8u0nVJvw8B2FauAYMF4jOP5zFJAV4i6hjVpND1OjWZ7RVcmujne-Bg4udxHbh9OnD3Cxjesp9PFgNXOnzb6FND2Abg4jhPmgOZmF74IpfHioBlm5X6KQUjQC0QY_BAdfSwCoLHcjvRddRZn3De47gb-0FPtM6PpB8YuaN1jLMwALtYenYefQ'], datetime.datetime(2023, 10, 14, 12, 1), '@Nekonatsu_0', '猫夏', 102]\n",
      "['pic.twitter.com/xH5x0hnwPb', ['https://rts-pctr.c.yimg.jp/BgIFgYJGVIVv8u0nVJvw8B2FauAYMF4jOP5zFJAV4i6hjVpND1OjWZ7RVcmujne-kqho42EYXZ--Cc6iWqkxvQYKOXHVMNZ_ytnv31wmIxXDZMQNc6BaUto1Foyntu_A0laXpNalago3qBCGF-R2PNAx_mPVAkgaQs_oCjf8AwOE-uXDvI1c_OiYfVo-bzW0'], datetime.datetime(2023, 10, 14, 12, 0), '@ChocoLatte_7_', '🍫チョコレーナ🍫\\u3000絵描き', 25]\n",
      "['pic.twitter.com/oR827nIlOB', ['https://rts-pctr.c.yimg.jp/BgIFgYJGVIVv8u0nVJvw8B2FauAYMF4jOP5zFJAV4i6hjVpND1OjWZ7RVcmujne-Pmzs-dQbaALf6TupUooYEmKuJXCoDLVY23uIMTxPJ6XKABm5I-FWltNxDP_En4_I0rzWF8cfnRnDo7ZVL4QTHCw5bqQ-RN8hKCUFze9S1M04Bt-dmxfPOimGRVE-aXyg'], datetime.datetime(2023, 10, 14, 11, 38), '@Uruuruuru9', 'うるん', 19]\n",
      "['pic.twitter.com/pMv9l5R5xM', ['https://rts-pctr.c.yimg.jp/BgIFgYJGVIVv8u0nVJvw8B2FauAYMF4jOP5zFJAV4i6hjVpND1OjWZ7RVcmujne-xbRs51pSpfPl301lQFmvBovo11NcuYsCp1lhApBxV-iSSHtySOghAG7UK6v2Aj3YfccNRfRswBSs3hxLCrSG9t750d1BTODJ6J-dp8Q-Xv4K578Q85pKjmG7F-GjnMQ2'], datetime.datetime(2023, 10, 14, 10, 11), '@hatunegun', '初音軍🥐🍙🌽🌲', 45]\n",
      "['pic.twitter.com/Q83If6aXMt', ['https://rts-pctr.c.yimg.jp/BgIFgYJGVIVv8u0nVJvw8B2FauAYMF4jOP5zFJAV4i6hjVpND1OjWZ7RVcmujne-S0GI-RlyJfgbDSV0kYzw9k5psbLqMzJx9ztFKfyKWcsLYoOrh8HexNEBpTAPcSZ8dU5gukFPRS7tJ4u-yTjQvUz-W_ymhv7Brrxvi2JBIAxEX5TTTduaqte69kIUZ4Sw'], datetime.datetime(2023, 10, 14, 8, 45), '@nakama_kun', '名嘉間(なかま)', 316]\n",
      "['pic.twitter.com/YpFma4mMpz', ['https://rts-pctr.c.yimg.jp/BgIFgYJGVIVv8u0nVJvw8B2FauAYMF4jOP5zFJAV4i6hjVpND1OjWZ7RVcmujne-xyB6XkRHBeX9y1o2BKwbTWBCThL8eW-tgB3s-CuzSfUCeFxO2xs_2f-FV0YRmDRL-7SGBs9NA4MYBBLKhWSdKJMdYh1Z16o982QTrQ9FYIp2gAyyFgt7tWuNbONdHswo'], datetime.datetime(2023, 10, 14, 1, 2), '@qFkNgXGeVR91005', 'yuyuyu?', 19]\n",
      "['pic.twitter.com/e44JuWzDBC', ['https://rts-pctr.c.yimg.jp/BgIFgYJGVIVv8u0nVJvw8B2FauAYMF4jOP5zFJAV4i6hjVpND1OjWZ7RVcmujne-Vcms3XQ-sZutxkytkHqEvA3H620lYtLdzcf1_kNlJbNc09hzi8m9PQlVObRSoqsmIRE5fN6iFcgAi1azE6jTSi-qkHr35ycjgoD7BUSNTfkKOqQkXx2dfu0ucXMc1yWY'], datetime.datetime(2023, 10, 13, 23, 33), '@Poyatty_', 'ぽやってぃ🏴\\u200d☠️', 106]\n",
      "['pic.twitter.com/kTL2pl7T9a', ['https://rts-pctr.c.yimg.jp/BgIFgYJGVIVv8u0nVJvw8B2FauAYMF4jOP5zFJAV4i6hjVpND1OjWZ7RVcmujne-MxS1mn9eYCqzb3zrWgUuUy8tLmaBA1ZtXUTjDRCo9vYh55kD_GrfkdOVXefMjB29CCsR7IOFjkzxaYwbHgXiBW2W5pVL5PyB3y5kyJNuZucgUPtHAm4deedIE0uc43Y4'], datetime.datetime(2023, 10, 13, 20, 29), '@GaBaiLu', '嘎唄 (ガーベイ)@Taiwan絵描', 333]\n",
      "['pic.twitter.com/taBcQx4gLA', ['https://rts-pctr.c.yimg.jp/BgIFgYJGVIVv8u0nVJvw8B2FauAYMF4jOP5zFJAV4i6hjVpND1OjWZ7RVcmujne-RfwN1srYMq5xOtZnYsl6q_7JebWvG96Ux82AfLbtgSoqqj_0wg0m7Qz1u2EawcE6HvOwEkIsVH7-OstL4H-CjbSdOKrN58DIk5zeNLsvwk-mjPeGI53NLZ3UPEJK6Ky5'], datetime.datetime(2023, 10, 13, 20, 27), '@CangiMao19564', 'おかか🍙 🥐🌽', 142]\n",
      "['pic.twitter.com/9gECVgcRvG', ['https://rts-pctr.c.yimg.jp/BgIFgYJGVIVv8u0nVJvw8B2FauAYMF4jOP5zFJAV4i6hjVpND1OjWZ7RVcmujne-NG3JA3ySMNxpWQlLWwussgPHcPnRzyv2heAkyi2ETGllb-KC8GOx6dB2gcK8w0l2cb1yHXmL-Wyq1pG2W-oTPA1d3Fv32LT8hOveCsoBDRD1kaHdnBOq8AzJGwBll0tj'], datetime.datetime(2023, 10, 13, 19, 59), '@gQxPFhfoCuIEHBe', 'すめり/塊原のに', 19]\n",
      "['pic.twitter.com/PEnelnHnkL', ['https://rts-pctr.c.yimg.jp/BgIFgYJGVIVv8u0nVJvw8B2FauAYMF4jOP5zFJAV4i6hjVpND1OjWZ7RVcmujne-SihntDu0Ehjrc7rVXbtWz9RMNwPRc0EhGBaXz_lPII9Gxq54hOEnly_mr_N4Haz9fTS2xItZCL6wf7-QdD-JjD81AuB5UDjCcakRY1KhgPzRLcCTm_IsEPMkQ-J_RF6Z'], datetime.datetime(2023, 10, 13, 19, 59), '@neetangel365', 'にくてん@ホロクル6th H-08', 294]\n",
      "['pic.twitter.com/VhTJ76EOfA', ['https://rts-pctr.c.yimg.jp/BgIFgYJGVIVv8u0nVJvw8B2FauAYMF4jOP5zFJAV4i6hjVpND1OjWZ7RVcmujne-SV5V1r-bw3-0BJdEE8CQZeGgon8JCqFi0JRrHBbnaq_ThSEkCVri1Do50fy9foEsHJNR4zwKUa3RTjBCrTzfbl5TgUCMxDOZp4t9mOsDO9xSaudpq1h5P87JAB5MLIIG'], datetime.datetime(2023, 10, 13, 18, 18), '@Yosuke_8461', 'シュンピー@ホロクル6th H-15', 1225]\n",
      "['pic.twitter.com/UXKsq175uT', ['https://rts-pctr.c.yimg.jp/BgIFgYJGVIVv8u0nVJvw8B2FauAYMF4jOP5zFJAV4i6hjVpND1OjWZ7RVcmujne-PMMRFTjPjQaLNsKwF3utQsqUzpL5fdcUHV_4gvj2Jd6E8cCSivQABd7gs-VMdzSQgbt5DqQLI9dSDWJ8scgMN3d23x3hjDo8z7J5uQDnYTT3igeNfTNmI_4rw6lFjYTm'], datetime.datetime(2023, 10, 13, 18, 0), '@shirayuki00201', '鳥々。（とと）@絵描き', 165]\n",
      "['pic.twitter.com/llLc4NOsEH', ['https://rts-pctr.c.yimg.jp/BgIFgYJGVIVv8u0nVJvw8B2FauAYMF4jOP5zFJAV4i6hjVpND1OjWZ7RVcmujne-X3wDtXNHt7gZtomuyWIaOkgvgRPMLNqKBPH8UNJE3XKeAbY881xIyKXTkgKoUtOFbN-h2EAB2kKnBfkHoFzM2lvwNAWg2nGcFDKpImd3ZWKfTQmybKP8QdXYRQ_wS3me'], datetime.datetime(2023, 10, 13, 17, 30), '@Tsumiki_draw', 'ツミキ', 239]\n",
      "['pic.twitter.com/Z1Wg84koG1', ['https://rts-pctr.c.yimg.jp/BgIFgYJGVIVv8u0nVJvw8B2FauAYMF4jOP5zFJAV4i6hjVpND1OjWZ7RVcmujne-A6FhDp2Ma3jqgtZmR2ZrN6VskWQHpeK-53-ptkDj4ASRjZcROabmmvxEKta_WZOnNtCjGhGZH4llmc45iBiVo5gPGm6qcCcG-SjQKIvZxYye0FnQdxd7GuAE9b1wyrcb'], datetime.datetime(2023, 10, 13, 16, 28), '@shironechan0627', 'シロネッコ🐈🐾', 585]\n",
      "['pic.twitter.com/FgdKIcneO4', ['https://rts-pctr.c.yimg.jp/BgIFgYJGVIVv8u0nVJvw8B2FauAYMF4jOP5zFJAV4i6hjVpND1OjWZ7RVcmujne-q7GQZ8zctqh8eLqAmZyRu7Eg7u1JFj6dDMTWTk2OLulW87ix1mVfV7S22eydNWNlzsRdNR22pL034FQ-H25QZvx5LKQp-SPC92_Q8sULvNqsjOMnYK5kGy63xyO15H3H'], datetime.datetime(2023, 10, 13, 16, 15), '@gQxPFhfoCuIEHBe', 'すめり/塊原のに', 23]\n",
      "['pic.twitter.com/QHzcpw4N43', ['https://rts-pctr.c.yimg.jp/BgIFgYJGVIVv8u0nVJvw8B2FauAYMF4jOP5zFJAV4i6hjVpND1OjWZ7RVcmujne-pC3mgUgOg0aHb9QGyBMzfchHZ5wQ_ss56uFGBvPbg-rZO-C9Tn7hGzluZLiQE1hUWFKtXkvH-ugeL_HIOiRCy8NibW55Wyr1aFAjf-81sy3nXEYBy60yXgq82OB2n2K8'], datetime.datetime(2023, 10, 13, 12, 50), '@Paju_14Rio_69', 'Paju', 17]\n",
      "['pic.twitter.com/nBys2mvX1k', ['https://rts-pctr.c.yimg.jp/BgIFgYJGVIVv8u0nVJvw8B2FauAYMF4jOP5zFJAV4i6hjVpND1OjWZ7RVcmujne-bKRe4frfSDbNOlIz628VItMXDpBz6ybAR5wlBXK6uLY2b6KUbL2pfUa1YwzU5MIlwn8ZmmV6_bw9NJP4mImbODoPUG5RL0ztxPPLed4GflmtG-oQnBp_yrV_osBlAh-T'], datetime.datetime(2023, 10, 13, 8, 45), '@G6rZs_Ichigo', 'いちご🍓🍙♌️', 328]\n",
      "['pic.twitter.com/ADEj6udZRh', ['https://rts-pctr.c.yimg.jp/BgIFgYJGVIVv8u0nVJvw8B2FauAYMF4jOP5zFJAV4i6hjVpND1OjWZ7RVcmujne-TECd2Ketlo9Ymg-ns5rqLvuLBcXgENnz31kMRHPQv0bg4dgxFw0dJvpg54JXiGoAyxbVn6FiS9T10L6zz87YBBDrnIwdIwKSKfY5RfpeFgXGfHSSafza4OM5MBc55xLh'], datetime.datetime(2023, 10, 13, 6, 0), '@Kulibel_', 'くりべる🍙', 85]\n",
      "['pic.twitter.com/GiUucC6I8j', ['https://rts-pctr.c.yimg.jp/BgIFgYJGVIVv8u0nVJvw8B2FauAYMF4jOP5zFJAV4i6hjVpND1OjWZ7RVcmujne-2ALk0871trwhIZz4GYMTEqhKeL3UWMFT_tHTp7yvi4UCq5dfAWfrtNZJvv_RaaOjvv13flFTvVZAPQJMr33KDYEjo-uxzXcu2s2E48Q56O61F2p9FREK8BsVjbitM9nO'], datetime.datetime(2023, 10, 12, 22, 44), '@2438Watermelon', '西宮すいか', 94]\n",
      "['pic.twitter.com/nziYu421g6', ['https://rts-pctr.c.yimg.jp/BgIFgYJGVIVv8u0nVJvw8B2FauAYMF4jOP5zFJAV4i6hjVpND1OjWZ7RVcmujne-u39zRHTIthGgA35ot4dzWJmX5oyoZaM3Vq_0IYI-c2j1HzAQF4DtzjbEqT51NzTRnCi0ou8QBD-PgxRh2X5MfOKZOSkeHtkFKKgf7UHWqZJTIwP46fPmw9bZMHm8vGho'], datetime.datetime(2023, 10, 12, 22, 6), '@seyanan1784841', 'せやなん☄️星詠み☄️/受験生', 23]\n",
      "['pic.twitter.com/iXMlBsXRAh', ['https://rts-pctr.c.yimg.jp/BgIFgYJGVIVv8u0nVJvw8B2FauAYMF4jOP5zFJAV4i6hjVpND1OjWZ7RVcmujne-tJxZmmU2VvTdo-9Uyg0POby3wGXEJufczT5fvBU5-qYlQU7Db8ThCDQbJDW43PYHcMr3RRed6hplRfshHSJSU3k2MpCGv40KpQH-r1xR4ea9ONkIKgbNW-PLj20miA0d'], datetime.datetime(2023, 10, 12, 22, 6), '@neetangel365', 'にくてん@ホロクル6th H-08', 242]\n",
      "['pic.twitter.com/Pyn8Nllwdl', ['https://rts-pctr.c.yimg.jp/BgIFgYJGVIVv8u0nVJvw8B2FauAYMF4jOP5zFJAV4i6hjVpND1OjWZ7RVcmujne-H30K-HZCuBcxjs2eSPJFi7cfzfLZ5IkRebClQsYSvAlUJjVCYk9PXaLzxoBSv5B8MsIxOIyXn1yZx4aqcFKZO09HbxkDUNNOBAQhZbqz97lORwkq7Lm8_LVP96C-asSP'], datetime.datetime(2023, 10, 12, 20, 2), '@nyas0123', 'ささおか', 9127]\n",
      "['pic.twitter.com/z7UUOLxIi3', ['https://rts-pctr.c.yimg.jp/BgIFgYJGVIVv8u0nVJvw8B2FauAYMF4jOP5zFJAV4i6hjVpND1OjWZ7RVcmujne-q9W27u1MKhC5PSqVEQ780aPqioXexxx3PjnAfpeF2JQr1lrlGu_mC9Zg09M0XguxDniC7o6vsulBPfhMigjtp307IoWWZPwFsfBhzZUggRDMJwWo1yXP0JIY-Rbv4oV_', 'https://rts-pctr.c.yimg.jp/BgIFgYJGVIVv8u0nVJvw8B2FauAYMF4jOP5zFJAV4i6hjVpND1OjWZ7RVcmujne-5TI3FllEEbzeqfClB3Spgz2F4t3l0WNF9k8Hygqoyc60_fyE1sPP53f-igNtf_Ot_cDpWZGwQy5QH7AtLnpGjX43qepl3bqCnleH656LQswvCPq9nxZGBNkghO7v25W5', 'https://rts-pctr.c.yimg.jp/BgIFgYJGVIVv8u0nVJvw8B2FauAYMF4jOP5zFJAV4i6hjVpND1OjWZ7RVcmujne-fsXhRGHclMSI6Nj2ZMTj9kI3UDrO8LvmLdHaTSAYFdAxE3jMHuZ4yLbmTUNs98TnabvslJ7dVWdOd2_yLBO0FujEweNwgQqTD5MP4qkCL8LhznrDOw1jAZpW5Tm8-hzs', 'https://rts-pctr.c.yimg.jp/BgIFgYJGVIVv8u0nVJvw8B2FauAYMF4jOP5zFJAV4i6hjVpND1OjWZ7RVcmujne-y9C26GjzQo3fIgM_r3k1hB5uSMS92oT52C6NZKog1G3m2UV4K3F2OhPkwWpznEm3KvgrWU4RXMFIXIvDQiGzSGkrwjRMCZBCve0iQ_Q5i7L2A1cKzBF_4Edx2rvH_jBl'], datetime.datetime(2023, 10, 12, 20, 0), '@kimagure_13', 'ラムネ花火＠10/21ホロクルG-06', 6257]\n",
      "['pic.twitter.com/vFj40UpTDG', ['https://rts-pctr.c.yimg.jp/BgIFgYJGVIVv8u0nVJvw8B2FauAYMF4jOP5zFJAV4i6hjVpND1OjWZ7RVcmujne-TkFkt706hwr6rHYVSiJPVa-L-quIkm9Lwu276uz-mq9IWgUIEMtCLKOK6mleCtMNas8Ue0WQ6zsJIaDrJAHxa8EPZaiZTcpPsssfc46qNwK8EC5NPAUP3gM9vhbCkH4q'], datetime.datetime(2023, 10, 12, 19, 58), '@haro_jp_', 'はろ', 9659]\n",
      "['pic.twitter.com/0mAuY0lPHX', ['https://rts-pctr.c.yimg.jp/BgIFgYJGVIVv8u0nVJvw8B2FauAYMF4jOP5zFJAV4i6hjVpND1OjWZ7RVcmujne-f9E2sKJYiSe5W6gTCCOpx-aRlbgEtf2pWH3lA9GKfZBO7mRqw5sinULBwILM-b5Z9PDLAKFCjZrQzSL0fRvUoisr-COYYNdCMY8iS3cG8X3cEtnVjik1_CaH6WMpUp4G'], datetime.datetime(2023, 10, 12, 19, 0), '@tau_otw', '音葉たう', 254]\n",
      "['pic.twitter.com/kyNjYhmnBI', ['https://rts-pctr.c.yimg.jp/BgIFgYJGVIVv8u0nVJvw8B2FauAYMF4jOP5zFJAV4i6hjVpND1OjWZ7RVcmujne-kuvkrg59KZa-Ca-qq8yN0Dn_qZzv9AYboQdX6FBEyAzA5RGLOnyjtGYzZ2ac9khwOVMwu_RxSfT0guG9fZwFijCDHdlUbivoa72tVgj7KcBMXq46yRimqBP78TzpFKob'], datetime.datetime(2023, 10, 12, 18, 14), '@coco_0108', 'coco', 290]\n",
      "['pic.twitter.com/RFjW9GVbWN', ['https://rts-pctr.c.yimg.jp/BgIFgYJGVIVv8u0nVJvw8B2FauAYMF4jOP5zFJAV4i6hjVpND1OjWZ7RVcmujne-v9b-Nkl0oNztfKyNxE2oUQdrTAOiX08a_7R5xnr7r628JNs16xqp9QknMpUZ7NEa67EhWWwpFDC1XxXPjFWC6fxT3N7hQ-AZ8uoQT1hUyp4AKbKYu4FJpo-pksN03MIS'], datetime.datetime(2023, 10, 12, 16, 23), '@ikayaki_4', 'IKAYAKI🦑🔥\\u3000呑み過ぎシリーズ📦💨✍🦑', 4537]\n",
      "['pic.twitter.com/uBzn9J6Bdm', ['https://rts-pctr.c.yimg.jp/BgIFgYJGVIVv8u0nVJvw8B2FauAYMF4jOP5zFJAV4i6hjVpND1OjWZ7RVcmujne-GsuGJIUtr3nl7ryD6D-nr9aGY9Pa8VxUAbZBdlv7SSle3zWHMQOSN1PlectuBEM5QuWteQMIbhVnCAZ0tBZs6fFRyyztSSxxQLhrPawPVawM3UhcbcXFfEfoYQUvEvVR'], datetime.datetime(2023, 10, 12, 15, 20), '@Seinomi2', 'せいの', 1005]\n",
      "['pic.twitter.com/NbAOVgk0XZ', ['https://rts-pctr.c.yimg.jp/BgIFgYJGVIVv8u0nVJvw8B2FauAYMF4jOP5zFJAV4i6hjVpND1OjWZ7RVcmujne-tAWd8CiVSb2BYKZl49G_x41D_9fIy_mSkhEtP2h6zOZBOA1nLC6lWQ-DUmeIA3GEvdHRLGqeP4Ng6FuY28jlwm0205XWxFXkrnB1a-biSN_93xc3cBiwJlgn55eapSf4'], datetime.datetime(2023, 10, 12, 14, 16), '@CangiMao19564', 'おかか🍙 🥐🌽', 29]\n",
      "['pic.twitter.com/kmwrP9CeJO', ['https://rts-pctr.c.yimg.jp/BgIFgYJGVIVv8u0nVJvw8B2FauAYMF4jOP5zFJAV4i6hjVpND1OjWZ7RVcmujne-MmHQheKT--hqJ0iZDoiNuKWd93fIDA1TpQEIWqynjMw0wmIIP4asSCFp-hyYrlUi1ffWUOF2OH61WAfT4Lml1tzxSBW-MA02c5Rhkx5fX8Gt56innkdFkaepUtQdV5Ag', 'https://rts-pctr.c.yimg.jp/BgIFgYJGVIVv8u0nVJvw8B2FauAYMF4jOP5zFJAV4i6hjVpND1OjWZ7RVcmujne-CRdGUpMewaNFXnq1tnJhShklh2lcw0zN5UOflEvgt27PlCREnQNw8HidWreiQGv59JnjYCLZtSsDzYxFelz3-GUfZZIQkVItWqVwKglCly-KIZSkGA63B5grAnOVNhOg'], datetime.datetime(2023, 10, 12, 13, 49), '@ibuki_haru48', '一颯', 67]\n",
      "['pic.twitter.com/zLcA3xMZWC', ['https://rts-pctr.c.yimg.jp/BgIFgYJGVIVv8u0nVJvw8B2FauAYMF4jOP5zFJAV4i6hjVpND1OjWZ7RVcmujne-ifnQ9iDdQ5DpOQyt2qVlnnm30yms6geJKbspra44AYMRr2ps2rycXZ6dJnY0_99eG2UrkIAPV0t45Hemfdo4c41JhdBlZvhUs6jY-uznHJovFp5gVKagK74slAVUlc3_'], datetime.datetime(2023, 10, 12, 6, 56), '@kirbyspring007', '春カビィ🌲', 81]\n",
      "['pic.twitter.com/BuajoerGy0', ['https://rts-pctr.c.yimg.jp/BgIFgYJGVIVv8u0nVJvw8B2FauAYMF4jOP5zFJAV4i6hjVpND1OjWZ7RVcmujne-wAkS8KVnBKcZHFreC5MNOztto1sNYBX-rVuZE5315pYqMRl93fX_y0HwlkFl-KKBRFNif7hBcR44hrGP9pWumv_ivWxsFBpC_GO-6eAj8DGk0r1aoRpaAVW8hXd1hVTD'], datetime.datetime(2023, 10, 11, 22, 58), '@neetangel365', 'にくてん@ホロクル6th H-08', 278]\n",
      "['pic.twitter.com/L1XeQeZg4H', ['https://rts-pctr.c.yimg.jp/BgIFgYJGVIVv8u0nVJvw8B2FauAYMF4jOP5zFJAV4i6hjVpND1OjWZ7RVcmujne-R5YaUKs90lidtxwzXERv6bHqkmLaOZP15zXcLM97a2-hR2MGDFT4jYCMoJK8h1DU_2PD-725LEjKONie5MrxQtlJfAQ-kI6HdnUZ_GGj8aHCn6oj1TvVZul2-V5nCwqA'], datetime.datetime(2023, 10, 11, 21, 20), '@nyakano_o', 'ナカノ', 989]\n",
      "['pic.twitter.com/O47rc7yOTS', ['https://rts-pctr.c.yimg.jp/BgIFgYJGVIVv8u0nVJvw8B2FauAYMF4jOP5zFJAV4i6hjVpND1OjWZ7RVcmujne-uIWC8MA4BG9Z6rArWHJUBF95QAtE3XCGQ1KAxFw7iL4T4Q0_cPNeP86cxW_aNYqMscOu-e0F7rgOLDfbVfglGre-q7MnyWTpYjhVZFBr5Dhqxa9QEVNfVUfI5cKZrnzg'], datetime.datetime(2023, 10, 11, 19, 57), '@VvpXo', 'オス-osu', 2633]\n",
      "['pic.twitter.com/HpdmwgaIAi', ['https://rts-pctr.c.yimg.jp/BgIFgYJGVIVv8u0nVJvw8B2FauAYMF4jOP5zFJAV4i6hjVpND1OjWZ7RVcmujne-oXacjw3zPiovwO6B8Ref6OLAG7A3Ni9NJGP-Y1mBp-WiSYIXbkoWIEJLCpYyZdlRIyA3kk4s39jDKBEIM93SfZ84mD57U1PQgmQVVpMzLtirb1MtfY20D0R_HQz2z_By'], datetime.datetime(2023, 10, 11, 19, 56), '@CHILLY_karon', 'ちりゐ＠お絵描き', 523]\n",
      "['pic.twitter.com/OweYkedFDC', ['https://rts-pctr.c.yimg.jp/BgIFgYJGVIVv8u0nVJvw8B2FauAYMF4jOP5zFJAV4i6hjVpND1OjWZ7RVcmujne-kTIaD7t9-a9yLutfoAILBhc972zpigg7Ewx1wEeVVUwxfK3b-zi3FpY485z8hUMUc_K2tCGn949K8v3eXG3BjdL1EhEXoZaj1bysl098gH5S-FJutE7Oji-yj4JwwFyE', 'https://rts-pctr.c.yimg.jp/BgIFgYJGVIVv8u0nVJvw8B2FauAYMF4jOP5zFJAV4i6hjVpND1OjWZ7RVcmujne-9C3e-kDZM3PhSehaX1HWDKKFl1VJtnJayVxxi9V6xHBLE_Fr2LqJeM5yxGTujKL3yoJn-7cMmh9Sh-U5E0ZBQ8AkZd2aRsMbsqkbYgU_kjvC-7WvJ12iEmINN-2_bvF2', 'https://rts-pctr.c.yimg.jp/BgIFgYJGVIVv8u0nVJvw8B2FauAYMF4jOP5zFJAV4i6hjVpND1OjWZ7RVcmujne--7jyvpMr8tHAqdil06nWtZ18bm40mMlnzYgtsWnJ_Av5RP9Kyb-qhnOxwgmxHvb3QLkG8OYKObTfRFU0ddvNsPmE4X1goN2EOTh67MNs3ldnQVXcOWhq_T5cvYZPk8pg', 'https://rts-pctr.c.yimg.jp/BgIFgYJGVIVv8u0nVJvw8B2FauAYMF4jOP5zFJAV4i6hjVpND1OjWZ7RVcmujne-w-DpCg4agA2qqwmhHcZwk6x6zUEI7IG_a5xqf6tmKzF2ZsW74JEnt68Dn60VGpEXgt4d8Zw0kQnTon_JA9D6Bfxy9WNmSOifocVolElmxI2IKR5FQmp681i3GZdntn2W'], datetime.datetime(2023, 10, 11, 19, 4), '@sisijurocken', 'TakAkiK', 13]\n",
      "['pic.twitter.com/0xsJ3NkebO', ['https://rts-pctr.c.yimg.jp/BgIFgYJGVIVv8u0nVJvw8B2FauAYMF4jOP5zFJAV4i6hjVpND1OjWZ7RVcmujne-ry1WBXEUB_YrPt1YbgJX7_ortbPa-mgKqO9gqmUKC_omWnOFQsN8NZl1mA5WClZtSMZPUzc7it9qGUKbuzJG3IJIXDnJkcdvr2GSKHT_U3rzZM2edy7a4ICxTyKvrsve'], datetime.datetime(2023, 10, 11, 19, 0), '@sirousagi0501', '白兎', 134]\n",
      "['pic.twitter.com/qYRZwwnEGH', ['https://rts-pctr.c.yimg.jp/BgIFgYJGVIVv8u0nVJvw8B2FauAYMF4jOP5zFJAV4i6hjVpND1OjWZ7RVcmujne-BDo7YTqTITcN--HrHIAylb4xZJhsPwblNetxwf2B8_vP-fn_Feh2Ht12CsboDtZQv56AMeRPnbMzDI019GoYr7bRv9UKNMacjzkwl7RFurWTTJGjb317da6VGJcQKVTT'], datetime.datetime(2023, 10, 11, 18, 21), '@ione_kemo', 'いおね', 1012]\n",
      "['pic.twitter.com/XSmdPaNZo7', ['https://rts-pctr.c.yimg.jp/BgIFgYJGVIVv8u0nVJvw8B2FauAYMF4jOP5zFJAV4i6hjVpND1OjWZ7RVcmujne-3QPkSC5whIz68l1doL0T00VI86UHlrFQjS3n-GdAqC7x8r4zNhc4M-Weq8y6UVCo4bYwG9LbwjdvPmPDrh0vQ6N6xnlHeXZAmdYwFa-ksPxV5Kia5OcK6j4I8OeYqRax'], datetime.datetime(2023, 10, 11, 17, 52), '@yukigashimo', '雪ヶ霜', 17]\n",
      "['pic.twitter.com/hWpGZBdvLH', ['https://rts-pctr.c.yimg.jp/BgIFgYJGVIVv8u0nVJvw8B2FauAYMF4jOP5zFJAV4i6hjVpND1OjWZ7RVcmujne-N_qCuOVPSm9aYZSyazVMcpPocfJ5BCeLafr7EMhszLayqxe--WLyvL7yIV_wyzYxV3c3quRlasYCIYdYwz9K72hGKKq-GO4mUVxeXj5LQ6yvNhAeAyEvcgW6iXUrbnch', 'https://rts-pctr.c.yimg.jp/BgIFgYJGVIVv8u0nVJvw8B2FauAYMF4jOP5zFJAV4i6hjVpND1OjWZ7RVcmujne-5zwhzZw8Z3WvSLpcXtHHxDffFbvvTGQ9S5XAAl8SHHOB-OcZRBgMA2DMsDPyKUVADiERMu4aSduPp4C7UnazF39me7EyH6eYFSJcG7h4WcpInoB60Ou_m29oCmsMV0V7'], datetime.datetime(2023, 10, 11, 17, 30), '@Tsumiki_draw', 'ツミキ', 219]\n",
      "['pic.twitter.com/0TPhW9XQ4G', ['https://rts-pctr.c.yimg.jp/BgIFgYJGVIVv8u0nVJvw8B2FauAYMF4jOP5zFJAV4i6hjVpND1OjWZ7RVcmujne-wp_41HiRBzr4XjzQ9R4ZJbmduwx03VTSYOYYTIf1iublv6bpuHwzh6D1Pj8PhUajqGwqMOGK7WQGIGrCW5Ea1MQqvHTSX38RIKtbY9Of1Spun1qhK3bB9rMRIK8NQWgl'], datetime.datetime(2023, 10, 11, 16, 48), '@ikayaki_4', 'IKAYAKI🦑🔥\\u3000呑み過ぎシリーズ📦💨✍🦑', 3451]\n",
      "['pic.twitter.com/WXSr7aNsRV', ['https://rts-pctr.c.yimg.jp/BgIFgYJGVIVv8u0nVJvw8B2FauAYMF4jOP5zFJAV4i6hjVpND1OjWZ7RVcmujne-jLc1uLOAUld-pn5e8EnuYZl4XNy2kHrPSiqKFLGGtBxLIknWb3BJfTOcHztajat6WjlB9_v3cbzgNURXxSfHSCQtTv8MdgvMixp8mZHx1zgVZOyOzM4XutyXn4NhYzI3'], datetime.datetime(2023, 10, 11, 15, 20), '@CangiMao19564', 'おかか🍙 🥐🌽', 126]\n",
      "['pic.twitter.com/9p3W3aG6Mf', ['https://rts-pctr.c.yimg.jp/BgIFgYJGVIVv8u0nVJvw8B2FauAYMF4jOP5zFJAV4i6hjVpND1OjWZ7RVcmujne-hHnPg6BmFM_Oc_Isg1rpOaTt9294rDr4nQBONMEkzSn4DuhR8eO_-RWpsrel8gsrxT8oUJGyOdnuKrql-dTnHiFSGEXtNGgGF7Kk9-zYB2kVE9a-PVQQvR2201b0R9c9'], datetime.datetime(2023, 10, 11, 13, 11), '@ChocoLatte_7_', '🍫チョコレーナ🍫\\u3000絵描き', 16]\n",
      "['pic.twitter.com/bcyr8JRY2Z', ['https://rts-pctr.c.yimg.jp/BgIFgYJGVIVv8u0nVJvw8B2FauAYMF4jOP5zFJAV4i6hjVpND1OjWZ7RVcmujne-MaFpZa08ZulspDgHrQ43LbocIBeNPcaCoIDuPdO7sM7CTHqhNaFG6VqZFsW4_8-Mr0Qsc112WnuRQg6LPj85ULaKlzUba5YPrKdZEckaah8mjmFwR-Qy2wW5e0sxEykN'], datetime.datetime(2023, 10, 11, 12, 37), '@you_0832', 'you@多忙@自衛のため籠ってます', 249]\n",
      "['pic.twitter.com/vze8nnDbkv', ['https://rts-pctr.c.yimg.jp/BgIFgYJGVIVv8u0nVJvw8B2FauAYMF4jOP5zFJAV4i6hjVpND1OjWZ7RVcmujne-dMZkpDCpbNoLH5gt9c2G6naNbcLxjBP1Fr4iT37wDh57yjdYE5rZZ5Cqo0fGoW6elLBICs2ENC9FnplZG4Xgi5zdNoHvLaAbu8zkIdyGmzpGO0yX-JJXM7t4zIZIce8d'], datetime.datetime(2023, 10, 11, 8, 45), '@G6rZs_Ichigo', 'いちご🍓🍙♌️', 384]\n",
      "['pic.twitter.com/N9Lgb8VjYO', ['https://rts-pctr.c.yimg.jp/BgIFgYJGVIVv8u0nVJvw8B2FauAYMF4jOP5zFJAV4i6hjVpND1OjWZ7RVcmujne-MGLgOD5haP4poqQAi9_QQH5CTlpdTaswscK4fYzib53_1RhqRfRpx_b8zBfOE4IwYC6Q7U9II12ZSQVTc0xiM39msFPjYG6r4phFmL_scnKq2XbB9ZjaMkhkOkeyRZDq'], datetime.datetime(2023, 10, 11, 7, 35), '@y4_r6', 'Ria𓂃𓊝🐾', 168]\n",
      "['pic.twitter.com/BUcXwduoMF', ['https://rts-pctr.c.yimg.jp/BgIFgYJGVIVv8u0nVJvw8B2FauAYMF4jOP5zFJAV4i6hjVpND1OjWZ7RVcmujne-F_Sz5Uzo4b2-dOUy7N-0M8kVor1fyM7WKzJykRgIxzuv4NbPfmc97VRIiXcS8UAgSxBPRtf2bxfl0avVnR0qIyQXtitnIzitw1lu3J8vszTYfTCuivGYWd5qsX0mPPvg'], datetime.datetime(2023, 10, 11, 7, 7), '@HeatJza80', 'JZA80 HEAT 🍙生焼けおにぎりゃー', 66]\n",
      "['pic.twitter.com/b9w2gmsVM2', ['https://rts-pctr.c.yimg.jp/BgIFgYJGVIVv8u0nVJvw8B2FauAYMF4jOP5zFJAV4i6hjVpND1OjWZ7RVcmujne-RBcKt3M338rP761iVD1b12hkyuCmmKczDHFs-F4UT1xlSzsnb0aY7jC5zVViPirCMhkbdN-NHbJg3yE62Iddm9kA8Wpmg4-pz6aVB0lPzC8CKolwjiSsOUNQh03gUFNi'], datetime.datetime(2023, 10, 11, 1, 32), '@taruto0918', 'たると', 1536]\n",
      "['pic.twitter.com/A7FSBmbHhl', ['https://rts-pctr.c.yimg.jp/BgIFgYJGVIVv8u0nVJvw8B2FauAYMF4jOP5zFJAV4i6hjVpND1OjWZ7RVcmujne-4hG6Rd3WdHgUZ9I_eeCh5NyTvoAyWgGJaqKH2GsnnRIqNm2VY7-aRLtVCM_e7MSMoeHVa49LE5-eBNstoB245nYGhzlM1DiAhxi0AcLMJKfrFMwKE5ZkTSlpM7npvGfU'], datetime.datetime(2023, 10, 11, 1, 22), '@Fett_Katze', 'Kohaku・H', 12]\n",
      "['pic.twitter.com/rC5djnPgW9', ['https://rts-pctr.c.yimg.jp/BgIFgYJGVIVv8u0nVJvw8B2FauAYMF4jOP5zFJAV4i6hjVpND1OjWZ7RVcmujne-k_26uqPMwRZ9RSb1myJpfd3v6A6BGUFdpHDn_XroGLvEENcKknmLuB_q-XKw-GPKsxpV4-FLqwVYlNuB773dUYErzHpvdadgYcZvTC907FwbkG04KrWozqeGghRN6M5D', 'https://rts-pctr.c.yimg.jp/BgIFgYJGVIVv8u0nVJvw8B2FauAYMF4jOP5zFJAV4i6hjVpND1OjWZ7RVcmujne-vIL5WhEiPW-xTCnzMLlz39MVBjeNOT3JwcAlUtaoOuhFXiTcxu-Wq07fUzwwAqqlEcfd3zH2Pb7tvHCVq8oT63neM-f8vtElnu-aQ38Z4vUZb8gslH6y4OMpKRgtmU0y', 'https://rts-pctr.c.yimg.jp/BgIFgYJGVIVv8u0nVJvw8B2FauAYMF4jOP5zFJAV4i6hjVpND1OjWZ7RVcmujne-nTW84_pnl_g2sZndvAOGJch1S5RbNmBRn7Kk9XM2-pzMoYP2rdhoQLYzHo9PaLbjijyNN16flzJTnapCPQU7AbTDD_LKE_KKhfaXkRC8uvUd6RxCyzIy_4V-E04A37KA', 'https://rts-pctr.c.yimg.jp/BgIFgYJGVIVv8u0nVJvw8B2FauAYMF4jOP5zFJAV4i6hjVpND1OjWZ7RVcmujne-1bMARRPUgEm6cMcS3IUwSyv0LMPVq84G32MN-hoMfL-GaTXe8Dyow34IrivvgrRuEYAqFPvjT3856QkG1reHY1hhNUHZuu95QgMLALokIhaJsaeKARDJ76p3u4gSAuw7'], datetime.datetime(2023, 10, 10, 22, 12), '@mochimochi_kemo', '狛犬わらび🐾🍙', 486]\n",
      "['pic.twitter.com/hXLf0FlqLR', ['https://rts-pctr.c.yimg.jp/BgIFgYJGVIVv8u0nVJvw8B2FauAYMF4jOP5zFJAV4i6hjVpND1OjWZ7RVcmujne-N9_Ak0FO78PnRc_0lMvCSEEKEBQGNcP86XI7qx_SwMiT92N6zlUPS-W3LXYtH44DX6p0M4Xj_eGJ34m5YbtIordHIyZTMlrrvgeUTE8no9WgJ4eVflBbBgqNi5jBvvh-'], datetime.datetime(2023, 10, 10, 22, 10), '@neetangel365', 'にくてん@ホロクル6th H-08', 273]\n",
      "['pic.twitter.com/BAInQIVuP6', ['https://rts-pctr.c.yimg.jp/BgIFgYJGVIVv8u0nVJvw8B2FauAYMF4jOP5zFJAV4i6hjVpND1OjWZ7RVcmujne-o2qT6OtdKT1GQSsoglUKAXbWiYk84u_bT2TVio0U6NR-zzEpN-Ca4ltKVcFwB2-SR5LgDSzcdvFyuea6vwCpKikJJ-WAHmmcz1rd_OOtMQqzrqRcJZ7DgOweEcIeRj_j'], datetime.datetime(2023, 10, 10, 21, 10), '@ZealClipsub', 'じるじーる', 39]\n",
      "['pic.twitter.com/YDwtpy0clr', ['https://rts-pctr.c.yimg.jp/BgIFgYJGVIVv8u0nVJvw8B2FauAYMF4jOP5zFJAV4i6hjVpND1OjWZ7RVcmujne-8gv00O9A81Oib2E3CXzkLL3VoXUOSVU37sQweTXAiAzqoZfCylVwFkAEQgeMUR_OH_o7VhNBDF3DRJhSJol1S-jSnXxklw4X13kS8vosJ0A-ngr_JXiP-4x4UV5ng6uM'], datetime.datetime(2023, 10, 10, 20, 25), '@kajimakoto_sub', 'カジ マコト@健全', 4976]\n",
      "['pic.twitter.com/mzw2YOC5GC', ['https://rts-pctr.c.yimg.jp/BgIFgYJGVIVv8u0nVJvw8B2FauAYMF4jOP5zFJAV4i6hjVpND1OjWZ7RVcmujne-Gc13b9tnGEeTQAwhFJROa9wp8lWAR0XFdnaMrpC1cyhQ8V7yz6Hi3Otc1eiTZvBAT7l9G31BmYy8yD1bO94E3yzw73mmkX7wyo9H5dIjy0z8t26rcMlZnXfxm2vvVniU'], datetime.datetime(2023, 10, 10, 20, 24), '@AnimalsCh01', 'ねよつぶしのア🥐', 94]\n",
      "['pic.twitter.com/kxA86g3XAN', ['https://rts-pctr.c.yimg.jp/BgIFgYJGVIVv8u0nVJvw8B2FauAYMF4jOP5zFJAV4i6hjVpND1OjWZ7RVcmujne-R7YDZsErlsT61AKE-3PuBqKQr_xZNyL55FxIjTP3DBSPZgapjygdutaGKNW8skDBiElxYBjYD6ZKt5M-g4Bjh_Ns5BwfnYsxrbuSOe4mITwNsvp63-8pkvcLnXButf-G'], datetime.datetime(2023, 10, 10, 20, 0), '@kogasa523', '狐笠 ひろ', 288]\n",
      "['pic.twitter.com/9fAEp1lveM', ['https://rts-pctr.c.yimg.jp/BgIFgYJGVIVv8u0nVJvw8B2FauAYMF4jOP5zFJAV4i6hjVpND1OjWZ7RVcmujne-NWVh4geLJ4CihsOvjcNh_9muVKsAIUo_8rLBlAoHzrXd0a7SuBm11y5_O9MbhsgfCtqx9rrFiPMs42lJyCtxYU78eI71RdGC2nl7mDdz7M90bStOAS8mp9ohYr96excn'], datetime.datetime(2023, 10, 10, 18, 7), '@cosrokka', '🍻六花🍶', 44]\n",
      "['pic.twitter.com/PsYZXp8Vi3', ['https://rts-pctr.c.yimg.jp/BgIFgYJGVIVv8u0nVJvw8B2FauAYMF4jOP5zFJAV4i6hjVpND1OjWZ7RVcmujne-qYQh1zxxMS4SklARGVKhqKG9kbCjWJejQL8MG16CrrySezIRPZugQE2k6wefUBQ7B5YQKY0gQnfUJK3j5o0X2pFOVML7TksVIY3ESsQYgvpmtXt5fsBoxHLh0xYd7tIF'], datetime.datetime(2023, 10, 10, 17, 30), '@Tsumiki_draw', 'ツミキ', 116]\n",
      "['pic.twitter.com/aO1ME1aSVZ', ['https://rts-pctr.c.yimg.jp/BgIFgYJGVIVv8u0nVJvw8B2FauAYMF4jOP5zFJAV4i6hjVpND1OjWZ7RVcmujne-WglCdb-ejlrB9__PrnNtX2m076XWe1eOQUvJkqDYYNrJ5Zmr8WjS7t3ySDtqR2pXGpGH1CudqdkI1bVCVq8j_d3q6uGH4KjHKBlz5kl_VGX0M-Pd3aL82nCmUijBgLrd'], datetime.datetime(2023, 10, 10, 17, 23), '@chimi_choco', '夢咲ちょころん@お仕事募集中', 827]\n",
      "['pic.twitter.com/PZMBgNUOS9', ['https://rts-pctr.c.yimg.jp/BgIFgYJGVIVv8u0nVJvw8B2FauAYMF4jOP5zFJAV4i6hjVpND1OjWZ7RVcmujne-JEiQ9sywGS0cubIHKXHRpUttN6XXl8SLR3ssDZb1ZU7a8YcFC_l9afOfVkDdV6lVu7Cldz4Zph0kr2ibA81MuHICl6ntubo937z1jSuCYpXhkqNtjKwMWnXbkEE7WVUK'], datetime.datetime(2023, 10, 10, 16, 10), '@torimuraai', '鳥村', 189]\n",
      "['pic.twitter.com/eNN05nIVTZ', ['https://rts-pctr.c.yimg.jp/BgIFgYJGVIVv8u0nVJvw8B2FauAYMF4jOP5zFJAV4i6hjVpND1OjWZ7RVcmujne-k6HESB5FJt2Fbv1dQMDWY-f9ceUDE7Mw_N1xY1o0QeuPSFIxpeIe74FToY0aocJOep4EoMx608QKWIfI1s6MZR2-hthLVxKWYBTJdSRDcf_Xoo0kgyEHQhKBVkTacC58'], datetime.datetime(2023, 10, 10, 15, 3), '@kamagomeyumeee', '釜米とおこめんこ', 11]\n",
      "['pic.twitter.com/mTIVBBhIqd', ['https://rts-pctr.c.yimg.jp/BgIFgYJGVIVv8u0nVJvw8B2FauAYMF4jOP5zFJAV4i6hjVpND1OjWZ7RVcmujne-dtgov8nLAGVtpDezTzdyVjhjifEoKh2TSvAlnMK0qVQ_I-FUpdPl4i_zQRzrfPmhW1uIVW_LGt9f2M41okg6B6BpujLnhB6_CkcW1cF3xd41FJsRgwvWoSRXyT32bNCF'], datetime.datetime(2023, 10, 10, 12, 44), '@aruto9647519961', 'マナ @たまに絵を描くよ🍙', 27]\n",
      "['pic.twitter.com/eOB69XNqss', ['https://rts-pctr.c.yimg.jp/BgIFgYJGVIVv8u0nVJvw8B2FauAYMF4jOP5zFJAV4i6hjVpND1OjWZ7RVcmujne-g46a0ukNnQTViALOzFrIUkIjRwi74vNikXBw3-3pEDnkErrb3IBp0WReVgSJrmde6CwjifQW6jtbEyhd1EPfL9CbnsBX9hNLhBX_D0qeYpepUZT0IY_y9TJz7gvVN_8-'], datetime.datetime(2023, 10, 10, 7, 35), '@bluefire_tuf', 'TUF', 13]\n",
      "['pic.twitter.com/DRo6M560CP', ['https://rts-pctr.c.yimg.jp/BgIFgYJGVIVv8u0nVJvw8B2FauAYMF4jOP5zFJAV4i6hjVpND1OjWZ7RVcmujne-y_2hb7vS9Ipz-nR3XfSOhqbZASGKbK6sqF0mf00kn-roU1dfNV45mFriaGVZQtpmXamlpaTuBfUhCyaxBr_LFld8-yCx2E6fsw6skfKTg3sHBRXJ-NZio43kC9O-Vd8E'], datetime.datetime(2023, 10, 10, 7, 10), '@YutyGundama', 'ゆうてぃ\\u3000毎日がホロガン', 14]\n",
      "['pic.twitter.com/j1smLhUkta', ['https://rts-pctr.c.yimg.jp/BgIFgYJGVIVv8u0nVJvw8B2FauAYMF4jOP5zFJAV4i6hjVpND1OjWZ7RVcmujne-wOQTJkgBTUfQxlmdEo2kp2Z-vHhlNVNHJZeyHP0ToCdKxSfGDgQ8MwxduOOSzxI0SH6hVhaMTH7w69MvL5AiTUUSLZC83fdNsY7c0hD8npmmNdmqvhaonhDsti36iH-r'], datetime.datetime(2023, 10, 10, 0, 24), '@yutoriseikatu', 'ゆとり@山のフドウ', 1932]\n",
      "['pic.twitter.com/NTOocIqAlB', ['https://rts-pctr.c.yimg.jp/BgIFgYJGVIVv8u0nVJvw8B2FauAYMF4jOP5zFJAV4i6hjVpND1OjWZ7RVcmujne-Z3S9EF96p8ClJgkRBNxWIY79N7CZMXskMjGWE61hBANbtwrs5ImPwQk4-QizHgY4NJrZmrNJ6jGxlmxIM3W9iP6s26V9gu7sOgDASEwILlWq4lmG7yz-GAsK5twjo1Ot'], datetime.datetime(2023, 10, 10, 0, 0), '@kongrogrim', '豆🐉💫🔥🎪🥟♌☃️', 30]\n",
      "['pic.twitter.com/5dQaAJI4ee', ['https://rts-pctr.c.yimg.jp/BgIFgYJGVIVv8u0nVJvw8B2FauAYMF4jOP5zFJAV4i6hjVpND1OjWZ7RVcmujne-GAm8Ohegtk_baDifUay9yAI0jGkpZ_92MHhlh3dnyiyGqrgi7llkIUGtuOPL81tH8Ei6LAADrOLibzCNtmLfZD-a4RCH1hFC7tldXvcDMQBY6mlTKPD_oHx6BlsgDAEs'], datetime.datetime(2023, 10, 9, 23, 12), '@taraaaaaaaaar', 'たら之ソース', 5387]\n",
      "['pic.twitter.com/iHxJ8L7KSy', ['https://rts-pctr.c.yimg.jp/BgIFgYJGVIVv8u0nVJvw8B2FauAYMF4jOP5zFJAV4i6hjVpND1OjWZ7RVcmujne-EkOWtkbo8ciHoAOS-Hask0PcyYMpVFFehtFp772t5qXSaEEaajbRDiGf55KjBDaPa_SBtwmPCW07xHGA-3C9UJ2QsKb54EsYPJY1og3lUJnuHd-mVSuQdpBEFlLZb2V1'], datetime.datetime(2023, 10, 9, 23, 3), '@nyon_oekaki', 'ニョーン@絵仕事募集中', 1295]\n",
      "['pic.twitter.com/Wy6YR3jJoU', ['https://rts-pctr.c.yimg.jp/BgIFgYJGVIVv8u0nVJvw8B2FauAYMF4jOP5zFJAV4i6hjVpND1OjWZ7RVcmujne-Pro8_9Jm0io27m8cHwShKqSWaArKcr2Z5qToEFKevkDOGpziWbaXedNGEXMEUjilq4IS_CYJqiFUZ0Gjwrr3Qgn4wBQSe9P6DQPoRTf1C7cSiNlae8aDM8V-oZLG3ypT'], datetime.datetime(2023, 10, 9, 22, 20), '@GTX16500', '水素ステーション @紅楼夢 こ-18b', 33]\n",
      "['pic.twitter.com/P3syirOLq7', ['https://rts-pctr.c.yimg.jp/BgIFgYJGVIVv8u0nVJvw8B2FauAYMF4jOP5zFJAV4i6hjVpND1OjWZ7RVcmujne-nIHyV8LhZpN2pId6ePDzKhubMMpDby-S-O_VRL1SsJHAaDS0ElE1ok0frKW8pqGslA3O2fR0CJdb52q9wdDy4r0maLN4vnZhkjMS8rZNiSFFfnVQ__BjP1j-csjGJdkm'], datetime.datetime(2023, 10, 9, 22, 4), '@kuto_dmp', 'そらんちゅ', 333]\n",
      "['pic.twitter.com/G9dS4r2IBj', ['https://rts-pctr.c.yimg.jp/BgIFgYJGVIVv8u0nVJvw8B2FauAYMF4jOP5zFJAV4i6hjVpND1OjWZ7RVcmujne-OkZd8Y6wyUg-P847P6ugdCA94PL3LXPZCdSdEk75W_g-MrABOd3gwcWrkVycChfbP8rQUuOD37T1peJreogXPuE4PmeXsbDcgHbOttMUjcA1HYvX2FIG2_phDSfx0UG-'], datetime.datetime(2023, 10, 9, 22, 3), '@Lati_avk', 'ラティ🍙No.5007', 110]\n",
      "['pic.twitter.com/jb4pGezxSj', ['https://rts-pctr.c.yimg.jp/BgIFgYJGVIVv8u0nVJvw8B2FauAYMF4jOP5zFJAV4i6hjVpND1OjWZ7RVcmujne-p3uh5e7nmTsRw9MPtm2ZgbJusH6cvqOc3toQd26umVoG_Pv_SSDXqEgyXhI6GPOD3H3SyXI894uiLoaRegW874rxUfVX-oShE4S_CKCVv6LDlr0j2IhAzj88XuZ4K4Cp'], datetime.datetime(2023, 10, 9, 21, 11), '@neetangel365', 'にくてん@ホロクル6th H-08', 262]\n",
      "['pic.twitter.com/NhWfDGAkge', ['https://rts-pctr.c.yimg.jp/BgIFgYJGVIVv8u0nVJvw8B2FauAYMF4jOP5zFJAV4i6hjVpND1OjWZ7RVcmujne-DSp0rpdw0uCeIgZiUBH5BP96V9U_FEdB8G58o7UHtHchtzpk_tl6nE0QZuUUwbNH3l7ZaaSNcQPq2ugik2v_WTk6jyK8Sbjh-vRkT0ZxgOL42EU9oypuwJs7ait75ujq', 'https://rts-pctr.c.yimg.jp/BgIFgYJGVIVv8u0nVJvw8B2FauAYMF4jOP5zFJAV4i6hjVpND1OjWZ7RVcmujne-8UvtI5X2wLDL7B_QmT24N4YdNyLeqFirvIgetEJOr_pF3iZ84az3NK8oDu5scjmogcaeuXz63HM-fCQZKSOTXMoM5QPgTGQ3xZBX5JTBNdBeD2n_6Im6l8e-56rXuOdX', 'https://rts-pctr.c.yimg.jp/BgIFgYJGVIVv8u0nVJvw8B2FauAYMF4jOP5zFJAV4i6hjVpND1OjWZ7RVcmujne-NIvOI-e0rmD1BRreT8rnIULRqgDkZ5ZPBfFhOXQMJltJZnguW6G13T57ElC1ynpjxe7UicP5amX_Nxe2eFx99hA7nXR41nEO3b5re_tlLN_Lb19uSUGrUd_KlzUDFkd5', 'https://rts-pctr.c.yimg.jp/BgIFgYJGVIVv8u0nVJvw8B2FauAYMF4jOP5zFJAV4i6hjVpND1OjWZ7RVcmujne-35HXrnikZD6c-kgx1DpLA3YtgNKmLpJcqIzODqwrdiFr0HKT8tpMdSm-t_5LYELtEvrEPvcHNuCW-7vb957ll6yQXGqzN-bjpwJPz-wrkrZv2Soebw7pVCg1MoYrJXrv'], datetime.datetime(2023, 10, 9, 21, 0), '@r5Y32hp7K3Kxc3v', 'よしつ音', 738]\n",
      "['pic.twitter.com/p6FNsQ9XVd', ['https://rts-pctr.c.yimg.jp/BgIFgYJGVIVv8u0nVJvw8B2FauAYMF4jOP5zFJAV4i6hjVpND1OjWZ7RVcmujne-inRXGWdLTXHkVqFyJVftaP8JAmkCM0YJZo18Ghg0K_VUwEndy_DPAwjyu52Nzoz_3zxrnb5E-nStJqXIzudjWqkJnCTxzdYBehE8gf5B4gTqo5AGbiVpHxLdc2T5M23t'], datetime.datetime(2023, 10, 9, 20, 57), '@MTS_09', 'みーつ', 635]\n",
      "['pic.twitter.com/Q8GzECRrYc', ['https://rts-pctr.c.yimg.jp/BgIFgYJGVIVv8u0nVJvw8B2FauAYMF4jOP5zFJAV4i6hjVpND1OjWZ7RVcmujne-h_qZjUjZObFtWVhmOGrSVAakGe9gIdhY81ec7CMODtfV6Tu4mJCgc8R3_I1OIkf8-_mYd9JI1cUlhV2Ex8yPcEC65tn8wkSpll0-oE3ssEhncsJWrniPCcx_djgR8Qiw'], datetime.datetime(2023, 10, 9, 20, 7), '@mayudeko_328', 'まゆでこ', 84]\n",
      "['pic.twitter.com/9wF0ZK5jj8', ['https://rts-pctr.c.yimg.jp/BgIFgYJGVIVv8u0nVJvw8B2FauAYMF4jOP5zFJAV4i6hjVpND1OjWZ7RVcmujne-sJ7AihQlj_ZDuHgYpjWWK6Gzj_CjyIQ5GCsTg9bXXSD_H_UiDgZEjcEz561v7m8GJkj2jdWAFSoEda89gZnYVaZxv_W4Zwa5lqtdOES9yHP92Yj_yb3EoF2EtRFYc38B'], datetime.datetime(2023, 10, 9, 20, 0), '@kyou__01', '𝕜𝕪𝕠𝕦', 755]\n",
      "['pic.twitter.com/ZhX32Vb7M5', ['https://rts-pctr.c.yimg.jp/BgIFgYJGVIVv8u0nVJvw8B2FauAYMF4jOP5zFJAV4i6hjVpND1OjWZ7RVcmujne-KFeka7GVayHUg8tw5GmiCk2FpP7gA31QwIwkPDDMJJQTQtKBCKIeYGxGnCbRVo9B6i2mVfA9pXJCHWrPRDDbKyw9zJaelTjfAjQ9FPd0-e28_AQjekyz3gYgLN-NwVtl'], datetime.datetime(2023, 10, 9, 18, 59), '@CGK_SS', 'ちょーへーXV', 204]\n",
      "['pic.twitter.com/jGOb5Zd4Lm', ['https://rts-pctr.c.yimg.jp/BgIFgYJGVIVv8u0nVJvw8B2FauAYMF4jOP5zFJAV4i6hjVpND1OjWZ7RVcmujne-P_CGklhLPiRbFCwF4kmxqulD6afWQMwrnYTXtLEqETMeJdQuRJs3CSkHwmIUtHxCZ8Js7mgV51BkIgPzGlyctPQ5d5d6v4xQUMklTCETo_LrjX2ab0UPVYDVsmHWuYBE'], datetime.datetime(2023, 10, 9, 16, 53), '@senno_71', '千野', 312]\n",
      "['pic.twitter.com/bj8EaHlCeA', ['https://rts-pctr.c.yimg.jp/BgIFgYJGVIVv8u0nVJvw8B2FauAYMF4jOP5zFJAV4i6hjVpND1OjWZ7RVcmujne-ldCAonWTJ8oJt8chG55hJ7_zaQum5RPhsOLAe2OzyQ5DxtnzbU8oCAJriHMlOHsUUGRnuetcZdxHPzpmiz-DV8M4JV-QHNn__gqMp7dsfiPZppfGG_X4ujYRxQbb5dD1'], datetime.datetime(2023, 10, 9, 15, 59), '@ryunosuke0422', 'りゅうき', 1486]\n",
      "['pic.twitter.com/zxU9J5IgoW', ['https://rts-pctr.c.yimg.jp/BgIFgYJGVIVv8u0nVJvw8B2FauAYMF4jOP5zFJAV4i6hjVpND1OjWZ7RVcmujne-bbY84CO9UQf1CMH00s04Wq1HL-M2m-7YaJRhsR5L8wMXde_BUeoxySgHSSX3BrXp6pYsSNzxrP7scELrXwVzRqkDZz3z0So-1_sJcR9CAAkMZiq4pxlOKBTHr75if2zQ'], datetime.datetime(2023, 10, 9, 15, 43), '@ArekSti', 'STI AREK🤖【アレク】', 31]\n",
      "['pic.twitter.com/9nMfKt739D', ['https://rts-pctr.c.yimg.jp/BgIFgYJGVIVv8u0nVJvw8B2FauAYMF4jOP5zFJAV4i6hjVpND1OjWZ7RVcmujne-pOJTIZJaJ2ImIAOEsXWtWwOjQaBUN9vbNwr11emDntutbt8eW7RsjAqy5SrxAC8m9QTXdcrRFim3igCpasGpUiMfwEDCPZ5yst0IEypoaJkvN05t4XIsy2C3Fx8xEB6t'], datetime.datetime(2023, 10, 9, 15, 35), '@4UgeiX1zYJEQ5am', '*みこ*', 26]\n",
      "['pic.twitter.com/3x0UQxD5z8', ['https://rts-pctr.c.yimg.jp/BgIFgYJGVIVv8u0nVJvw8B2FauAYMF4jOP5zFJAV4i6hjVpND1OjWZ7RVcmujne-qOEyVP9y7nWFEooFA1NWYDFRXJPdI_geEIMrkRE60ZcOhpbbB9OBVDwLS5t7Y0QVsX1RB15bE69tglAOkRR8PmM6qEhb1e-wDCjeCdk7ieaPZ0RvJiOR7Ypz5fo0nQrJ'], datetime.datetime(2023, 10, 9, 15, 5), '@KoichiChikata', 'チカタコウイチ', 2175]\n",
      "['pic.twitter.com/hbCW28rQ66', ['https://rts-pctr.c.yimg.jp/BgIFgYJGVIVv8u0nVJvw8B2FauAYMF4jOP5zFJAV4i6hjVpND1OjWZ7RVcmujne-e5vrszkSXkSszkBbP4hQS-c69_HDZFXw-OEgQg9whlQzAU8T29mSdGBnnB08u_IMUb93VR_3AcKnot4vfKtdHisYV68OYJtWPQayyH1odwLgmPYcKzd4-e7zzDXfqHuy'], datetime.datetime(2023, 10, 9, 12, 35), '@Nyaromenosukee', 'にゃろめ', 76]\n",
      "['pic.twitter.com/dNJcnGAZKT', ['https://rts-pctr.c.yimg.jp/BgIFgYJGVIVv8u0nVJvw8B2FauAYMF4jOP5zFJAV4i6hjVpND1OjWZ7RVcmujne-nGkrk-ggX8qzPeBluF_IzHdmB2b30WuZex-VJqXD-imP4_38A__OLVAxOiflzgxx2MQjln9DLdZKtLPI6W5jA9z-bWu0VF4rZz2vsPVWiBVMcTuKNS7MpSCnMnfKVwG9'], datetime.datetime(2023, 10, 9, 12, 4), '@torakichi_888', 'とらきち', 28599]\n",
      "['pic.twitter.com/gZa6HDhDiU', ['https://rts-pctr.c.yimg.jp/BgIFgYJGVIVv8u0nVJvw8B2FauAYMF4jOP5zFJAV4i6hjVpND1OjWZ7RVcmujne-3_z6G-MIi6ck1h2Axb7FlCxykyXgNP-TkB5IfizMAUcmG2Ny-C5gMp_uneGHIHqbONY-UI_hUQ0oJSyGX7A1DDq0IYcWhM3TRi3SYNTQ7hHxgcV7ADmaknMM2IIJ3zXq'], datetime.datetime(2023, 10, 9, 12, 0), '@minkstar_ill_yb', 'ミンクスター', 31]\n",
      "['pic.twitter.com/OI5zTTGbC5', ['https://rts-pctr.c.yimg.jp/BgIFgYJGVIVv8u0nVJvw8B2FauAYMF4jOP5zFJAV4i6hjVpND1OjWZ7RVcmujne-fvR9KbTbcenCg7i3fleZ633-QLlA8QHB4oqjqCYkFkrk4zuMGGYPvmfcBXydvpdxIYmZXhk7ov5ytJUZTK08TNM6c-UrzjXulPbfyfRo3hdaTIynuRT06ZOsCKMCwSYE'], datetime.datetime(2023, 10, 9, 0, 17), '@long_long_curry', 'long_curry@アイコン更新', 4535]\n",
      "['pic.twitter.com/FO8BI1kVV5', ['https://rts-pctr.c.yimg.jp/BgIFgYJGVIVv8u0nVJvw8B2FauAYMF4jOP5zFJAV4i6hjVpND1OjWZ7RVcmujne-9sYYybmBs91drC4XOUst_hvxehpwkRKh3bCuKreJXC25Q6wfH19gu4jSklGzTnYLGI1_TWDSYJdC93cRV6Bm5foX4OU1ZavQl9SYMP3j3JeHou5J_7Oks1-iyEWUrxnz'], datetime.datetime(2023, 10, 8, 23, 8), '@neetangel365', 'にくてん@ホロクル6th H-08', 211]\n",
      "['pic.twitter.com/8Foukd4PWC', ['https://rts-pctr.c.yimg.jp/BgIFgYJGVIVv8u0nVJvw8B2FauAYMF4jOP5zFJAV4i6hjVpND1OjWZ7RVcmujne-IXmnB0o7q-4ZUSJuB9cra1CUlBD4aHpAM_CVUSrR9e9jjHIkOltORvo8aHcp50lJoGP2l3vhv3_Tz_1OwI0f0coMv5MkObYmZqvGp0MLSefsS3iHW1hUkt5B26m7hSlB'], datetime.datetime(2023, 10, 8, 21, 17), '@senno_71', '千野', 138]\n",
      "['pic.twitter.com/tP6FptvqNd', ['https://rts-pctr.c.yimg.jp/BgIFgYJGVIVv8u0nVJvw8B2FauAYMF4jOP5zFJAV4i6hjVpND1OjWZ7RVcmujne-ycCOTjb_MvJZP3yMtO9-7yp1XFlcLoJfHqSxweO5n-b3KAmo5fTatN9vIUUyOeO5txiA1B4r73HeNEkZLu8qpcz_3zcBKHjqCuI32tPMN031RxSe9STrNY37GdI5QCII'], datetime.datetime(2023, 10, 8, 21, 5), '@moon_Tsukiyomi', 'む〜んむ〜ん', 43]\n",
      "['pic.twitter.com/inC73qCM9d', ['https://rts-pctr.c.yimg.jp/BgIFgYJGVIVv8u0nVJvw8B2FauAYMF4jOP5zFJAV4i6hjVpND1OjWZ7RVcmujne-XfQzM2wnfybtFccaxGrZh5CMABwsFs51L6DR_wda3x2vJZKNkdqj_mDHjTQk45eeEAmmUDlPvlFtKYIWgG__pNDLxONV9l64Zo9dffsdGuQbsOLO_Xh3iMl6boODW9PA'], datetime.datetime(2023, 10, 8, 21, 5), '@TKS_rkgk', 'たかし-れろれろ', 19]\n",
      "['pic.twitter.com/tJsi80TScq', ['https://rts-pctr.c.yimg.jp/BgIFgYJGVIVv8u0nVJvw8B2FauAYMF4jOP5zFJAV4i6hjVpND1OjWZ7RVcmujne-M66ZRQ73exIb9WzUaQSa5OA1_7shZekjo7LZQN6r1DF1X84Xu_VvD1iPWRaH9ZrjhwUh1KLEgrQmQ8Gm50s9JfQLgXHrfuoHdxK_p_U8g_n7iw_e2v7KhMj7KZ5NVNCC'], datetime.datetime(2023, 10, 8, 21, 1), '@2438Watermelon', '西宮すいか', 16]\n",
      "['pic.twitter.com/xUmrkd4ZND', ['https://rts-pctr.c.yimg.jp/BgIFgYJGVIVv8u0nVJvw8B2FauAYMF4jOP5zFJAV4i6hjVpND1OjWZ7RVcmujne-Gi51mIhTSjcx8moZim0ZsnvgMK8bq8dxMLPyPBwlqJzmF-r7xwtJEKZ8SHByBzIuIAM7WVad0RGR1dhs5cL2xdh3Kbpu-blKCqnVNboDW5XpxhUOtgwsgWWfIWBXG_3S'], datetime.datetime(2023, 10, 8, 20, 55), '@jouro_0000', 'じょうろ', 22]\n",
      "['pic.twitter.com/S3glTB6iPl', ['https://rts-pctr.c.yimg.jp/BgIFgYJGVIVv8u0nVJvw8B2FauAYMF4jOP5zFJAV4i6hjVpND1OjWZ7RVcmujne-CHCy9Y6NTHfiln3jvjPHu2eeRmXACEwiYk0PPf6XTngx9ybhAxetpp4BIrQ6wlsmEsxVJlkwyuzZN9ILvdKd4i4-5q4sF7hXE2qPcDwvBPnJFQhYwMakkoQftNTAbrNz'], datetime.datetime(2023, 10, 8, 20, 33), '@p57sf', 'かにかま', 76]\n",
      "['pic.twitter.com/EQevYxGVaB', ['https://rts-pctr.c.yimg.jp/BgIFgYJGVIVv8u0nVJvw8B2FauAYMF4jOP5zFJAV4i6hjVpND1OjWZ7RVcmujne-Vo8AqE7f1OTBTsLwIwde4vIY4uZXix67JAI-WOBIBb9XhM-0czaB8QubiI6W-YCOIjG_E7a52_FnJ_8ilIJ3GNmLEAIc41YRuYISFPOQG1X3f0U-NWpXqwAysj02BMo0'], datetime.datetime(2023, 10, 8, 20, 30), '@gochisyoko_fox', 'しょこら🧪👯\\u200d♀️', 23]\n",
      "['pic.twitter.com/bL7QuH0uu3', ['https://rts-pctr.c.yimg.jp/BgIFgYJGVIVv8u0nVJvw8B2FauAYMF4jOP5zFJAV4i6hjVpND1OjWZ7RVcmujne-voeP3L0zOeRCG1_vNqlmU9ygJGPXxUSO6VjPLs4J8BFtrqjAiNPAFGre1c2eoFiXOu5x3zy0H1vRGfAp4FmaokQzNg5p3TkMLAXuJr9fzbuiOereZU9npZUMWfvWTxJ4'], datetime.datetime(2023, 10, 8, 20, 9), '@fukuiii0110', 'ふくい', 1001]\n",
      "['pic.twitter.com/FwuPt2UzHQ', ['https://rts-pctr.c.yimg.jp/BgIFgYJGVIVv8u0nVJvw8B2FauAYMF4jOP5zFJAV4i6hjVpND1OjWZ7RVcmujne-FdGHMyBf_vbi0Qno42SSIhYkoYt8X4jV53BplBI0rZxCXc-Ci9-DNi3RV134qS12EYO8rS85QZEFxHkZkWyXK5qMR4Ac0BrW1HdnhETPOlQ_SxMfszCId4lh4WVieHM-', 'https://rts-pctr.c.yimg.jp/BgIFgYJGVIVv8u0nVJvw8B2FauAYMF4jOP5zFJAV4i6hjVpND1OjWZ7RVcmujne-_fmIGnXxNYuC5K3HCoYH67AzSo-mKY-NHzAo5JqfQi-ZFR8TUP_kk8xrfKWqN3pYRVIZMeWln9AQYmkgP8sYh7ZdOEiE4VwAa6gbh56NjJxhfnTA8SoDqjtKnKdZa_bV', 'https://rts-pctr.c.yimg.jp/BgIFgYJGVIVv8u0nVJvw8B2FauAYMF4jOP5zFJAV4i6hjVpND1OjWZ7RVcmujne-ruk-ywzKdOfkF-EiGoeyuUKhMXc4BnSZVnXIWhsF7FBbvlelw8h5hczPLNMIA1ZydMzWnSIUMohu2jR64gR0E4crtbREE4Br4uqKoYbkmLkBlqxskT_ZHFl1oL8LbKbH', 'https://rts-pctr.c.yimg.jp/BgIFgYJGVIVv8u0nVJvw8B2FauAYMF4jOP5zFJAV4i6hjVpND1OjWZ7RVcmujne-sk2ygT54NoCW0RZ5PR_h0_NqkTT2h1DCvuP8_lZwqHnrAyA5lYZhvX7ZIkxeN4kEvXePNm30jox3OQIBfVYrEe06I5-PI9Ki14rSEO8CzZySVnhtHGOhZK4esnZC7ig4'], datetime.datetime(2023, 10, 8, 20, 0), '@KA59KpyZa648Phg', '杉森\\u3000志一', 61]\n",
      "['pic.twitter.com/7W67jtAKhO', ['https://rts-pctr.c.yimg.jp/BgIFgYJGVIVv8u0nVJvw8B2FauAYMF4jOP5zFJAV4i6hjVpND1OjWZ7RVcmujne-rqPhRH0fTWErP3Q3p4DRwC_xw42Ra-NcHvp0SrVH5zw5bYsqC1TJ1DMUG0xYsFy9w2bWOptvmrB0EGn-zS8p_wKuuCfKsfXM-B5SOXcNOixwN8UXNuufae812B8wrdAE', 'https://rts-pctr.c.yimg.jp/BgIFgYJGVIVv8u0nVJvw8B2FauAYMF4jOP5zFJAV4i6hjVpND1OjWZ7RVcmujne-YeirKPb1uLlbHosOaoaD1wWoUm06IKgJLiB2mJyz7vqiW9glHykOlTJrQ9qHUAUzt2ZxeKMTxiqPt_a_E586wiVgf58eO7fGWhlVrLXGnCM9S6UeHDSTLdqA7UTUp6c8', 'https://rts-pctr.c.yimg.jp/BgIFgYJGVIVv8u0nVJvw8B2FauAYMF4jOP5zFJAV4i6hjVpND1OjWZ7RVcmujne-KCI9O2T2mNFmHGOS_Uh7s6swnlLp0cvUiDw0hxx5pPD88TnLSm9AjGD4566zYF2XyOkPeqkjiaWsIKtbbJ0GWN-LPKJz4Y78e2SxkycuT1KVB7ZaN4C-NljnRJmnJ7nP'], datetime.datetime(2023, 10, 8, 19, 59), '@kujirako_', 'くじらこ', 20469]\n",
      "['pic.twitter.com/r8PQ7ZZAdF', ['https://rts-pctr.c.yimg.jp/BgIFgYJGVIVv8u0nVJvw8B2FauAYMF4jOP5zFJAV4i6hjVpND1OjWZ7RVcmujne-gEFRG128tNDmInQsISkTw58WaabrkuNfwFPUiIAfhjMWL48rD9pk5D-Pq3zcQjtJhuWrb9v04lCTHIaSUCx5sTIKq6GWtb-KXrJEimRpSD_UgO14Ahf-8E9rV7rWsB9a'], datetime.datetime(2023, 10, 8, 19, 29), '@katu64072050', 'katu', 27]\n",
      "['pic.twitter.com/FS2ISZdMNK', ['https://rts-pctr.c.yimg.jp/BgIFgYJGVIVv8u0nVJvw8B2FauAYMF4jOP5zFJAV4i6hjVpND1OjWZ7RVcmujne-pZTJttR85KarIe1Z1DLViclGsxuu_fZ2CeD2-68k8BPJ5yeB6heabHp9feceRPcCIWQ-3yoxy6Tvqtay8NEEtIdrOj7O0l2l3A8t2i8aOrSjK3XnmoNXLHCiPMxucAKf', 'https://rts-pctr.c.yimg.jp/BgIFgYJGVIVv8u0nVJvw8B2FauAYMF4jOP5zFJAV4i6hjVpND1OjWZ7RVcmujne-rSm8vRX03thF9uAS-u-7vBve9DSo1JWGLj0lpIe7v9f7mN04_7o7ukQK7shRC0AfLgGWoI4AJ_gPKCR_ncp9ArXBGAKH1qeo6QPjPiMp0_K-H8XeoQ8HkCDHQZum0tNp'], datetime.datetime(2023, 10, 8, 18, 30), '@hiro6989', 'hiro＠Illustrator Live2d', 279]\n",
      "['pic.twitter.com/1M2kxmH6iu', ['https://rts-pctr.c.yimg.jp/BgIFgYJGVIVv8u0nVJvw8B2FauAYMF4jOP5zFJAV4i6hjVpND1OjWZ7RVcmujne-DLkUVDllUZ0Vp3eMpP-HLVgoh5C2-khhT-B4TudD21wSyEGaoXT2_wk66rILaomGVtCedL9FJ3yu2JlBLcscRemiOdQD5am41Q4ZF2pgHqLXZz2waxXh8Muwi-989MHS'], datetime.datetime(2023, 10, 8, 18, 21), '@nononodesuno', 'とだかづき', 421]\n",
      "['pic.twitter.com/ssBgDruYua', ['https://rts-pctr.c.yimg.jp/BgIFgYJGVIVv8u0nVJvw8B2FauAYMF4jOP5zFJAV4i6hjVpND1OjWZ7RVcmujne-i3-lfIynAmem72wLQu0V7f-ShO2pzvYFQgsvagszgQZT2rLB_AedBCTtIGJM9ataR8P9tLrZ9cI4X3gSesOa_NZDTZICcsMXkx78VXUPR6hF-uj4S_3j2v4QVELTScpF'], datetime.datetime(2023, 10, 8, 18, 15), '@HiHi51423', 'muyamii', 8411]\n",
      "['pic.twitter.com/1UWxB6TUdn', ['https://rts-pctr.c.yimg.jp/BgIFgYJGVIVv8u0nVJvw8B2FauAYMF4jOP5zFJAV4i6hjVpND1OjWZ7RVcmujne-O4oBBnVSe4YMo9SNpDmvBrAwm2J9qhb0CBnGZ6YNL3tbwoulzHKjNvwAb8KrxxssWu-SBc_M96qm54LP7OLA8boFxVRmRtp3t7eVj_mF52UBmg6YNqytWQc83l6Z5Omd'], datetime.datetime(2023, 10, 8, 18, 10), '@nea96633268', 'nea', 30]\n",
      "['pic.twitter.com/J3iZc0nfsN', ['https://rts-pctr.c.yimg.jp/BgIFgYJGVIVv8u0nVJvw8B2FauAYMF4jOP5zFJAV4i6hjVpND1OjWZ7RVcmujne-bZOXIct0gcMub2dLFGwYRCJiTsn6yZd8Rd56MZ5_VHJvGZolfxQZVlmLAzzoQy7OaXL45C7kCjXIUeofGBgWAv5h3U6ut9fMUvy7gec2hUW7BrJ4lpvPMZkNSfIv1jDh'], datetime.datetime(2023, 10, 8, 17, 30), '@Tsumiki_draw', 'ツミキ', 146]\n",
      "['pic.twitter.com/DL6lx2xT9P', ['https://rts-pctr.c.yimg.jp/BgIFgYJGVIVv8u0nVJvw8B2FauAYMF4jOP5zFJAV4i6hjVpND1OjWZ7RVcmujne-8v-z1PSoVvNVxuZIhMuTse0_CiCtWAM4LpNGfWdtiAGLsi6o9GdSlJL2hqskJWPfrbk1nQSjrSN-xht3VuZbCqqTfD1we-wx8HnMVTm-bF9qM0Z57tIl8PjToSkNWHmE'], datetime.datetime(2023, 10, 8, 17, 0), '@GiYou70842919', 'GiYou', 833]\n",
      "['pic.twitter.com/bZRTMDTz5C', ['https://rts-pctr.c.yimg.jp/BgIFgYJGVIVv8u0nVJvw8B2FauAYMF4jOP5zFJAV4i6hjVpND1OjWZ7RVcmujne-mVun5h9UjQEtXooOmtt6bU3bY50zwQlRvWsEVrXb0gUUm1xN5PYPAY_QMlDmiJz7kfeIAQAGKTP2tg5e9NYjkqN9k1wRqG8i9YxfVO8UzIA60WE30Uup942smiEFZa4c'], datetime.datetime(2023, 10, 8, 16, 41), '@ione_kemo', 'いおね', 652]\n",
      "['pic.twitter.com/JGzQP6s6HW', ['https://rts-pctr.c.yimg.jp/BgIFgYJGVIVv8u0nVJvw8B2FauAYMF4jOP5zFJAV4i6hjVpND1OjWZ7RVcmujne-SF5n0SfGDBHJ65gXOhiYPlYXcQAgEEPLb7e35gm97kmJpP6wXuM_LrU_v4_t682-y5GCTlVrJC5Q1G0lNsdVADnRLEyD-wE6X41OAIRlQ0NT7PbZ2VMfiye_--fzVShD'], datetime.datetime(2023, 10, 8, 16, 12), '@Alluka_2xx', 'アル＠skeb募集中', 18]\n",
      "['pic.twitter.com/NKCV6Eeh75', ['https://rts-pctr.c.yimg.jp/BgIFgYJGVIVv8u0nVJvw8B2FauAYMF4jOP5zFJAV4i6hjVpND1OjWZ7RVcmujne-v1njPeZr70r7ZhRiBa_2QElIw9XP0kHsdVneY4rroHZ8I4y1pmjmzZ4-YM0z3vhU2YQYyAbUzHawZ8H7vXHdGFcR87zDxnLBcs4L7__mWLQ07o0YSX4pIBYRIaYAY9u7'], datetime.datetime(2023, 10, 8, 16, 0), '@ojoojotoritori', 'ねぇさん', 19]\n",
      "['pic.twitter.com/hMJHLnaGeJ', ['https://rts-pctr.c.yimg.jp/BgIFgYJGVIVv8u0nVJvw8B2FauAYMF4jOP5zFJAV4i6hjVpND1OjWZ7RVcmujne-48qxVQFFbqnOPS0C7pW-klC-lKJdrAwbDN_GKzrOEjByM4-Kr0BB4xDEPHL4_UiOK6AoCrx3wpLnBbxxtFyxSvxoALYIOKgD6OXWWhcQBok18bu9pqCZuaUt4fr3_4Or'], datetime.datetime(2023, 10, 8, 16, 0), '@taro_o37', 'たろ', 16]\n",
      "['pic.twitter.com/uUvIyMEOtA', ['https://rts-pctr.c.yimg.jp/BgIFgYJGVIVv8u0nVJvw8B2FauAYMF4jOP5zFJAV4i6hjVpND1OjWZ7RVcmujne-yLOrPwZGcn-W-387Kj40YP_6aJhRlQCXkNdsk8gm3yHh0P-2G1il6tpxKNVbx3jK9bUgRPx_HhIsKlkqXENtDLk0C31ENtaXqm_GvbZIIiUm74IGGcBlvj6SEBAzQM_2'], datetime.datetime(2023, 10, 8, 14, 0), '@tyepeti', 'ちぇりーぺい🍙', 122]\n",
      "['pic.twitter.com/uJTcSoe3Yw', ['https://rts-pctr.c.yimg.jp/BgIFgYJGVIVv8u0nVJvw8B2FauAYMF4jOP5zFJAV4i6hjVpND1OjWZ7RVcmujne-EVYeDbeliS8_xi5wgTZhQfbK3jLxqYEDYNJUb8eR1-j0E3NhaNgay93pMh1m8X1ZCfZpit_2S-6R2xseAwRbPeZuYn_usz1P7NU9Czkdsnda9LrXKc39htS93IR5SJSU'], datetime.datetime(2023, 10, 8, 13, 57), '@nanaco_neco', 'ななこん', 173]\n",
      "['pic.twitter.com/4F4LBuGAIO', ['https://rts-pctr.c.yimg.jp/BgIFgYJGVIVv8u0nVJvw8B2FauAYMF4jOP5zFJAV4i6hjVpND1OjWZ7RVcmujne-KR7wZeR3e7hLDfoNPFqVCEc9LVbGohXhY4Qp_lceF8Z6djXHnGb6pKv_FEvi2wUNAq8R0K0w9GmhIxT-8_BWC7bHH-RUANEuQ-mPdE-3rNlVM1EpQ43X8zMpxrIW8HcU', 'https://rts-pctr.c.yimg.jp/BgIFgYJGVIVv8u0nVJvw8B2FauAYMF4jOP5zFJAV4i6hjVpND1OjWZ7RVcmujne-W9li3WpdOyolwqorNpzgqGgquQmFeBBPelA9LnNcqFLkdYvNqaNZ-d-VNzED7QHIJ0wrQV4wCD6DaHpsLl2e3Dlb-c2jEwoJgInruAXW-CtI0ad0jX7q3dlJrXmM9RRZ'], datetime.datetime(2023, 10, 8, 12, 23), '@ryunosuke0422', 'りゅうき', 550]\n",
      "['pic.twitter.com/b5275F1UsC', ['https://rts-pctr.c.yimg.jp/BgIFgYJGVIVv8u0nVJvw8B2FauAYMF4jOP5zFJAV4i6hjVpND1OjWZ7RVcmujne-mtFgO7k_c5N-Ws6XT6Jep5fmYGhQlrYHsv8T9C1ETKDENPUD0b-9qvDo80ubmSvleL93Uwrx-4X9VkwbfuNMYRgJMcVboTNJpuzGUIsnzalHDCgzUl1JSOsMetVTem1w'], datetime.datetime(2023, 10, 8, 12, 11), '@jazh_mine', 'jazh', 124]\n",
      "['pic.twitter.com/XB2EVI4I30', ['https://rts-pctr.c.yimg.jp/BgIFgYJGVIVv8u0nVJvw8B2FauAYMF4jOP5zFJAV4i6hjVpND1OjWZ7RVcmujne-rTBOWPADbCWpGDNwPostFEmryiMidatCRkevbsNsp6D1yLkNRlu_y0Q0JVya-0oKkVzZL9_HG0cO3JBgrpJmqbyYthkbFuATaMpae1Vl4YcNfVnzO9bVHEL_vdMrGWXL'], datetime.datetime(2023, 10, 8, 10, 12), '@Kurusaki_K', 'くる咲き@アカウント復活します', 32]\n",
      "['pic.twitter.com/3wmzx03QpK', ['https://rts-pctr.c.yimg.jp/BgIFgYJGVIVv8u0nVJvw8B2FauAYMF4jOP5zFJAV4i6hjVpND1OjWZ7RVcmujne-2WbiZoEHi9xtCeMCzPt-rDB0PMfHLSI1LJD-XjnkNaoStPWnHdDV1x8npucL1qkYWQhJPwJ_0a7WBrtrFzwDAAhNrfRdYjcSBg7EKFskhBHL-jRw7xe7fyTc9KAVIi3Q'], datetime.datetime(2023, 10, 8, 7, 50), '@Ichijo_Lemon', '🍋一条れもん@お仕事募集中', 59]\n",
      "['pic.twitter.com/jX2yFfSpjr', ['https://rts-pctr.c.yimg.jp/BgIFgYJGVIVv8u0nVJvw8B2FauAYMF4jOP5zFJAV4i6hjVpND1OjWZ7RVcmujne-fqvZ11gXHfEMORP_yORK3XZea2t8IHR_LHlORQ_UlT4oe44bXl83fyBN0aqnu934z-Yq_RSk4y-hXM-d0Jv-1RdffUQXOUK-2eJSB447zxmd0PotMkTStZh_fc4cCMkm'], datetime.datetime(2023, 10, 7, 23, 38), '@tau_otw', '音葉たう', 403]\n",
      "['pic.twitter.com/HTkM3JHnrB', ['https://rts-pctr.c.yimg.jp/BgIFgYJGVIVv8u0nVJvw8B2FauAYMF4jOP5zFJAV4i6hjVpND1OjWZ7RVcmujne-ota-Znjo-aYrkKXHdN8l0W-YvMzcZI0CD1OFR4PlfdWDnMhRTUCvecYFvvgXLMiYaGid7EQSa0Dcn2YzQgV1tVtsy5FW9_y2kWB0EyX7FRf_17l2XE1GUhAKRja9fXZz'], datetime.datetime(2023, 10, 7, 21, 30), '@hiyori_cosplay', '🐥日和\\u3000みこと🐥', 1091]\n",
      "['pic.twitter.com/9guIj8Et9G', ['https://rts-pctr.c.yimg.jp/BgIFgYJGVIVv8u0nVJvw8B2FauAYMF4jOP5zFJAV4i6hjVpND1OjWZ7RVcmujne-I4-AWmV7DcBjpwXR_rkdSEN2CPsLRCWycbYTFbpebaHwq-4crToki4DmK9PaV8visvNPv2DO1JisnRnsAehEfa7QiYeSfx7WitxfjcW8oDip9SqNbqn9e1fVrYUro5os'], datetime.datetime(2023, 10, 7, 21, 21), '@kuupiioekaki', 'くーぴー', 26]\n",
      "['pic.twitter.com/ZqXsJU6Kz8', ['https://rts-pctr.c.yimg.jp/BgIFgYJGVIVv8u0nVJvw8B2FauAYMF4jOP5zFJAV4i6hjVpND1OjWZ7RVcmujne-3lLkw4HIWAUdywbK7VA0hqdiTXgNRgGMG3R1ycOMtjnssP28pmgHzOxa2Zrku79oOvJ5FCUyviSTFZvEVJbQ-HWQhByrwTJDUGmE7DxIWrvXWXRle7eiyfwFzmo5ew10'], datetime.datetime(2023, 10, 7, 20, 10), '@kyoketsumeto', '虚血メト', 359]\n",
      "['pic.twitter.com/dXquBZch2d', ['https://rts-pctr.c.yimg.jp/BgIFgYJGVIVv8u0nVJvw8B2FauAYMF4jOP5zFJAV4i6hjVpND1OjWZ7RVcmujne-h5NKdmrw9rYawqHB23wbrrFRHXbDUoEVzZ108Q1p_8D1Gwez09J0vU0VDxu68dFKALqxxTpBrYKTKNJNqTQCii652ITmGYcqeemh51VZGimqKcRPU9bL-2AUYEcVjfiC'], datetime.datetime(2023, 10, 7, 19, 46), '@Ichijo_Lemon', '🍋一条れもん@お仕事募集中', 90]\n",
      "['pic.twitter.com/zTfmZXoGYC', ['https://rts-pctr.c.yimg.jp/BgIFgYJGVIVv8u0nVJvw8B2FauAYMF4jOP5zFJAV4i6hjVpND1OjWZ7RVcmujne-3bsDjCB1KNFR2CPm1P9rgXJu0951H5k6EjDs_gVLCWBJOpx8W20dHS-_HGLB_mnr2mFySCU2NYt4of_TiOwk0_JEI6VaQuzwpXbjTW1heg5HMmn9mzU8M0yJzlztdwjK'], datetime.datetime(2023, 10, 7, 19, 24), '@5UDLkZpHzqSn9Hi', 'まぁまぁ @お仕事募集中', 384]\n",
      "['pic.twitter.com/hB5XB5st8i', ['https://rts-pctr.c.yimg.jp/BgIFgYJGVIVv8u0nVJvw8B2FauAYMF4jOP5zFJAV4i6hjVpND1OjWZ7RVcmujne-mJ7nThO15J2VcjHGmSzXU59WmqhGMFWcqOhq2_aWdPJI40e51NDkiW3JHRWGR5d6mteXIjboKNs0TcdYNZZmfK1k5oYRFmj9c7TgSrTNNDHaLxLPt0CDn0ayk0ZZ3v0g', 'https://rts-pctr.c.yimg.jp/BgIFgYJGVIVv8u0nVJvw8B2FauAYMF4jOP5zFJAV4i6hjVpND1OjWZ7RVcmujne-XURSoXTy2nrY_SMsFsttil1pnVaOXsGoK_mQ4j3AtmMAdPJvqxUppHg625wLvR8vRXKwl-hHx3pUHM0h5emtR4F44I6zpfoKfex4pVOHg-F2bQVsBf8TpihweEqL-g7p', 'https://rts-pctr.c.yimg.jp/BgIFgYJGVIVv8u0nVJvw8B2FauAYMF4jOP5zFJAV4i6hjVpND1OjWZ7RVcmujne-EYf35aDxAbHdPTi3dG7857D81HZBY_USbtVbwHopH84vMHIofy9jIxvDfzOpnHvNiyrsrTq6BKE0t6irntkhgMtcBpGzdvhEQyqZZIXccdjYWFK1m3QxekpTRuLax9w3', 'https://rts-pctr.c.yimg.jp/BgIFgYJGVIVv8u0nVJvw8B2FauAYMF4jOP5zFJAV4i6hjVpND1OjWZ7RVcmujne-9VbyPf8ETVwDUvLK8uxNlVYlW-aseRXyFAliLnVhtuhEYi9xUdeEvpvpaCsMpK6TiE9Xx8_vfyQnRfvqAQu1RG-0Vj66qmHmrOV41_n9Zdf83ZvU5d78YKwe64dUtac2'], datetime.datetime(2023, 10, 7, 18, 0), '@mikannsisyou', 'みかん師匠', 2080]\n",
      "['pic.twitter.com/mYS2yUYEFQ', ['https://rts-pctr.c.yimg.jp/BgIFgYJGVIVv8u0nVJvw8B2FauAYMF4jOP5zFJAV4i6hjVpND1OjWZ7RVcmujne-XM1qduyP0PHkr4pTwn1-Dptx-E5chrTi-iiB6_k4WOF6KPmJFjsNvWHWAbJ86QYgqQ7YKO3Pe6Tzti4FUBoF5qKSuQMJf646VtqJg4GQut-jQ_9fTjQ874xevCaLI5hm', 'https://rts-pctr.c.yimg.jp/BgIFgYJGVIVv8u0nVJvw8B2FauAYMF4jOP5zFJAV4i6hjVpND1OjWZ7RVcmujne-kXyWjErHeXZPJ3joMD2L_tUoc_lol9ncNL6JY5QGguXgMNb4IUeNnKeDEKjVAHb1coQwF_MbCiBNbxKKyjOCmJhxW4J55_2lSgq0cSTR2I_CtJ1zMDdHS_2Ni7HsvKyr', 'https://rts-pctr.c.yimg.jp/BgIFgYJGVIVv8u0nVJvw8B2FauAYMF4jOP5zFJAV4i6hjVpND1OjWZ7RVcmujne-Ll4Z1lFdf6iRvHQS1TzTx3pKunTSuSMarbECkp4uGkc1ySq7tyRT22-QTRCUbOdlacN3-J8iimOH6Qzvwh2ADHHZPDgPFjAmbnvIp0XHH_2tmJ0L3uHggfXn2scpysy7', 'https://rts-pctr.c.yimg.jp/BgIFgYJGVIVv8u0nVJvw8B2FauAYMF4jOP5zFJAV4i6hjVpND1OjWZ7RVcmujne-JjX_ZJmUuAcEb27X6OO4NgfUK2wayWKIXXGs0J6ljIccwP6BjFDCjlQwSZIONIGYT49btSSWSkD5hfAp2ZwtY9N1pjSk2AnbXkwMS4989Zs4iJ807cNMH-24MMBWUhA2'], datetime.datetime(2023, 10, 7, 17, 58), '@tohu_5_sai', 'まるこ📛', 26]\n",
      "['pic.twitter.com/n9jzHcHifR', ['https://rts-pctr.c.yimg.jp/BgIFgYJGVIVv8u0nVJvw8B2FauAYMF4jOP5zFJAV4i6hjVpND1OjWZ7RVcmujne-_3K3Bgbdb3HAPLceKhE945Uxw6emivk_W8wk2GnvHAp093fmpMiIxzUfdIXaQ2sFt_F3TOb0_-GbQOvZcoDIqVjd8zJ-4tF-wdvc9jq-Ki82j68usgtrSECoOYeSBx9V'], datetime.datetime(2023, 10, 7, 17, 0), '@l_illust45', 'える@skeb募集中', 16350]\n",
      "['pic.twitter.com/IGmG1JIdnP', ['https://rts-pctr.c.yimg.jp/BgIFgYJGVIVv8u0nVJvw8B2FauAYMF4jOP5zFJAV4i6hjVpND1OjWZ7RVcmujne-ceKhfQx3RWtSHY90Cz9DRrIbkwaLcF4DpaZV8rGVqdxWPb_4RhDiikn6OtBf9nx8u6IVh_-_h-GXVxqqCwabR2fhNKSE0AqIUp9fOGMCc2woWVC7JihyxFNNgDg4nbNn'], datetime.datetime(2023, 10, 7, 16, 27), '@ssksati', 'ささきさち', 15]\n",
      "['pic.twitter.com/Ew6zEDnRlv', ['https://rts-pctr.c.yimg.jp/BgIFgYJGVIVv8u0nVJvw8B2FauAYMF4jOP5zFJAV4i6hjVpND1OjWZ7RVcmujne-GLcu5GNPhAHLMsjiXU_Qm0ttEkLN5oaIj-naebtKUMXGAKEfc3deKD5397OeHFqEK8LcXj3kkgrcvvLds_cGP0ut0J9wS00y6SwFX7vIw1X9YBnZeBwpmb8pwRGGWQ0H'], datetime.datetime(2023, 10, 7, 12, 17), '@illustyaakaisan', 'RedWell(レッドウェル)🐧Illustrator', 39]\n",
      "['pic.twitter.com/f63rK5v3hd', ['https://rts-pctr.c.yimg.jp/BgIFgYJGVIVv8u0nVJvw8B2FauAYMF4jOP5zFJAV4i6hjVpND1OjWZ7RVcmujne-1-9r6T_rciliRq6GCuTSkp-akXTMKGXp2nYx4aMaf9LXz_9hvE2DECzbIhlCPrC1ItTLiiuxpPoG5TpPiTwiZLk4vmGdWENfb_X3XBNj4XU5qnvXhi9OJL3pMFX1kUhs'], datetime.datetime(2023, 10, 7, 11, 21), '@ohima_sama88', 'ひまさま', 13]\n",
      "['pic.twitter.com/du8f5XW69G', ['https://rts-pctr.c.yimg.jp/BgIFgYJGVIVv8u0nVJvw8B2FauAYMF4jOP5zFJAV4i6hjVpND1OjWZ7RVcmujne-gJzwivKcIl0CKJa0Yy3MGNIi6H8Guny77tiB1I_6dnY57EF3SkL3XDzq12uO96Jp3PttO8c7E2SyTxKZ_8i32S-o0eSlKPF2DO3o4YenV4ZL2DpKcEkc-gxREK7sNFYP'], datetime.datetime(2023, 10, 7, 10, 0), '@neetangel365', 'にくてん@ホロクル6th H-08', 316]\n",
      "['pic.twitter.com/vg4fcmvdfj', ['https://rts-pctr.c.yimg.jp/BgIFgYJGVIVv8u0nVJvw8B2FauAYMF4jOP5zFJAV4i6hjVpND1OjWZ7RVcmujne-pVKyESqFTTDMbi138-QHkTpv-HHLtzQdrFT_hfomAakDh8Mh3aIu6IywwMCJSswcu0VvOobvt3G1niC_7Px34N28DEDNiqlkv2cV_Ucc0pGwjHHLo9gtAkdR_OWtAIN8', 'https://rts-pctr.c.yimg.jp/BgIFgYJGVIVv8u0nVJvw8B2FauAYMF4jOP5zFJAV4i6hjVpND1OjWZ7RVcmujne-uITJle84E8YVc0PxLK9N3qeNfeKnlaQEfVByAShJPAnWTRMNQofmmk4ekIbmPKF4Gn5to8Q545bxcX0X-kqXx8xZOEYlQTo6cHvSiu9ZBVkVs4aJS5XHf8ATJmFTZIuR', 'https://rts-pctr.c.yimg.jp/BgIFgYJGVIVv8u0nVJvw8B2FauAYMF4jOP5zFJAV4i6hjVpND1OjWZ7RVcmujne-azdMeDalLFDfuVvMVBBYFKzjWfrgiDee9KHJcEwReEbhE5O81XyL2O1XG2UtQtietiOf_GudqJQcP0gCKWYJtW0TLuvJ4P9idGUn6ffa3LUmddHq3BTYMckaxupoHmVk', 'https://rts-pctr.c.yimg.jp/BgIFgYJGVIVv8u0nVJvw8B2FauAYMF4jOP5zFJAV4i6hjVpND1OjWZ7RVcmujne-FXpZMLgzI_QrngydtkWDvg9rw0wOWz31ZYu7zWvANyZARwIcZWJN3Jjug247GT18KODz6H7y421LR-vsKWPP3lnG44ud_-zDhVerMR6GOfTPwpx_H9J6BbU8Pq3gpGUa'], datetime.datetime(2023, 10, 7, 8, 52), '@a0928_m1127', 'Reiya🐚🏴\\u200d☠🌽🍑🚑🌸@🐚最推し', 38]\n",
      "['pic.twitter.com/XJfwbuTBtP', ['https://rts-pctr.c.yimg.jp/BgIFgYJGVIVv8u0nVJvw8B2FauAYMF4jOP5zFJAV4i6hjVpND1OjWZ7RVcmujne--H4kkqFtlmdcUpAjZwUWBm2BfZo0bbcX9xrb1bR226haTty0MgI97ieuLFNELvhN7dk3_bkXWA8d5Rigg3BvhKNFBBVZyKC5ek3MsuUyHZ8e_Tgp8iFviDG3lEzyXhxo'], datetime.datetime(2023, 10, 7, 6, 0), '@Kulibel_', 'くりべる🍙', 865]\n",
      "['pic.twitter.com/Rnzrva3b9n', ['https://rts-pctr.c.yimg.jp/BgIFgYJGVIVv8u0nVJvw8B2FauAYMF4jOP5zFJAV4i6hjVpND1OjWZ7RVcmujne-Rrtqr8Mq8ca6DAr-fV0Bco0G66pRamoU3kms5ZkD4MmjaWDPTvf_KcfRCAhwyZFpipabE5EQxPr0DYTYNICODtj-ugb6w52y0A5N0NZGLV1ec1b5IMPsxVR7p8dnCnKv'], datetime.datetime(2023, 10, 7, 0, 12), '@ajimi_dayo', 'あじみ', 21]\n",
      "['pic.twitter.com/YwibOCRMpe', ['https://rts-pctr.c.yimg.jp/BgIFgYJGVIVv8u0nVJvw8B2FauAYMF4jOP5zFJAV4i6hjVpND1OjWZ7RVcmujne-kjwLTm_0Esa5JR_tWd72G8mYR9YZJDJgsIOM2yY87C-UuG36ATiiJiB_Cib98uzw-XtmeRIk8Fr4WvT_Mh_Y6e0XAj51qtnMpNCjFja8XQYj8aqAR4s0JiKlx3dEDmVk'], datetime.datetime(2023, 10, 7, 0, 7), '@iloveNATOgohan', 'あいらぶNATOごはん', 179]\n",
      "['pic.twitter.com/uZDj8hOvSR', ['https://rts-pctr.c.yimg.jp/BgIFgYJGVIVv8u0nVJvw8B2FauAYMF4jOP5zFJAV4i6hjVpND1OjWZ7RVcmujne-JiYvmgUmciZDaL6WfCuZTRLRMs9xO9FT5w3PA-2zdWtVxVqwWtUPDaeoCLegiYUfwS-4C50bGZqZipOBUQZ-j67ZvOWPDcbasfcIvY0SlxcBhjdWarK8Ucz0_Uaiz8g2'], datetime.datetime(2023, 10, 6, 23, 8), '@neetangel365', 'にくてん@ホロクル6th H-08', 168]\n",
      "['pic.twitter.com/YgMJ70DdUr', ['https://rts-pctr.c.yimg.jp/BgIFgYJGVIVv8u0nVJvw8B2FauAYMF4jOP5zFJAV4i6hjVpND1OjWZ7RVcmujne-kJUtpT2B4VbbWz5IKPMGkbAH-JsFIwixDx0KA4Wliyt492wgjgTaRm8NMuGgPGlWMxWjXPaz7Jq7YJx80l59pzjU6G6ofACiMA49zhf6hW7volDc8AhgZN0PGqtoXA7d'], datetime.datetime(2023, 10, 6, 21, 46), '@cruzango0510', 'くるすあんご（cruzango）', 223]\n",
      "['pic.twitter.com/gT6ACYU5T1', ['https://rts-pctr.c.yimg.jp/BgIFgYJGVIVv8u0nVJvw8B2FauAYMF4jOP5zFJAV4i6hjVpND1OjWZ7RVcmujne-LFxF0MNLsDl8qYfNPIKCxQaxflO6Cerr4h4u2Bv-AZ69oZGuNFtNuyxZEcuDh_MJWEOnkCuMhbbyBAO1mEiC9bisNZeAEx72P8--q3f7kM--qjrUWBdYIppyAougaiIW'], datetime.datetime(2023, 10, 6, 21, 24), '@hiyori_cosplay', '🐥日和\\u3000みこと🐥', 1421]\n",
      "['pic.twitter.com/42S0xx0x6T', ['https://rts-pctr.c.yimg.jp/BgIFgYJGVIVv8u0nVJvw8B2FauAYMF4jOP5zFJAV4i6hjVpND1OjWZ7RVcmujne-MheQqUpQgmgt24ClT18tUa4XfDYtlXuHf9saLrYzcxqH7iKZQnGcjwiCfhWofpQRIM_djRZ7qwjg73YK60sQvrOfW35PrtrwGhN62pIRZEnDvcfKG38rbNUVsRURCqTI'], datetime.datetime(2023, 10, 6, 21, 21), '@CO4S0rPZNb5elP5', 'アールグレイの茶葉', 1238]\n",
      "['pic.twitter.com/jP9A5r4pxt', ['https://rts-pctr.c.yimg.jp/BgIFgYJGVIVv8u0nVJvw8B2FauAYMF4jOP5zFJAV4i6hjVpND1OjWZ7RVcmujne-jGPzvX7mbNI_ZDKl_hasFFO_ugRJf6WTRj2Vd29OuJ17FevfnrL9FAwFeSfVHt_juHxxAt5078zqBXiL4jCXLt-WtSSzjLiJtx9MOASxSuZydkim_fBu6hpnYufQuNgY'], datetime.datetime(2023, 10, 6, 20, 28), '@GaBaiLu', '嘎唄 (ガーベイ)@Taiwan絵描', 261]\n",
      "['pic.twitter.com/hGdhBkNn0W', ['https://rts-pctr.c.yimg.jp/BgIFgYJGVIVv8u0nVJvw8B2FauAYMF4jOP5zFJAV4i6hjVpND1OjWZ7RVcmujne-DsXOvaZFljlU8C4lifoVQwaTy-RtM3bOh2Cy-Xb2YdZJCArme5MSbOdQS31UkYor1rgaGEPi4ExIHpZq-pdbU4GEB8sbt6NtRry8fgQJo7VrDaVQ_UQjz3LKnxBIpQnW'], datetime.datetime(2023, 10, 6, 20, 6), '@twumi425', 'トゥーミ', 3438]\n",
      "['pic.twitter.com/84JW2YSZ5E', ['https://rts-pctr.c.yimg.jp/BgIFgYJGVIVv8u0nVJvw8B2FauAYMF4jOP5zFJAV4i6hjVpND1OjWZ7RVcmujne-qtx0nxgqZjxviPkyZEA6pM1tMB_IE9p9HVaOuu2ePNPvLZDbPx-tMtMpE-cYRsQGzSfHueMsy2SBIT_TDV8XyMU29-uB2CZLfqkW2gg8j5utz3N-EQXdkGnzUoUiCESy'], datetime.datetime(2023, 10, 6, 19, 30), '@Cabeico', 'ガベ子 🖍 嘎唄.Art', 292]\n",
      "['pic.twitter.com/wNCxhQKtzz', ['https://rts-pctr.c.yimg.jp/BgIFgYJGVIVv8u0nVJvw8B2FauAYMF4jOP5zFJAV4i6hjVpND1OjWZ7RVcmujne-2K-ctf_PfY1hlwTwv9Km5i-Av1eFGWzkaaSI-dUXBeahGVSm0WLnSrZnG1oz-lM9up2lS_N1jdmh3Rca6dbltKyl6oA2R13hvQdpphnUTNMWNyT9ZuSoUiRUhOuyoD31'], datetime.datetime(2023, 10, 6, 17, 30), '@Tsumiki_draw', 'ツミキ', 160]\n",
      "['pic.twitter.com/NC9wmdEEf4', ['https://rts-pctr.c.yimg.jp/BgIFgYJGVIVv8u0nVJvw8B2FauAYMF4jOP5zFJAV4i6hjVpND1OjWZ7RVcmujne-ZXSpcbnBoaIDRkPyiCS0KxcjokB7mGRy1sXbfUfpoCJpqE8utus_e0A3D7mmLpRPgZaGRjKHJRrgU_4zVXV5GVyVavaFtMq9iLcvQIQcULEOGcWQeA7E4BmAv4xaStEP'], datetime.datetime(2023, 10, 6, 15, 2), '@Akuto_desu', 'あくと', 426]\n",
      "['pic.twitter.com/AAls3gXd4I', ['https://rts-pctr.c.yimg.jp/BgIFgYJGVIVv8u0nVJvw8B2FauAYMF4jOP5zFJAV4i6hjVpND1OjWZ7RVcmujne-nYI9M9vjiOmkLSCWvQSX7LhgerSEW4gMWCrCyTDyOdJE8rss7yldXwir25NxTaJWDr66bjHaBbgp5ACIiyM4frqmoQLlGWp5KYH5NIN_53xtsqD-VYIIXUm5mAZ56rjj', 'https://rts-pctr.c.yimg.jp/BgIFgYJGVIVv8u0nVJvw8B2FauAYMF4jOP5zFJAV4i6hjVpND1OjWZ7RVcmujne-rYp7rO8pKvf_dNGjPXY4rY63LAg3EZsqXYKmUa7gqCXI6ypIPq93BN4bNCemDV0csUb4RLgWveuYEBMD1fagg3nl-kwI-fEgPVKVEhG7sVOHTMMa_qp8iWQATL6KHFDx'], datetime.datetime(2023, 10, 6, 10, 56), '@SadalsuudMa210', 'まぁ〜ち', 741]\n",
      "['pic.twitter.com/RwnOPUQyAy', ['https://rts-pctr.c.yimg.jp/BgIFgYJGVIVv8u0nVJvw8B2FauAYMF4jOP5zFJAV4i6hjVpND1OjWZ7RVcmujne-uo1UZAjtbD4sf6ZNF31FGtyEDdHQMU6FVGPo1DX7Xa6eAC23kRRwsLQWY0ODtY-L7UJG2O5pCsbmniEfC1FJpb_CtVIm2YX_rN45aQJLNnj5pVuFFkph7jaYWhIAMo95'], datetime.datetime(2023, 10, 6, 10, 3), '@yossie_slime', 'よっし»', 19]\n",
      "['pic.twitter.com/b5ZgB9qUxh', ['https://rts-pctr.c.yimg.jp/BgIFgYJGVIVv8u0nVJvw8B2FauAYMF4jOP5zFJAV4i6hjVpND1OjWZ7RVcmujne-74tYMUD-CZ8k3w7JraOlsH9Ukvgn2wiyyRdcjxedZ-c3ymCrDIbzCddwM5dESKulY1OBLMqWMW023WyqF9TazXmPPAAWM2WSoVe-eE9OqqdZUA7xHn3QJUoWo5WFl8Nq'], datetime.datetime(2023, 10, 6, 7, 0), '@ikayaki_4', 'IKAYAKI🦑🔥\\u3000呑み過ぎシリーズ📦💨✍🦑', 6079]\n",
      "['pic.twitter.com/4n3ddTHUEt', ['https://rts-pctr.c.yimg.jp/BgIFgYJGVIVv8u0nVJvw8B2FauAYMF4jOP5zFJAV4i6hjVpND1OjWZ7RVcmujne-bYXxyBE4E_-i49lHv-W-f3XsjK6oopZDUlZynGpEiE_rTtvPZ-9Pyh_sWtEssXZhMgyKOu0P9gDiFM4LlCTa_oMqWYsIRHMECcCoPqCnwJApaL1cg8oakHzIsQcPGirn'], datetime.datetime(2023, 10, 6, 0, 9), '@CangiMao19564', 'おかか🍙 🥐🌽', 69]\n",
      "['pic.twitter.com/MLdidQg7zA', ['https://rts-pctr.c.yimg.jp/BgIFgYJGVIVv8u0nVJvw8B2FauAYMF4jOP5zFJAV4i6hjVpND1OjWZ7RVcmujne-BhLrgJBuWcKe4J0Ddc5n0jqhrTGozlcsafyw23U9XHXIecJegvtw7vkYDyVTO87Q8rLAvRMgYP_tZr_-c5s7QmdHTP34sAFh64_G1CjAUKdsaqgF1xDofeh7rwG_JrHt'], datetime.datetime(2023, 10, 5, 23, 44), '@gorooon0402', 'ごろー＊', 3333]\n",
      "['pic.twitter.com/xQ5ZzjsU1i', ['https://rts-pctr.c.yimg.jp/BgIFgYJGVIVv8u0nVJvw8B2FauAYMF4jOP5zFJAV4i6hjVpND1OjWZ7RVcmujne-JfbcLDPuV0JXsHR3hqbQuQQBra_O_zqDV1tQlPWpMBkYoE8JXqbH5gbfow6mBQmAsZf2G76W31GOX65QPYjtP9yVjOLCZ_cBlIkuguPD89icJ49xZZ1GwU_EqHRRPIuo'], datetime.datetime(2023, 10, 5, 23, 23), '@neetangel365', 'にくてん@ホロクル6th H-08', 234]\n"
     ]
    },
    {
     "name": "stderr",
     "output_type": "stream",
     "text": [
      "\n"
     ]
    }
   ],
   "source": [
    "from bs4 import BeautifulSoup\n",
    "from tqdm import tqdm\n",
    "#Import-------------------------------------------------------------------------------\n",
    "from io import StringIO, BytesIO\n",
    "import os\n",
    "import re\n",
    "from time import sleep\n",
    "import random\n",
    "from urllib import request\n",
    "import requests\n",
    "import chromedriver_autoinstaller\n",
    "from webdriver_manager.chrome import ChromeDriverManager\n",
    "from selenium.common.exceptions import NoSuchElementException\n",
    "from selenium import webdriver\n",
    "from selenium.webdriver.chrome.options import Options as ChromeOptions\n",
    "from selenium.webdriver.firefox.options import Options as FirefoxOptions\n",
    "from selenium.webdriver.chrome.service import Service\n",
    "import datetime\n",
    "import pandas as pd\n",
    "import platform\n",
    "from selenium.webdriver.common.keys import Keys\n",
    "\n",
    "from bs4 import BeautifulSoup\n",
    "\n",
    "from selenium.webdriver.support.wait import WebDriverWait\n",
    "from selenium.webdriver.support import expected_conditions as EC\n",
    "from selenium.webdriver.common.by import By\n",
    "import urllib\n",
    "from urllib.parse import quote\n",
    "\n",
    "#-------------------------------------------------------------------------------------\n",
    "# 現在の日時を取得\n",
    "now = datetime.datetime.now()\n",
    "date_time = datetime.datetime.now()\n",
    "tweets = []\n",
    "load_flag = 3\n",
    "load_now = 0\n",
    "while(True):\n",
    "\n",
    "    #ツイートのリストを取得\n",
    "    soup = BeautifulSoup(driver.page_source, 'html.parser')\n",
    "    tweet_links = soup.find_all('div', class_='Tweet_bodyContainer__n_Cs6')#Tweet_bodyContainer__n_Cs6\n",
    "\n",
    "    #ツイートから各要素を取得\n",
    "\n",
    "    for tweet in tqdm(tweet_links):\n",
    "        url = ''\n",
    "        try:\n",
    "            url = [link for link in tweet.find_all('a') if 'pic.twitter.com' in link.text][0].text#ツイートリンク\n",
    "        except:\n",
    "            url = ''\n",
    "        try:\n",
    "            images = [i['src'] for i in [link for link in tweet.find('div','Tweet_imageContainerWrapper__wPE0R').find_all('img') if 'https://rts-pctr.c.yimg.jp' in link['src']]]#画像のリスト\n",
    "        except:\n",
    "            images = []\n",
    "        like_count = 0#いいねっ\n",
    "        try:\n",
    "            like_count = int([a for a in tweet.find_all('a') if 'like' in a.get('href','')][0].find('span').text.replace(',',''))\n",
    "        except:\n",
    "            like_count = 0\n",
    "        user_name = tweet.find('a','Tweet_authorID__B1U8c').text#ユーザーID\n",
    "        display_name = tweet.find('span','Tweet_authorName__V3waK').text#ユーザー名\n",
    "        \n",
    "        date_text = tweet.find('time').text\n",
    "        date_time = date_parse(date_text)\n",
    "\n",
    "        if like_count >= 10 and len(images) > 0 and len([t for t in tweets if url == t[0]]) == 0 and url != '':\n",
    "            tweets.append([\n",
    "                url,\n",
    "                images,\n",
    "                date_time,\n",
    "                user_name,\n",
    "                display_name,\n",
    "                like_count\n",
    "            ])\n",
    "    print(f'tweet count -> {len(tweets)}')\n",
    "    if (now - date_time).days > date:\n",
    "        print('datetime',date_time)\n",
    "        print(f'date over => {(now - date_time).days}/{date}')\n",
    "        break\n",
    "\n",
    "    #一番下までスクロール\n",
    "    for ind in range(8):\n",
    "        driver.execute_script(\"window.scrollTo(0, document.body.scrollHeight);\")\n",
    "        sleep(0.25)\n",
    "    sleep(3)\n",
    "    try:\n",
    "        load_btn = driver.find_element(By.LINK_TEXT,\"もっと見る\")\n",
    "        load_btn.click()\n",
    "    except:\n",
    "        load_now = load_now + 1\n",
    "        \n",
    "    if load_now >= load_flag:\n",
    "        print(f'button over => {load_now} / {load_flag}')\n",
    "        break\n",
    "    \n",
    "\n",
    "for t in tweets:\n",
    "    print(t)\n"
   ]
  },
  {
   "cell_type": "code",
   "execution_count": 4,
   "metadata": {},
   "outputs": [
    {
     "name": "stdout",
     "output_type": "stream",
     "text": [
      "9月10日 17:01\n"
     ]
    }
   ],
   "source": [
    "input_string = '9月10日(日) 17:01'\n",
    "output_string = re.sub(r'\\([^)]*\\)', '', input_string)\n",
    "print(output_string)"
   ]
  },
  {
   "cell_type": "code",
   "execution_count": 20,
   "metadata": {
    "tags": []
   },
   "outputs": [
    {
     "ename": "NameError",
     "evalue": "name 'HoloName' is not defined",
     "output_type": "error",
     "traceback": [
      "\u001b[0;31m---------------------------------------------------------------------------\u001b[0m",
      "\u001b[0;31mNameError\u001b[0m                                 Traceback (most recent call last)",
      "Cell \u001b[0;32mIn[20], line 13\u001b[0m\n\u001b[1;32m     11\u001b[0m     hashtag \u001b[38;5;241m=\u001b[39m row[\u001b[38;5;124m\"\u001b[39m\u001b[38;5;124mhashtag\u001b[39m\u001b[38;5;124m\"\u001b[39m]\n\u001b[1;32m     12\u001b[0m     url \u001b[38;5;241m=\u001b[39m row[\u001b[38;5;124m\"\u001b[39m\u001b[38;5;124murl\u001b[39m\u001b[38;5;124m\"\u001b[39m]\n\u001b[0;32m---> 13\u001b[0m     rec \u001b[38;5;241m=\u001b[39m HoloName(hashtag,url)\n\u001b[1;32m     14\u001b[0m     records\u001b[38;5;241m.\u001b[39mappend(rec)\n\u001b[1;32m     15\u001b[0m \u001b[38;5;28mprint\u001b[39m(row)\n",
      "\u001b[0;31mNameError\u001b[0m: name 'HoloName' is not defined"
     ]
    }
   ],
   "source": [
    "import os\n",
    "import pandas as pd\n",
    "\n",
    "\n",
    "base_path = './'\n",
    "holo_path = os.path.join(base_path, \"options\", \"HoloFanArt.csv\")\n",
    "df = pd.read_csv(holo_path)\n",
    "records = []\n",
    "for index, row in df.iterrows():\n",
    "    r = row\n",
    "    hashtag = row[\"hashtag\"]\n",
    "    url = row[\"url\"]\n",
    "    rec = HoloName(hashtag,url)\n",
    "    records.append(rec)\n",
    "print(row)"
   ]
  },
  {
   "cell_type": "code",
   "execution_count": 16,
   "metadata": {
    "tags": []
   },
   "outputs": [
    {
     "name": "stdout",
     "output_type": "stream",
     "text": [
      "url    https://hololive.hololivepro.com/wp-content/up...\n",
      "Name: #soraArt, dtype: object\n"
     ]
    }
   ],
   "source": [
    "print(row)"
   ]
  },
  {
   "cell_type": "code",
   "execution_count": 13,
   "metadata": {
    "tags": []
   },
   "outputs": [
    {
     "name": "stdout",
     "output_type": "stream",
     "text": [
      "https://hololive.hololivepro.com/wp-content/uploads/2021/05/tokino_sora_thumb.png\n"
     ]
    }
   ],
   "source": [
    "print(row['url'])"
   ]
  },
  {
   "cell_type": "code",
   "execution_count": 19,
   "metadata": {
    "tags": []
   },
   "outputs": [
    {
     "data": {
      "text/html": [
       "<div>\n",
       "<style scoped>\n",
       "    .dataframe tbody tr th:only-of-type {\n",
       "        vertical-align: middle;\n",
       "    }\n",
       "\n",
       "    .dataframe tbody tr th {\n",
       "        vertical-align: top;\n",
       "    }\n",
       "\n",
       "    .dataframe thead th {\n",
       "        text-align: right;\n",
       "    }\n",
       "</style>\n",
       "<table border=\"1\" class=\"dataframe\">\n",
       "  <thead>\n",
       "    <tr style=\"text-align: right;\">\n",
       "      <th></th>\n",
       "      <th>url</th>\n",
       "    </tr>\n",
       "    <tr>\n",
       "      <th>hashtag</th>\n",
       "      <th></th>\n",
       "    </tr>\n",
       "  </thead>\n",
       "  <tbody>\n",
       "    <tr>\n",
       "      <th>#soraArt</th>\n",
       "      <td>https://hololive.hololivepro.com/wp-content/up...</td>\n",
       "    </tr>\n",
       "    <tr>\n",
       "      <th>#ロボ子Art</th>\n",
       "      <td>https://hololive.hololivepro.com/wp-content/up...</td>\n",
       "    </tr>\n",
       "    <tr>\n",
       "      <th>#miko_Art</th>\n",
       "      <td>https://hololive.hololivepro.com/wp-content/up...</td>\n",
       "    </tr>\n",
       "    <tr>\n",
       "      <th>#ほしまちぎゃらりー</th>\n",
       "      <td>https://hololive.hololivepro.com/wp-content/up...</td>\n",
       "    </tr>\n",
       "    <tr>\n",
       "      <th>#AZKiART</th>\n",
       "      <td>https://hololive.hololivepro.com/wp-content/up...</td>\n",
       "    </tr>\n",
       "    <tr>\n",
       "      <th>...</th>\n",
       "      <td>...</td>\n",
       "    </tr>\n",
       "    <tr>\n",
       "      <th>#Artnose</th>\n",
       "      <td>https://hololive.hololivepro.com/wp-content/up...</td>\n",
       "    </tr>\n",
       "    <tr>\n",
       "      <th>#ririkart</th>\n",
       "      <td>https://hololive.hololivepro.com/wp-content/up...</td>\n",
       "    </tr>\n",
       "    <tr>\n",
       "      <th>#らでん似絵</th>\n",
       "      <td>https://hololive.hololivepro.com/wp-content/up...</td>\n",
       "    </tr>\n",
       "    <tr>\n",
       "      <th>#はじめ武勇伝</th>\n",
       "      <td>https://hololive.hololivepro.com/wp-content/up...</td>\n",
       "    </tr>\n",
       "    <tr>\n",
       "      <th>#AIart #hololive</th>\n",
       "      <td>https://i.pximg.net/img-master/img/2023/04/01/...</td>\n",
       "    </tr>\n",
       "  </tbody>\n",
       "</table>\n",
       "<p>77 rows × 1 columns</p>\n",
       "</div>"
      ],
      "text/plain": [
       "                                                                url\n",
       "hashtag                                                            \n",
       "#soraArt          https://hololive.hololivepro.com/wp-content/up...\n",
       "#ロボ子Art           https://hololive.hololivepro.com/wp-content/up...\n",
       "#miko_Art         https://hololive.hololivepro.com/wp-content/up...\n",
       "#ほしまちぎゃらりー        https://hololive.hololivepro.com/wp-content/up...\n",
       "#AZKiART          https://hololive.hololivepro.com/wp-content/up...\n",
       "...                                                             ...\n",
       "#Artnose          https://hololive.hololivepro.com/wp-content/up...\n",
       "#ririkart         https://hololive.hololivepro.com/wp-content/up...\n",
       "#らでん似絵            https://hololive.hololivepro.com/wp-content/up...\n",
       "#はじめ武勇伝           https://hololive.hololivepro.com/wp-content/up...\n",
       "#AIart #hololive  https://i.pximg.net/img-master/img/2023/04/01/...\n",
       "\n",
       "[77 rows x 1 columns]"
      ]
     },
     "execution_count": 19,
     "metadata": {},
     "output_type": "execute_result"
    }
   ],
   "source": [
    "df"
   ]
  },
  {
   "cell_type": "code",
   "execution_count": null,
   "metadata": {},
   "outputs": [],
   "source": []
  }
 ],
 "metadata": {
  "kernelspec": {
   "display_name": "Python 3 (ipykernel)",
   "language": "python",
   "name": "python3"
  },
  "language_info": {
   "codemirror_mode": {
    "name": "ipython",
    "version": 3
   },
   "file_extension": ".py",
   "mimetype": "text/x-python",
   "name": "python",
   "nbconvert_exporter": "python",
   "pygments_lexer": "ipython3",
   "version": "3.11.5"
  }
 },
 "nbformat": 4,
 "nbformat_minor": 4
}
